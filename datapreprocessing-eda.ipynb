{
 "cells": [
  {
   "cell_type": "code",
   "execution_count": 1,
   "id": "brutal-poland",
   "metadata": {
    "execution": {
     "iopub.execute_input": "2022-01-22T17:42:17.383308Z",
     "iopub.status.busy": "2022-01-22T17:42:17.378243Z",
     "iopub.status.idle": "2022-01-22T17:42:20.128331Z",
     "shell.execute_reply": "2022-01-22T17:42:20.128848Z",
     "shell.execute_reply.started": "2022-01-22T16:50:15.097910Z"
    },
    "papermill": {
     "duration": 2.909474,
     "end_time": "2022-01-22T17:42:20.129206",
     "exception": false,
     "start_time": "2022-01-22T17:42:17.219732",
     "status": "completed"
    },
    "tags": []
   },
   "outputs": [],
   "source": [
    "import pandas as pd \n",
    "import numpy as np\n",
    "from datetime import timedelta\n",
    "import missingno as msno\n",
    "from scipy import stats\n",
    "import statistics\n",
    "import seaborn as sns\n",
    "import matplotlib.pyplot as plt \n",
    "import plotly.express as px\n",
    "import warnings\n",
    "warnings.filterwarnings(\"ignore\")"
   ]
  },
  {
   "cell_type": "code",
   "execution_count": 2,
   "id": "latest-potter",
   "metadata": {
    "execution": {
     "iopub.execute_input": "2022-01-22T17:42:20.449501Z",
     "iopub.status.busy": "2022-01-22T17:42:20.448838Z",
     "iopub.status.idle": "2022-01-22T17:42:46.656764Z",
     "shell.execute_reply": "2022-01-22T17:42:46.655944Z",
     "shell.execute_reply.started": "2022-01-22T16:50:15.110359Z"
    },
    "papermill": {
     "duration": 26.363074,
     "end_time": "2022-01-22T17:42:46.656909",
     "exception": false,
     "start_time": "2022-01-22T17:42:20.293835",
     "status": "completed"
    },
    "tags": []
   },
   "outputs": [],
   "source": [
    "df=pd.read_csv(r'../input/covid19-case-surveillance-public-use-dataset/COVID-19_Case_Surveillance_Public_Use_Data.csv')\n"
   ]
  },
  {
   "cell_type": "code",
   "execution_count": 3,
   "id": "horizontal-drill",
   "metadata": {
    "execution": {
     "iopub.execute_input": "2022-01-22T17:42:46.965903Z",
     "iopub.status.busy": "2022-01-22T17:42:46.965257Z",
     "iopub.status.idle": "2022-01-22T17:42:46.992690Z",
     "shell.execute_reply": "2022-01-22T17:42:46.992116Z",
     "shell.execute_reply.started": "2022-01-22T16:50:28.381189Z"
    },
    "papermill": {
     "duration": 0.18581,
     "end_time": "2022-01-22T17:42:46.992829",
     "exception": false,
     "start_time": "2022-01-22T17:42:46.807019",
     "status": "completed"
    },
    "tags": []
   },
   "outputs": [
    {
     "data": {
      "text/html": [
       "<div>\n",
       "<style scoped>\n",
       "    .dataframe tbody tr th:only-of-type {\n",
       "        vertical-align: middle;\n",
       "    }\n",
       "\n",
       "    .dataframe tbody tr th {\n",
       "        vertical-align: top;\n",
       "    }\n",
       "\n",
       "    .dataframe thead th {\n",
       "        text-align: right;\n",
       "    }\n",
       "</style>\n",
       "<table border=\"1\" class=\"dataframe\">\n",
       "  <thead>\n",
       "    <tr style=\"text-align: right;\">\n",
       "      <th></th>\n",
       "      <th>cdc_report_dt</th>\n",
       "      <th>pos_spec_dt</th>\n",
       "      <th>onset_dt</th>\n",
       "      <th>current_status</th>\n",
       "      <th>sex</th>\n",
       "      <th>age_group</th>\n",
       "      <th>Race and ethnicity (combined)</th>\n",
       "      <th>hosp_yn</th>\n",
       "      <th>icu_yn</th>\n",
       "      <th>death_yn</th>\n",
       "      <th>medcond_yn</th>\n",
       "    </tr>\n",
       "  </thead>\n",
       "  <tbody>\n",
       "    <tr>\n",
       "      <th>0</th>\n",
       "      <td>2020/11/10</td>\n",
       "      <td>2020/11/10</td>\n",
       "      <td>NaN</td>\n",
       "      <td>Laboratory-confirmed case</td>\n",
       "      <td>Male</td>\n",
       "      <td>10 - 19 Years</td>\n",
       "      <td>Black, Non-Hispanic</td>\n",
       "      <td>No</td>\n",
       "      <td>Unknown</td>\n",
       "      <td>No</td>\n",
       "      <td>No</td>\n",
       "    </tr>\n",
       "    <tr>\n",
       "      <th>1</th>\n",
       "      <td>2020/11/14</td>\n",
       "      <td>2020/11/10</td>\n",
       "      <td>2020/11/10</td>\n",
       "      <td>Laboratory-confirmed case</td>\n",
       "      <td>Male</td>\n",
       "      <td>10 - 19 Years</td>\n",
       "      <td>Black, Non-Hispanic</td>\n",
       "      <td>No</td>\n",
       "      <td>No</td>\n",
       "      <td>No</td>\n",
       "      <td>No</td>\n",
       "    </tr>\n",
       "    <tr>\n",
       "      <th>2</th>\n",
       "      <td>2020/11/19</td>\n",
       "      <td>2020/11/10</td>\n",
       "      <td>2020/11/09</td>\n",
       "      <td>Laboratory-confirmed case</td>\n",
       "      <td>Male</td>\n",
       "      <td>10 - 19 Years</td>\n",
       "      <td>Black, Non-Hispanic</td>\n",
       "      <td>No</td>\n",
       "      <td>No</td>\n",
       "      <td>No</td>\n",
       "      <td>No</td>\n",
       "    </tr>\n",
       "  </tbody>\n",
       "</table>\n",
       "</div>"
      ],
      "text/plain": [
       "  cdc_report_dt pos_spec_dt    onset_dt             current_status   sex  \\\n",
       "0    2020/11/10  2020/11/10         NaN  Laboratory-confirmed case  Male   \n",
       "1    2020/11/14  2020/11/10  2020/11/10  Laboratory-confirmed case  Male   \n",
       "2    2020/11/19  2020/11/10  2020/11/09  Laboratory-confirmed case  Male   \n",
       "\n",
       "       age_group Race and ethnicity (combined) hosp_yn   icu_yn death_yn  \\\n",
       "0  10 - 19 Years           Black, Non-Hispanic      No  Unknown       No   \n",
       "1  10 - 19 Years           Black, Non-Hispanic      No       No       No   \n",
       "2  10 - 19 Years           Black, Non-Hispanic      No       No       No   \n",
       "\n",
       "  medcond_yn  \n",
       "0         No  \n",
       "1         No  \n",
       "2         No  "
      ]
     },
     "execution_count": 3,
     "metadata": {},
     "output_type": "execute_result"
    }
   ],
   "source": [
    "df.head(3)"
   ]
  },
  {
   "cell_type": "code",
   "execution_count": 4,
   "id": "quick-repository",
   "metadata": {
    "execution": {
     "iopub.execute_input": "2022-01-22T17:42:47.293116Z",
     "iopub.status.busy": "2022-01-22T17:42:47.292290Z",
     "iopub.status.idle": "2022-01-22T17:42:47.304726Z",
     "shell.execute_reply": "2022-01-22T17:42:47.305292Z",
     "shell.execute_reply.started": "2022-01-22T16:50:28.400366Z"
    },
    "papermill": {
     "duration": 0.163242,
     "end_time": "2022-01-22T17:42:47.305454",
     "exception": false,
     "start_time": "2022-01-22T17:42:47.142212",
     "status": "completed"
    },
    "tags": []
   },
   "outputs": [
    {
     "data": {
      "text/html": [
       "<div>\n",
       "<style scoped>\n",
       "    .dataframe tbody tr th:only-of-type {\n",
       "        vertical-align: middle;\n",
       "    }\n",
       "\n",
       "    .dataframe tbody tr th {\n",
       "        vertical-align: top;\n",
       "    }\n",
       "\n",
       "    .dataframe thead th {\n",
       "        text-align: right;\n",
       "    }\n",
       "</style>\n",
       "<table border=\"1\" class=\"dataframe\">\n",
       "  <thead>\n",
       "    <tr style=\"text-align: right;\">\n",
       "      <th></th>\n",
       "      <th>cdc_report_dt</th>\n",
       "      <th>pos_spec_dt</th>\n",
       "      <th>onset_dt</th>\n",
       "      <th>current_status</th>\n",
       "      <th>sex</th>\n",
       "      <th>age_group</th>\n",
       "      <th>Race and ethnicity (combined)</th>\n",
       "      <th>hosp_yn</th>\n",
       "      <th>icu_yn</th>\n",
       "      <th>death_yn</th>\n",
       "      <th>medcond_yn</th>\n",
       "    </tr>\n",
       "  </thead>\n",
       "  <tbody>\n",
       "    <tr>\n",
       "      <th>8405076</th>\n",
       "      <td>2020/07/18</td>\n",
       "      <td>NaN</td>\n",
       "      <td>NaN</td>\n",
       "      <td>Laboratory-confirmed case</td>\n",
       "      <td>Missing</td>\n",
       "      <td>30 - 39 Years</td>\n",
       "      <td>Unknown</td>\n",
       "      <td>Missing</td>\n",
       "      <td>Missing</td>\n",
       "      <td>Missing</td>\n",
       "      <td>Missing</td>\n",
       "    </tr>\n",
       "    <tr>\n",
       "      <th>8405077</th>\n",
       "      <td>2020/11/19</td>\n",
       "      <td>NaN</td>\n",
       "      <td>NaN</td>\n",
       "      <td>Laboratory-confirmed case</td>\n",
       "      <td>Missing</td>\n",
       "      <td>30 - 39 Years</td>\n",
       "      <td>Unknown</td>\n",
       "      <td>Missing</td>\n",
       "      <td>Missing</td>\n",
       "      <td>Missing</td>\n",
       "      <td>Missing</td>\n",
       "    </tr>\n",
       "    <tr>\n",
       "      <th>8405078</th>\n",
       "      <td>2020/11/03</td>\n",
       "      <td>NaN</td>\n",
       "      <td>NaN</td>\n",
       "      <td>Laboratory-confirmed case</td>\n",
       "      <td>Missing</td>\n",
       "      <td>30 - 39 Years</td>\n",
       "      <td>Unknown</td>\n",
       "      <td>No</td>\n",
       "      <td>Unknown</td>\n",
       "      <td>No</td>\n",
       "      <td>Missing</td>\n",
       "    </tr>\n",
       "  </tbody>\n",
       "</table>\n",
       "</div>"
      ],
      "text/plain": [
       "        cdc_report_dt pos_spec_dt onset_dt             current_status  \\\n",
       "8405076    2020/07/18         NaN      NaN  Laboratory-confirmed case   \n",
       "8405077    2020/11/19         NaN      NaN  Laboratory-confirmed case   \n",
       "8405078    2020/11/03         NaN      NaN  Laboratory-confirmed case   \n",
       "\n",
       "             sex      age_group Race and ethnicity (combined)  hosp_yn  \\\n",
       "8405076  Missing  30 - 39 Years                       Unknown  Missing   \n",
       "8405077  Missing  30 - 39 Years                       Unknown  Missing   \n",
       "8405078  Missing  30 - 39 Years                       Unknown       No   \n",
       "\n",
       "          icu_yn death_yn medcond_yn  \n",
       "8405076  Missing  Missing    Missing  \n",
       "8405077  Missing  Missing    Missing  \n",
       "8405078  Unknown       No    Missing  "
      ]
     },
     "execution_count": 4,
     "metadata": {},
     "output_type": "execute_result"
    }
   ],
   "source": [
    "df.tail(3)"
   ]
  },
  {
   "cell_type": "code",
   "execution_count": 5,
   "id": "direct-antique",
   "metadata": {
    "execution": {
     "iopub.execute_input": "2022-01-22T17:42:47.607529Z",
     "iopub.status.busy": "2022-01-22T17:42:47.606606Z",
     "iopub.status.idle": "2022-01-22T17:42:47.611982Z",
     "shell.execute_reply": "2022-01-22T17:42:47.611506Z",
     "shell.execute_reply.started": "2022-01-22T16:50:28.418793Z"
    },
    "papermill": {
     "duration": 0.15774,
     "end_time": "2022-01-22T17:42:47.612154",
     "exception": false,
     "start_time": "2022-01-22T17:42:47.454414",
     "status": "completed"
    },
    "tags": []
   },
   "outputs": [
    {
     "name": "stdout",
     "output_type": "stream",
     "text": [
      "The number of columns present in a dataset are: 11\n",
      "The number of rows present in a dataset are: 8405079\n"
     ]
    }
   ],
   "source": [
    "print(\"The number of columns present in a dataset are:\",df.shape[1])\n",
    "print(\"The number of rows present in a dataset are:\",df.shape[0])"
   ]
  },
  {
   "cell_type": "code",
   "execution_count": 6,
   "id": "blocked-jumping",
   "metadata": {
    "execution": {
     "iopub.execute_input": "2022-01-22T17:42:47.812692Z",
     "iopub.status.busy": "2022-01-22T17:42:47.812184Z",
     "iopub.status.idle": "2022-01-22T17:42:47.817367Z",
     "shell.execute_reply": "2022-01-22T17:42:47.817822Z",
     "shell.execute_reply.started": "2022-01-22T16:50:28.430345Z"
    },
    "papermill": {
     "duration": 0.106631,
     "end_time": "2022-01-22T17:42:47.818011",
     "exception": false,
     "start_time": "2022-01-22T17:42:47.711380",
     "status": "completed"
    },
    "tags": []
   },
   "outputs": [
    {
     "data": {
      "text/plain": [
       "Index(['cdc_report_dt', 'pos_spec_dt', 'onset_dt', 'current_status', 'sex',\n",
       "       'age_group', 'Race and ethnicity (combined)', 'hosp_yn', 'icu_yn',\n",
       "       'death_yn', 'medcond_yn'],\n",
       "      dtype='object')"
      ]
     },
     "execution_count": 6,
     "metadata": {},
     "output_type": "execute_result"
    }
   ],
   "source": [
    "df.columns"
   ]
  },
  {
   "cell_type": "markdown",
   "id": "mysterious-crowd",
   "metadata": {
    "papermill": {
     "duration": 0.09744,
     "end_time": "2022-01-22T17:42:48.011982",
     "exception": false,
     "start_time": "2022-01-22T17:42:47.914542",
     "status": "completed"
    },
    "tags": []
   },
   "source": [
    "# Column Description\n",
    "\n",
    "1.cdc_report_dt - earlier clinical dates related to illness or specimen collection\n",
    "\n",
    "2.pos_spec_dt   - date at which column name was submitted to the database\n",
    "\n",
    "3.onset_dt      - date of the symptoms shown\n",
    "\n",
    "4.sex           - gender of a person\n",
    "\n",
    "5.age_group     - various age groups of a person\n",
    "\n",
    "6.Race and ethnicity - social group or clutural tradition of a person\n",
    "\n",
    "7.hosp_yn       - status of admission in hospitial \n",
    "\n",
    "8.icu_yn        - status of admission in ICU\n",
    "\n",
    "9.death_yn      - did the patient died as a result of this illness\n",
    "\n",
    "10.medcond_yn   - status of pre-existing medical condition"
   ]
  },
  {
   "cell_type": "code",
   "execution_count": 7,
   "id": "connected-graduate",
   "metadata": {
    "execution": {
     "iopub.execute_input": "2022-01-22T17:42:48.213145Z",
     "iopub.status.busy": "2022-01-22T17:42:48.212631Z",
     "iopub.status.idle": "2022-01-22T17:42:48.231339Z",
     "shell.execute_reply": "2022-01-22T17:42:48.230849Z",
     "shell.execute_reply.started": "2022-01-22T16:50:28.444616Z"
    },
    "papermill": {
     "duration": 0.120461,
     "end_time": "2022-01-22T17:42:48.231466",
     "exception": false,
     "start_time": "2022-01-22T17:42:48.111005",
     "status": "completed"
    },
    "tags": []
   },
   "outputs": [
    {
     "name": "stdout",
     "output_type": "stream",
     "text": [
      "<class 'pandas.core.frame.DataFrame'>\n",
      "RangeIndex: 8405079 entries, 0 to 8405078\n",
      "Data columns (total 11 columns):\n",
      " #   Column                         Dtype \n",
      "---  ------                         ----- \n",
      " 0   cdc_report_dt                  object\n",
      " 1   pos_spec_dt                    object\n",
      " 2   onset_dt                       object\n",
      " 3   current_status                 object\n",
      " 4   sex                            object\n",
      " 5   age_group                      object\n",
      " 6   Race and ethnicity (combined)  object\n",
      " 7   hosp_yn                        object\n",
      " 8   icu_yn                         object\n",
      " 9   death_yn                       object\n",
      " 10  medcond_yn                     object\n",
      "dtypes: object(11)\n",
      "memory usage: 705.4+ MB\n"
     ]
    }
   ],
   "source": [
    "#data type of various columns\n",
    "df.info()"
   ]
  },
  {
   "cell_type": "code",
   "execution_count": 8,
   "id": "widespread-match",
   "metadata": {
    "execution": {
     "iopub.execute_input": "2022-01-22T17:42:48.432000Z",
     "iopub.status.busy": "2022-01-22T17:42:48.431549Z",
     "iopub.status.idle": "2022-01-22T17:42:58.425882Z",
     "shell.execute_reply": "2022-01-22T17:42:58.425322Z",
     "shell.execute_reply.started": "2022-01-22T16:50:28.464060Z"
    },
    "papermill": {
     "duration": 10.095647,
     "end_time": "2022-01-22T17:42:58.425999",
     "exception": false,
     "start_time": "2022-01-22T17:42:48.330352",
     "status": "completed"
    },
    "tags": []
   },
   "outputs": [],
   "source": [
    "#Changing object to datetime \n",
    "df['cdc_report_dt']=pd.to_datetime(df['cdc_report_dt'])\n",
    "\n",
    "df['onset_dt']=pd.to_datetime(df.onset_dt)\n",
    "df['pos_spec_dt']=pd.to_datetime(df.pos_spec_dt)\n"
   ]
  },
  {
   "cell_type": "code",
   "execution_count": 9,
   "id": "whole-resort",
   "metadata": {
    "execution": {
     "iopub.execute_input": "2022-01-22T17:42:58.638683Z",
     "iopub.status.busy": "2022-01-22T17:42:58.637922Z",
     "iopub.status.idle": "2022-01-22T17:42:58.641222Z",
     "shell.execute_reply": "2022-01-22T17:42:58.641613Z",
     "shell.execute_reply.started": "2022-01-22T16:50:35.061959Z"
    },
    "papermill": {
     "duration": 0.115772,
     "end_time": "2022-01-22T17:42:58.641753",
     "exception": false,
     "start_time": "2022-01-22T17:42:58.525981",
     "status": "completed"
    },
    "tags": []
   },
   "outputs": [
    {
     "name": "stdout",
     "output_type": "stream",
     "text": [
      "<class 'pandas.core.frame.DataFrame'>\n",
      "RangeIndex: 8405079 entries, 0 to 8405078\n",
      "Data columns (total 11 columns):\n",
      " #   Column                         Dtype         \n",
      "---  ------                         -----         \n",
      " 0   cdc_report_dt                  datetime64[ns]\n",
      " 1   pos_spec_dt                    datetime64[ns]\n",
      " 2   onset_dt                       datetime64[ns]\n",
      " 3   current_status                 object        \n",
      " 4   sex                            object        \n",
      " 5   age_group                      object        \n",
      " 6   Race and ethnicity (combined)  object        \n",
      " 7   hosp_yn                        object        \n",
      " 8   icu_yn                         object        \n",
      " 9   death_yn                       object        \n",
      " 10  medcond_yn                     object        \n",
      "dtypes: datetime64[ns](3), object(8)\n",
      "memory usage: 705.4+ MB\n"
     ]
    }
   ],
   "source": [
    "#checking the datatypes\n",
    "df.info()"
   ]
  },
  {
   "cell_type": "code",
   "execution_count": 10,
   "id": "elect-gates",
   "metadata": {
    "execution": {
     "iopub.execute_input": "2022-01-22T17:42:58.840996Z",
     "iopub.status.busy": "2022-01-22T17:42:58.840346Z",
     "iopub.status.idle": "2022-01-22T17:43:05.179715Z",
     "shell.execute_reply": "2022-01-22T17:43:05.180158Z",
     "shell.execute_reply.started": "2022-01-22T16:50:35.077813Z"
    },
    "papermill": {
     "duration": 6.440466,
     "end_time": "2022-01-22T17:43:05.180300",
     "exception": false,
     "start_time": "2022-01-22T17:42:58.739834",
     "status": "completed"
    },
    "tags": []
   },
   "outputs": [
    {
     "data": {
      "text/plain": [
       "cdc_report_dt                          0\n",
       "pos_spec_dt                      5534290\n",
       "onset_dt                         4009122\n",
       "current_status                         0\n",
       "sex                                   18\n",
       "age_group                             89\n",
       "Race and ethnicity (combined)          7\n",
       "hosp_yn                                0\n",
       "icu_yn                                 0\n",
       "death_yn                               0\n",
       "medcond_yn                             0\n",
       "dtype: int64"
      ]
     },
     "execution_count": 10,
     "metadata": {},
     "output_type": "execute_result"
    }
   ],
   "source": [
    "#After changing the columns datatype let's check for missing in the dataset\n",
    "df.isnull().sum()"
   ]
  },
  {
   "cell_type": "code",
   "execution_count": 11,
   "id": "global-given",
   "metadata": {
    "execution": {
     "iopub.execute_input": "2022-01-22T17:43:05.381532Z",
     "iopub.status.busy": "2022-01-22T17:43:05.380854Z",
     "iopub.status.idle": "2022-01-22T17:43:09.577685Z",
     "shell.execute_reply": "2022-01-22T17:43:09.577124Z",
     "shell.execute_reply.started": "2022-01-22T16:50:37.735193Z"
    },
    "papermill": {
     "duration": 4.298229,
     "end_time": "2022-01-22T17:43:09.577803",
     "exception": false,
     "start_time": "2022-01-22T17:43:05.279574",
     "status": "completed"
    },
    "tags": []
   },
   "outputs": [
    {
     "name": "stdout",
     "output_type": "stream",
     "text": [
      "cdc_ \t\t 0.0 %\n",
      "pos_ \t\t 65.8446 %\n",
      "onse \t\t 47.6988 %\n",
      "curr \t\t 0.0 %\n",
      "sex \t\t 0.0002 %\n",
      "age_ \t\t 0.0011 %\n",
      "Race \t\t 0.0001 %\n",
      "hosp \t\t 0.0 %\n",
      "icu_ \t\t 0.0 %\n",
      "deat \t\t 0.0 %\n",
      "medc \t\t 0.0 %\n"
     ]
    }
   ],
   "source": [
    "#Percentage of missing values in each columns would be considered better for understanding\n",
    "\n",
    "def percentage_of_missing():\n",
    "    t=df.columns \n",
    "    for i in t:\n",
    "        t=(df[i].isnull().sum())/df.shape[0]\n",
    "        print(i[:4],'\\t\\t',round(t*100,4),'%')\n",
    "percentage_of_missing()"
   ]
  },
  {
   "cell_type": "code",
   "execution_count": 12,
   "id": "swiss-appliance",
   "metadata": {
    "execution": {
     "iopub.execute_input": "2022-01-22T17:43:16.134916Z",
     "iopub.status.busy": "2022-01-22T17:43:16.134363Z",
     "iopub.status.idle": "2022-01-22T17:43:51.856259Z",
     "shell.execute_reply": "2022-01-22T17:43:51.856826Z",
     "shell.execute_reply.started": "2022-01-22T16:50:40.356921Z"
    },
    "papermill": {
     "duration": 42.179104,
     "end_time": "2022-01-22T17:43:51.856997",
     "exception": false,
     "start_time": "2022-01-22T17:43:09.677893",
     "status": "completed"
    },
    "tags": []
   },
   "outputs": [
    {
     "data": {
      "text/plain": [
       "<AxesSubplot:>"
      ]
     },
     "execution_count": 12,
     "metadata": {},
     "output_type": "execute_result"
    },
    {
     "data": {
      "image/png": "[encoded data removed]",
      "text/plain": [
       "<Figure size 1800x720 with 2 Axes>"
      ]
     },
     "metadata": {
      "needs_background": "light"
     },
     "output_type": "display_data"
    }
   ],
   "source": [
    "msno.matrix(df)\n"
   ]
  },
  {
   "cell_type": "code",
   "execution_count": 13,
   "id": "infectious-prerequisite",
   "metadata": {
    "execution": {
     "iopub.execute_input": "2022-01-22T17:43:52.246594Z",
     "iopub.status.busy": "2022-01-22T17:43:52.245736Z",
     "iopub.status.idle": "2022-01-22T17:44:02.396216Z",
     "shell.execute_reply": "2022-01-22T17:44:02.395613Z",
     "shell.execute_reply.started": "2022-01-22T16:51:16.926094Z"
    },
    "papermill": {
     "duration": 10.383172,
     "end_time": "2022-01-22T17:44:02.396358",
     "exception": false,
     "start_time": "2022-01-22T17:43:52.013186",
     "status": "completed"
    },
    "tags": []
   },
   "outputs": [
    {
     "data": {
      "text/plain": [
       "<AxesSubplot:>"
      ]
     },
     "execution_count": 13,
     "metadata": {},
     "output_type": "execute_result"
    },
    {
     "data": {
      "image/png": "[encoded data removed]",
      "text/plain": [
       "<Figure size 1440x864 with 2 Axes>"
      ]
     },
     "metadata": {
      "needs_background": "light"
     },
     "output_type": "display_data"
    }
   ],
   "source": [
    "#Heatmap with msno helps to know how strongly the presence or absence of one variable affects the presence of another\n",
    "msno.heatmap(df)"
   ]
  },
  {
   "cell_type": "markdown",
   "id": "defined-version",
   "metadata": {
    "papermill": {
     "duration": 0.102368,
     "end_time": "2022-01-22T17:44:02.616894",
     "exception": false,
     "start_time": "2022-01-22T17:44:02.514526",
     "status": "completed"
    },
    "tags": []
   },
   "source": []
  },
  {
   "cell_type": "code",
   "execution_count": 14,
   "id": "specified-affair",
   "metadata": {
    "execution": {
     "iopub.execute_input": "2022-01-22T17:44:02.825814Z",
     "iopub.status.busy": "2022-01-22T17:44:02.825146Z",
     "iopub.status.idle": "2022-01-22T17:44:10.348054Z",
     "shell.execute_reply": "2022-01-22T17:44:10.347493Z",
     "shell.execute_reply.started": "2022-01-22T16:51:24.892681Z"
    },
    "papermill": {
     "duration": 7.627444,
     "end_time": "2022-01-22T17:44:10.348175",
     "exception": false,
     "start_time": "2022-01-22T17:44:02.720731",
     "status": "completed"
    },
    "tags": []
   },
   "outputs": [
    {
     "data": {
      "text/plain": [
       "<AxesSubplot:>"
      ]
     },
     "execution_count": 14,
     "metadata": {},
     "output_type": "execute_result"
    },
    {
     "data": {
      "image/png": "[encoded data removed]",
      "text/plain": [
       "<Figure size 1800x720 with 1 Axes>"
      ]
     },
     "metadata": {
      "needs_background": "light"
     },
     "output_type": "display_data"
    }
   ],
   "source": [
    " msno.dendrogram(df)"
   ]
  },
  {
   "cell_type": "markdown",
   "id": "annoying-combine",
   "metadata": {
    "papermill": {
     "duration": 0.136166,
     "end_time": "2022-01-22T17:44:10.588740",
     "exception": false,
     "start_time": "2022-01-22T17:44:10.452574",
     "status": "completed"
    },
    "tags": []
   },
   "source": [
    " \n"
   ]
  },
  {
   "cell_type": "markdown",
   "id": "distant-retirement",
   "metadata": {
    "papermill": {
     "duration": 0.1626,
     "end_time": "2022-01-22T17:44:10.910367",
     "exception": false,
     "start_time": "2022-01-22T17:44:10.747767",
     "status": "completed"
    },
    "tags": []
   },
   "source": [
    " # DataPreprocessing"
   ]
  },
  {
   "cell_type": "code",
   "execution_count": 15,
   "id": "pleasant-plant",
   "metadata": {
    "execution": {
     "iopub.execute_input": "2022-01-22T17:44:11.197823Z",
     "iopub.status.busy": "2022-01-22T17:44:11.197283Z",
     "iopub.status.idle": "2022-01-22T17:44:13.887597Z",
     "shell.execute_reply": "2022-01-22T17:44:13.887066Z",
     "shell.execute_reply.started": "2022-01-22T16:51:30.625595Z"
    },
    "papermill": {
     "duration": 2.857407,
     "end_time": "2022-01-22T17:44:13.887712",
     "exception": false,
     "start_time": "2022-01-22T17:44:11.030305",
     "status": "completed"
    },
    "tags": []
   },
   "outputs": [],
   "source": [
    "\n",
    "#Instead of deleting the columns pos_spec_dt and onset_pos_difference we will try to fill the missing values by taking the difference between them.\n",
    "df['onset_pos_difference'] = (df['onset_dt'] -df['pos_spec_dt'][df.pos_spec_dt.notnull()]).dt.days\n",
    "df['pos_difference'] = (df['cdc_report_dt'] -df['pos_spec_dt'][df.pos_spec_dt.notnull()]).dt.days\n",
    "df['onset_difference'] = (df['cdc_report_dt'] -df['onset_dt'][df.onset_dt.notnull()]).dt.days"
   ]
  },
  {
   "cell_type": "code",
   "execution_count": 16,
   "id": "dramatic-roman",
   "metadata": {
    "execution": {
     "iopub.execute_input": "2022-01-22T17:44:14.108115Z",
     "iopub.status.busy": "2022-01-22T17:44:14.107573Z",
     "iopub.status.idle": "2022-01-22T17:44:14.872974Z",
     "shell.execute_reply": "2022-01-22T17:44:14.872499Z",
     "shell.execute_reply.started": "2022-01-22T16:51:34.813438Z"
    },
    "papermill": {
     "duration": 0.878331,
     "end_time": "2022-01-22T17:44:14.873105",
     "exception": false,
     "start_time": "2022-01-22T17:44:13.994774",
     "status": "completed"
    },
    "tags": []
   },
   "outputs": [
    {
     "name": "stdout",
     "output_type": "stream",
     "text": [
      "on_pos_set:- -2.7329561721383886 -2.0 0    0.0\n",
      "dtype: float64\n",
      "onset_set:- 14.321092995222656 8.0 0    0.0\n",
      "dtype: float64\n",
      "pos_difference:- 3.6323136252786257 0    0.0\n",
      "dtype: float64 2.0\n"
     ]
    }
   ],
   "source": [
    "print('on_pos_set:-',df['onset_pos_difference'].mean(),df['onset_pos_difference'].median(),df['onset_pos_difference'].mode())\n",
    "\n",
    "print('onset_set:-',df['onset_difference'].mean(),df['onset_difference'].median(),df['onset_difference'].mode())\n",
    "\n",
    "print('pos_difference:-',df['pos_difference'].mean(),df['pos_difference'].mode(),df['pos_difference'].median())\n"
   ]
  },
  {
   "cell_type": "code",
   "execution_count": 17,
   "id": "independent-machine",
   "metadata": {
    "execution": {
     "iopub.execute_input": "2022-01-22T17:44:15.087359Z",
     "iopub.status.busy": "2022-01-22T17:44:15.086792Z",
     "iopub.status.idle": "2022-01-22T17:44:15.271221Z",
     "shell.execute_reply": "2022-01-22T17:44:15.271618Z",
     "shell.execute_reply.started": "2022-01-22T16:51:35.735075Z"
    },
    "papermill": {
     "duration": 0.294487,
     "end_time": "2022-01-22T17:44:15.271776",
     "exception": false,
     "start_time": "2022-01-22T17:44:14.977289",
     "status": "completed"
    },
    "tags": []
   },
   "outputs": [],
   "source": [
    "df['onset_dt'].fillna(df.cdc_report_dt + timedelta(days=2), inplace = True)\n",
    "\n",
    "df['pos_spec_dt'].fillna(df.cdc_report_dt+timedelta(days=2),inplace=True)"
   ]
  },
  {
   "cell_type": "code",
   "execution_count": 18,
   "id": "thermal-gabriel",
   "metadata": {
    "execution": {
     "iopub.execute_input": "2022-01-22T17:44:15.488931Z",
     "iopub.status.busy": "2022-01-22T17:44:15.488413Z",
     "iopub.status.idle": "2022-01-22T17:44:16.484069Z",
     "shell.execute_reply": "2022-01-22T17:44:16.483477Z",
     "shell.execute_reply.started": "2022-01-22T16:51:36.026494Z"
    },
    "papermill": {
     "duration": 1.105254,
     "end_time": "2022-01-22T17:44:16.484199",
     "exception": false,
     "start_time": "2022-01-22T17:44:15.378945",
     "status": "completed"
    },
    "tags": []
   },
   "outputs": [],
   "source": [
    "#Extracting month \n",
    "df['month_cdc']=df['cdc_report_dt'].dt.month\n",
    "#Extracting week\n",
    "df['week_cdc']=df['cdc_report_dt'].dt.week"
   ]
  },
  {
   "cell_type": "code",
   "execution_count": 19,
   "id": "crude-registrar",
   "metadata": {
    "execution": {
     "iopub.execute_input": "2022-01-22T17:44:16.701535Z",
     "iopub.status.busy": "2022-01-22T17:44:16.700980Z",
     "iopub.status.idle": "2022-01-22T17:44:17.601507Z",
     "shell.execute_reply": "2022-01-22T17:44:17.601873Z",
     "shell.execute_reply.started": "2022-01-22T16:51:38.036194Z"
    },
    "papermill": {
     "duration": 1.010152,
     "end_time": "2022-01-22T17:44:17.602049",
     "exception": false,
     "start_time": "2022-01-22T17:44:16.591897",
     "status": "completed"
    },
    "tags": []
   },
   "outputs": [],
   "source": [
    "df.drop(columns=['onset_pos_difference','onset_difference','pos_difference'],inplace=True)"
   ]
  },
  {
   "cell_type": "code",
   "execution_count": 20,
   "id": "conservative-occupation",
   "metadata": {
    "execution": {
     "iopub.execute_input": "2022-01-22T17:44:17.820603Z",
     "iopub.status.busy": "2022-01-22T17:44:17.820132Z",
     "iopub.status.idle": "2022-01-22T17:44:24.175160Z",
     "shell.execute_reply": "2022-01-22T17:44:24.174614Z",
     "shell.execute_reply.started": "2022-01-22T16:51:39.384098Z"
    },
    "papermill": {
     "duration": 6.465528,
     "end_time": "2022-01-22T17:44:24.175281",
     "exception": false,
     "start_time": "2022-01-22T17:44:17.709753",
     "status": "completed"
    },
    "tags": []
   },
   "outputs": [
    {
     "data": {
      "text/plain": [
       "cdc_report_dt                     0\n",
       "pos_spec_dt                       0\n",
       "onset_dt                          0\n",
       "current_status                    0\n",
       "sex                              18\n",
       "age_group                        89\n",
       "Race and ethnicity (combined)     7\n",
       "hosp_yn                           0\n",
       "icu_yn                            0\n",
       "death_yn                          0\n",
       "medcond_yn                        0\n",
       "month_cdc                         0\n",
       "week_cdc                          0\n",
       "dtype: int64"
      ]
     },
     "execution_count": 20,
     "metadata": {},
     "output_type": "execute_result"
    }
   ],
   "source": [
    "df.isnull().sum()"
   ]
  },
  {
   "cell_type": "code",
   "execution_count": 21,
   "id": "precise-athletics",
   "metadata": {
    "execution": {
     "iopub.execute_input": "2022-01-22T17:44:24.392468Z",
     "iopub.status.busy": "2022-01-22T17:44:24.391707Z",
     "iopub.status.idle": "2022-01-22T17:44:24.786270Z",
     "shell.execute_reply": "2022-01-22T17:44:24.785715Z",
     "shell.execute_reply.started": "2022-01-22T16:51:42.066110Z"
    },
    "papermill": {
     "duration": 0.50587,
     "end_time": "2022-01-22T17:44:24.786423",
     "exception": false,
     "start_time": "2022-01-22T17:44:24.280553",
     "status": "completed"
    },
    "tags": []
   },
   "outputs": [
    {
     "data": {
      "text/plain": [
       "array(['Male', 'Unknown', 'Missing', 'Female', 'Other', nan], dtype=object)"
      ]
     },
     "execution_count": 21,
     "metadata": {},
     "output_type": "execute_result"
    }
   ],
   "source": [
    "df.sex.unique()"
   ]
  },
  {
   "cell_type": "code",
   "execution_count": 22,
   "id": "reasonable-eugene",
   "metadata": {
    "execution": {
     "iopub.execute_input": "2022-01-22T17:44:25.732467Z",
     "iopub.status.busy": "2022-01-22T17:44:25.731765Z",
     "iopub.status.idle": "2022-01-22T17:44:25.739944Z",
     "shell.execute_reply": "2022-01-22T17:44:25.739528Z",
     "shell.execute_reply.started": "2022-01-22T16:51:42.538860Z"
    },
    "papermill": {
     "duration": 0.789702,
     "end_time": "2022-01-22T17:44:25.740095",
     "exception": false,
     "start_time": "2022-01-22T17:44:24.950393",
     "status": "completed"
    },
    "tags": []
   },
   "outputs": [
    {
     "data": {
      "text/plain": [
       "Female     4340898\n",
       "Male       3970591\n",
       "Unknown      73845\n",
       "Missing      19520\n",
       "Other          207\n",
       "Name: sex, dtype: int64"
      ]
     },
     "execution_count": 22,
     "metadata": {},
     "output_type": "execute_result"
    }
   ],
   "source": [
    "df['sex'].value_counts()"
   ]
  },
  {
   "cell_type": "code",
   "execution_count": 23,
   "id": "quiet-jefferson",
   "metadata": {
    "execution": {
     "iopub.execute_input": "2022-01-22T17:44:26.197470Z",
     "iopub.status.busy": "2022-01-22T17:44:26.196954Z",
     "iopub.status.idle": "2022-01-22T17:44:26.237973Z",
     "shell.execute_reply": "2022-01-22T17:44:26.238375Z",
     "shell.execute_reply.started": "2022-01-22T16:51:43.317914Z"
    },
    "papermill": {
     "duration": 0.391755,
     "end_time": "2022-01-22T17:44:26.238531",
     "exception": false,
     "start_time": "2022-01-22T17:44:25.846776",
     "status": "completed"
    },
    "tags": []
   },
   "outputs": [
    {
     "data": {
      "text/html": [
       "<div>\n",
       "<style scoped>\n",
       "    .dataframe tbody tr th:only-of-type {\n",
       "        vertical-align: middle;\n",
       "    }\n",
       "\n",
       "    .dataframe tbody tr th {\n",
       "        vertical-align: top;\n",
       "    }\n",
       "\n",
       "    .dataframe thead th {\n",
       "        text-align: right;\n",
       "    }\n",
       "</style>\n",
       "<table border=\"1\" class=\"dataframe\">\n",
       "  <thead>\n",
       "    <tr style=\"text-align: right;\">\n",
       "      <th></th>\n",
       "      <th>cdc_report_dt</th>\n",
       "      <th>pos_spec_dt</th>\n",
       "      <th>onset_dt</th>\n",
       "      <th>current_status</th>\n",
       "      <th>sex</th>\n",
       "      <th>age_group</th>\n",
       "      <th>Race and ethnicity (combined)</th>\n",
       "      <th>hosp_yn</th>\n",
       "      <th>icu_yn</th>\n",
       "      <th>death_yn</th>\n",
       "      <th>medcond_yn</th>\n",
       "      <th>month_cdc</th>\n",
       "      <th>week_cdc</th>\n",
       "    </tr>\n",
       "  </thead>\n",
       "  <tbody>\n",
       "    <tr>\n",
       "      <th>3736390</th>\n",
       "      <td>2020-11-01</td>\n",
       "      <td>2020-11-03</td>\n",
       "      <td>2020-11-03</td>\n",
       "      <td>Laboratory-confirmed case</td>\n",
       "      <td>Missing</td>\n",
       "      <td>NaN</td>\n",
       "      <td>Asian, Non-Hispanic</td>\n",
       "      <td>No</td>\n",
       "      <td>Unknown</td>\n",
       "      <td>No</td>\n",
       "      <td>Missing</td>\n",
       "      <td>11</td>\n",
       "      <td>44</td>\n",
       "    </tr>\n",
       "    <tr>\n",
       "      <th>3736391</th>\n",
       "      <td>2020-09-21</td>\n",
       "      <td>2020-09-23</td>\n",
       "      <td>2020-09-13</td>\n",
       "      <td>Laboratory-confirmed case</td>\n",
       "      <td>Missing</td>\n",
       "      <td>NaN</td>\n",
       "      <td>Asian, Non-Hispanic</td>\n",
       "      <td>No</td>\n",
       "      <td>Missing</td>\n",
       "      <td>No</td>\n",
       "      <td>Missing</td>\n",
       "      <td>9</td>\n",
       "      <td>39</td>\n",
       "    </tr>\n",
       "    <tr>\n",
       "      <th>3736392</th>\n",
       "      <td>2020-11-07</td>\n",
       "      <td>2020-11-09</td>\n",
       "      <td>2020-10-31</td>\n",
       "      <td>Laboratory-confirmed case</td>\n",
       "      <td>Missing</td>\n",
       "      <td>NaN</td>\n",
       "      <td>Asian, Non-Hispanic</td>\n",
       "      <td>No</td>\n",
       "      <td>Missing</td>\n",
       "      <td>Missing</td>\n",
       "      <td>Missing</td>\n",
       "      <td>11</td>\n",
       "      <td>45</td>\n",
       "    </tr>\n",
       "    <tr>\n",
       "      <th>3736393</th>\n",
       "      <td>2020-07-02</td>\n",
       "      <td>2020-07-04</td>\n",
       "      <td>2020-07-04</td>\n",
       "      <td>Laboratory-confirmed case</td>\n",
       "      <td>Missing</td>\n",
       "      <td>NaN</td>\n",
       "      <td>Asian, Non-Hispanic</td>\n",
       "      <td>No</td>\n",
       "      <td>Missing</td>\n",
       "      <td>No</td>\n",
       "      <td>Missing</td>\n",
       "      <td>7</td>\n",
       "      <td>27</td>\n",
       "    </tr>\n",
       "    <tr>\n",
       "      <th>3736394</th>\n",
       "      <td>2020-08-29</td>\n",
       "      <td>2020-08-31</td>\n",
       "      <td>2020-08-27</td>\n",
       "      <td>Laboratory-confirmed case</td>\n",
       "      <td>Other</td>\n",
       "      <td>NaN</td>\n",
       "      <td>Black, Non-Hispanic</td>\n",
       "      <td>Yes</td>\n",
       "      <td>No</td>\n",
       "      <td>No</td>\n",
       "      <td>Missing</td>\n",
       "      <td>8</td>\n",
       "      <td>35</td>\n",
       "    </tr>\n",
       "    <tr>\n",
       "      <th>3736395</th>\n",
       "      <td>2020-11-09</td>\n",
       "      <td>2020-11-11</td>\n",
       "      <td>2020-11-04</td>\n",
       "      <td>Laboratory-confirmed case</td>\n",
       "      <td>Other</td>\n",
       "      <td>NaN</td>\n",
       "      <td>Multiple/Other, Non-Hispanic</td>\n",
       "      <td>No</td>\n",
       "      <td>Missing</td>\n",
       "      <td>No</td>\n",
       "      <td>Missing</td>\n",
       "      <td>11</td>\n",
       "      <td>46</td>\n",
       "    </tr>\n",
       "    <tr>\n",
       "      <th>3736396</th>\n",
       "      <td>2020-10-15</td>\n",
       "      <td>2020-10-17</td>\n",
       "      <td>2020-10-15</td>\n",
       "      <td>Laboratory-confirmed case</td>\n",
       "      <td>Other</td>\n",
       "      <td>NaN</td>\n",
       "      <td>Multiple/Other, Non-Hispanic</td>\n",
       "      <td>No</td>\n",
       "      <td>No</td>\n",
       "      <td>No</td>\n",
       "      <td>Yes</td>\n",
       "      <td>10</td>\n",
       "      <td>42</td>\n",
       "    </tr>\n",
       "    <tr>\n",
       "      <th>3736397</th>\n",
       "      <td>2020-11-19</td>\n",
       "      <td>2020-11-21</td>\n",
       "      <td>2020-11-10</td>\n",
       "      <td>Laboratory-confirmed case</td>\n",
       "      <td>Other</td>\n",
       "      <td>NaN</td>\n",
       "      <td>Multiple/Other, Non-Hispanic</td>\n",
       "      <td>No</td>\n",
       "      <td>Missing</td>\n",
       "      <td>No</td>\n",
       "      <td>Missing</td>\n",
       "      <td>11</td>\n",
       "      <td>47</td>\n",
       "    </tr>\n",
       "    <tr>\n",
       "      <th>3736398</th>\n",
       "      <td>2020-08-21</td>\n",
       "      <td>2020-08-23</td>\n",
       "      <td>2020-08-23</td>\n",
       "      <td>Laboratory-confirmed case</td>\n",
       "      <td>Unknown</td>\n",
       "      <td>NaN</td>\n",
       "      <td>Native Hawaiian/Other Pacific Islander, Non-Hi...</td>\n",
       "      <td>Missing</td>\n",
       "      <td>Missing</td>\n",
       "      <td>Missing</td>\n",
       "      <td>Missing</td>\n",
       "      <td>8</td>\n",
       "      <td>34</td>\n",
       "    </tr>\n",
       "    <tr>\n",
       "      <th>3736399</th>\n",
       "      <td>2020-06-24</td>\n",
       "      <td>2020-06-26</td>\n",
       "      <td>2020-06-01</td>\n",
       "      <td>Laboratory-confirmed case</td>\n",
       "      <td>Unknown</td>\n",
       "      <td>NaN</td>\n",
       "      <td>Native Hawaiian/Other Pacific Islander, Non-Hi...</td>\n",
       "      <td>No</td>\n",
       "      <td>Unknown</td>\n",
       "      <td>Unknown</td>\n",
       "      <td>Missing</td>\n",
       "      <td>6</td>\n",
       "      <td>26</td>\n",
       "    </tr>\n",
       "    <tr>\n",
       "      <th>3736400</th>\n",
       "      <td>2020-11-15</td>\n",
       "      <td>2020-11-17</td>\n",
       "      <td>2020-11-07</td>\n",
       "      <td>Laboratory-confirmed case</td>\n",
       "      <td>Unknown</td>\n",
       "      <td>NaN</td>\n",
       "      <td>Native Hawaiian/Other Pacific Islander, Non-Hi...</td>\n",
       "      <td>Yes</td>\n",
       "      <td>Missing</td>\n",
       "      <td>No</td>\n",
       "      <td>Missing</td>\n",
       "      <td>11</td>\n",
       "      <td>46</td>\n",
       "    </tr>\n",
       "    <tr>\n",
       "      <th>3736401</th>\n",
       "      <td>2020-11-10</td>\n",
       "      <td>2020-11-12</td>\n",
       "      <td>2020-11-12</td>\n",
       "      <td>Laboratory-confirmed case</td>\n",
       "      <td>NaN</td>\n",
       "      <td>NaN</td>\n",
       "      <td>Asian, Non-Hispanic</td>\n",
       "      <td>Missing</td>\n",
       "      <td>Missing</td>\n",
       "      <td>Missing</td>\n",
       "      <td>Missing</td>\n",
       "      <td>11</td>\n",
       "      <td>46</td>\n",
       "    </tr>\n",
       "    <tr>\n",
       "      <th>3736402</th>\n",
       "      <td>2020-09-22</td>\n",
       "      <td>2020-09-24</td>\n",
       "      <td>2020-09-24</td>\n",
       "      <td>Laboratory-confirmed case</td>\n",
       "      <td>NaN</td>\n",
       "      <td>NaN</td>\n",
       "      <td>Asian, Non-Hispanic</td>\n",
       "      <td>Missing</td>\n",
       "      <td>Missing</td>\n",
       "      <td>Missing</td>\n",
       "      <td>Missing</td>\n",
       "      <td>9</td>\n",
       "      <td>39</td>\n",
       "    </tr>\n",
       "    <tr>\n",
       "      <th>3736403</th>\n",
       "      <td>2020-11-06</td>\n",
       "      <td>2020-11-08</td>\n",
       "      <td>2020-10-29</td>\n",
       "      <td>Laboratory-confirmed case</td>\n",
       "      <td>NaN</td>\n",
       "      <td>NaN</td>\n",
       "      <td>Asian, Non-Hispanic</td>\n",
       "      <td>No</td>\n",
       "      <td>Missing</td>\n",
       "      <td>No</td>\n",
       "      <td>Missing</td>\n",
       "      <td>11</td>\n",
       "      <td>45</td>\n",
       "    </tr>\n",
       "    <tr>\n",
       "      <th>3736404</th>\n",
       "      <td>2020-08-12</td>\n",
       "      <td>2020-08-14</td>\n",
       "      <td>2020-08-14</td>\n",
       "      <td>Laboratory-confirmed case</td>\n",
       "      <td>NaN</td>\n",
       "      <td>NaN</td>\n",
       "      <td>NaN</td>\n",
       "      <td>Missing</td>\n",
       "      <td>Missing</td>\n",
       "      <td>Missing</td>\n",
       "      <td>Missing</td>\n",
       "      <td>8</td>\n",
       "      <td>33</td>\n",
       "    </tr>\n",
       "    <tr>\n",
       "      <th>3736405</th>\n",
       "      <td>2020-10-17</td>\n",
       "      <td>2020-10-19</td>\n",
       "      <td>2020-10-17</td>\n",
       "      <td>Laboratory-confirmed case</td>\n",
       "      <td>Other</td>\n",
       "      <td>NaN</td>\n",
       "      <td>Hispanic/Latino</td>\n",
       "      <td>No</td>\n",
       "      <td>No</td>\n",
       "      <td>No</td>\n",
       "      <td>Yes</td>\n",
       "      <td>10</td>\n",
       "      <td>42</td>\n",
       "    </tr>\n",
       "    <tr>\n",
       "      <th>3736406</th>\n",
       "      <td>2020-06-10</td>\n",
       "      <td>2020-06-12</td>\n",
       "      <td>2020-06-12</td>\n",
       "      <td>Probable Case</td>\n",
       "      <td>Other</td>\n",
       "      <td>NaN</td>\n",
       "      <td>Hispanic/Latino</td>\n",
       "      <td>Unknown</td>\n",
       "      <td>Unknown</td>\n",
       "      <td>No</td>\n",
       "      <td>Yes</td>\n",
       "      <td>6</td>\n",
       "      <td>24</td>\n",
       "    </tr>\n",
       "    <tr>\n",
       "      <th>3736407</th>\n",
       "      <td>2020-07-10</td>\n",
       "      <td>2020-07-12</td>\n",
       "      <td>2020-07-12</td>\n",
       "      <td>Laboratory-confirmed case</td>\n",
       "      <td>Other</td>\n",
       "      <td>NaN</td>\n",
       "      <td>Hispanic/Latino</td>\n",
       "      <td>Missing</td>\n",
       "      <td>Missing</td>\n",
       "      <td>Missing</td>\n",
       "      <td>Missing</td>\n",
       "      <td>7</td>\n",
       "      <td>28</td>\n",
       "    </tr>\n",
       "    <tr>\n",
       "      <th>3736408</th>\n",
       "      <td>2020-06-10</td>\n",
       "      <td>2020-06-12</td>\n",
       "      <td>2020-04-10</td>\n",
       "      <td>Probable Case</td>\n",
       "      <td>Other</td>\n",
       "      <td>NaN</td>\n",
       "      <td>Hispanic/Latino</td>\n",
       "      <td>No</td>\n",
       "      <td>Unknown</td>\n",
       "      <td>No</td>\n",
       "      <td>Yes</td>\n",
       "      <td>6</td>\n",
       "      <td>24</td>\n",
       "    </tr>\n",
       "    <tr>\n",
       "      <th>3736409</th>\n",
       "      <td>2020-07-17</td>\n",
       "      <td>2020-07-19</td>\n",
       "      <td>2020-07-10</td>\n",
       "      <td>Laboratory-confirmed case</td>\n",
       "      <td>Other</td>\n",
       "      <td>NaN</td>\n",
       "      <td>Hispanic/Latino</td>\n",
       "      <td>No</td>\n",
       "      <td>Missing</td>\n",
       "      <td>No</td>\n",
       "      <td>Missing</td>\n",
       "      <td>7</td>\n",
       "      <td>29</td>\n",
       "    </tr>\n",
       "    <tr>\n",
       "      <th>3736410</th>\n",
       "      <td>2020-06-15</td>\n",
       "      <td>2020-06-17</td>\n",
       "      <td>2020-06-17</td>\n",
       "      <td>Laboratory-confirmed case</td>\n",
       "      <td>Other</td>\n",
       "      <td>NaN</td>\n",
       "      <td>Hispanic/Latino</td>\n",
       "      <td>Missing</td>\n",
       "      <td>Missing</td>\n",
       "      <td>Missing</td>\n",
       "      <td>Missing</td>\n",
       "      <td>6</td>\n",
       "      <td>25</td>\n",
       "    </tr>\n",
       "    <tr>\n",
       "      <th>3736411</th>\n",
       "      <td>2020-06-10</td>\n",
       "      <td>2020-06-12</td>\n",
       "      <td>2020-03-30</td>\n",
       "      <td>Laboratory-confirmed case</td>\n",
       "      <td>NaN</td>\n",
       "      <td>NaN</td>\n",
       "      <td>Native Hawaiian/Other Pacific Islander, Non-Hi...</td>\n",
       "      <td>No</td>\n",
       "      <td>Unknown</td>\n",
       "      <td>No</td>\n",
       "      <td>Yes</td>\n",
       "      <td>6</td>\n",
       "      <td>24</td>\n",
       "    </tr>\n",
       "    <tr>\n",
       "      <th>3736412</th>\n",
       "      <td>2020-11-19</td>\n",
       "      <td>2020-11-21</td>\n",
       "      <td>2020-11-21</td>\n",
       "      <td>Probable Case</td>\n",
       "      <td>NaN</td>\n",
       "      <td>NaN</td>\n",
       "      <td>Native Hawaiian/Other Pacific Islander, Non-Hi...</td>\n",
       "      <td>Missing</td>\n",
       "      <td>Missing</td>\n",
       "      <td>Missing</td>\n",
       "      <td>Missing</td>\n",
       "      <td>11</td>\n",
       "      <td>47</td>\n",
       "    </tr>\n",
       "    <tr>\n",
       "      <th>3736413</th>\n",
       "      <td>2020-10-20</td>\n",
       "      <td>2020-10-22</td>\n",
       "      <td>2020-10-19</td>\n",
       "      <td>Laboratory-confirmed case</td>\n",
       "      <td>NaN</td>\n",
       "      <td>NaN</td>\n",
       "      <td>Native Hawaiian/Other Pacific Islander, Non-Hi...</td>\n",
       "      <td>Missing</td>\n",
       "      <td>Missing</td>\n",
       "      <td>Missing</td>\n",
       "      <td>Missing</td>\n",
       "      <td>10</td>\n",
       "      <td>43</td>\n",
       "    </tr>\n",
       "    <tr>\n",
       "      <th>3736414</th>\n",
       "      <td>2020-07-14</td>\n",
       "      <td>2020-07-16</td>\n",
       "      <td>2020-07-16</td>\n",
       "      <td>Laboratory-confirmed case</td>\n",
       "      <td>NaN</td>\n",
       "      <td>NaN</td>\n",
       "      <td>Native Hawaiian/Other Pacific Islander, Non-Hi...</td>\n",
       "      <td>No</td>\n",
       "      <td>No</td>\n",
       "      <td>Missing</td>\n",
       "      <td>Missing</td>\n",
       "      <td>7</td>\n",
       "      <td>29</td>\n",
       "    </tr>\n",
       "    <tr>\n",
       "      <th>3736415</th>\n",
       "      <td>2020-06-10</td>\n",
       "      <td>2020-06-12</td>\n",
       "      <td>2020-06-12</td>\n",
       "      <td>Probable Case</td>\n",
       "      <td>Other</td>\n",
       "      <td>NaN</td>\n",
       "      <td>Unknown</td>\n",
       "      <td>Unknown</td>\n",
       "      <td>Unknown</td>\n",
       "      <td>No</td>\n",
       "      <td>Unknown</td>\n",
       "      <td>6</td>\n",
       "      <td>24</td>\n",
       "    </tr>\n",
       "    <tr>\n",
       "      <th>3736416</th>\n",
       "      <td>2020-06-12</td>\n",
       "      <td>2020-06-14</td>\n",
       "      <td>2020-04-17</td>\n",
       "      <td>Laboratory-confirmed case</td>\n",
       "      <td>Other</td>\n",
       "      <td>NaN</td>\n",
       "      <td>Unknown</td>\n",
       "      <td>Missing</td>\n",
       "      <td>Missing</td>\n",
       "      <td>Missing</td>\n",
       "      <td>Missing</td>\n",
       "      <td>6</td>\n",
       "      <td>24</td>\n",
       "    </tr>\n",
       "    <tr>\n",
       "      <th>3736417</th>\n",
       "      <td>2020-06-10</td>\n",
       "      <td>2020-06-12</td>\n",
       "      <td>2020-03-30</td>\n",
       "      <td>Probable Case</td>\n",
       "      <td>Other</td>\n",
       "      <td>NaN</td>\n",
       "      <td>Unknown</td>\n",
       "      <td>No</td>\n",
       "      <td>Unknown</td>\n",
       "      <td>No</td>\n",
       "      <td>Unknown</td>\n",
       "      <td>6</td>\n",
       "      <td>24</td>\n",
       "    </tr>\n",
       "    <tr>\n",
       "      <th>3736418</th>\n",
       "      <td>2020-06-10</td>\n",
       "      <td>2020-06-12</td>\n",
       "      <td>2020-04-03</td>\n",
       "      <td>Probable Case</td>\n",
       "      <td>Other</td>\n",
       "      <td>NaN</td>\n",
       "      <td>Unknown</td>\n",
       "      <td>No</td>\n",
       "      <td>Unknown</td>\n",
       "      <td>No</td>\n",
       "      <td>Yes</td>\n",
       "      <td>6</td>\n",
       "      <td>24</td>\n",
       "    </tr>\n",
       "  </tbody>\n",
       "</table>\n",
       "</div>"
      ],
      "text/plain": [
       "        cdc_report_dt pos_spec_dt   onset_dt             current_status  \\\n",
       "3736390    2020-11-01  2020-11-03 2020-11-03  Laboratory-confirmed case   \n",
       "3736391    2020-09-21  2020-09-23 2020-09-13  Laboratory-confirmed case   \n",
       "3736392    2020-11-07  2020-11-09 2020-10-31  Laboratory-confirmed case   \n",
       "3736393    2020-07-02  2020-07-04 2020-07-04  Laboratory-confirmed case   \n",
       "3736394    2020-08-29  2020-08-31 2020-08-27  Laboratory-confirmed case   \n",
       "3736395    2020-11-09  2020-11-11 2020-11-04  Laboratory-confirmed case   \n",
       "3736396    2020-10-15  2020-10-17 2020-10-15  Laboratory-confirmed case   \n",
       "3736397    2020-11-19  2020-11-21 2020-11-10  Laboratory-confirmed case   \n",
       "3736398    2020-08-21  2020-08-23 2020-08-23  Laboratory-confirmed case   \n",
       "3736399    2020-06-24  2020-06-26 2020-06-01  Laboratory-confirmed case   \n",
       "3736400    2020-11-15  2020-11-17 2020-11-07  Laboratory-confirmed case   \n",
       "3736401    2020-11-10  2020-11-12 2020-11-12  Laboratory-confirmed case   \n",
       "3736402    2020-09-22  2020-09-24 2020-09-24  Laboratory-confirmed case   \n",
       "3736403    2020-11-06  2020-11-08 2020-10-29  Laboratory-confirmed case   \n",
       "3736404    2020-08-12  2020-08-14 2020-08-14  Laboratory-confirmed case   \n",
       "3736405    2020-10-17  2020-10-19 2020-10-17  Laboratory-confirmed case   \n",
       "3736406    2020-06-10  2020-06-12 2020-06-12              Probable Case   \n",
       "3736407    2020-07-10  2020-07-12 2020-07-12  Laboratory-confirmed case   \n",
       "3736408    2020-06-10  2020-06-12 2020-04-10              Probable Case   \n",
       "3736409    2020-07-17  2020-07-19 2020-07-10  Laboratory-confirmed case   \n",
       "3736410    2020-06-15  2020-06-17 2020-06-17  Laboratory-confirmed case   \n",
       "3736411    2020-06-10  2020-06-12 2020-03-30  Laboratory-confirmed case   \n",
       "3736412    2020-11-19  2020-11-21 2020-11-21              Probable Case   \n",
       "3736413    2020-10-20  2020-10-22 2020-10-19  Laboratory-confirmed case   \n",
       "3736414    2020-07-14  2020-07-16 2020-07-16  Laboratory-confirmed case   \n",
       "3736415    2020-06-10  2020-06-12 2020-06-12              Probable Case   \n",
       "3736416    2020-06-12  2020-06-14 2020-04-17  Laboratory-confirmed case   \n",
       "3736417    2020-06-10  2020-06-12 2020-03-30              Probable Case   \n",
       "3736418    2020-06-10  2020-06-12 2020-04-03              Probable Case   \n",
       "\n",
       "             sex age_group                      Race and ethnicity (combined)  \\\n",
       "3736390  Missing       NaN                                Asian, Non-Hispanic   \n",
       "3736391  Missing       NaN                                Asian, Non-Hispanic   \n",
       "3736392  Missing       NaN                                Asian, Non-Hispanic   \n",
       "3736393  Missing       NaN                                Asian, Non-Hispanic   \n",
       "3736394    Other       NaN                                Black, Non-Hispanic   \n",
       "3736395    Other       NaN                       Multiple/Other, Non-Hispanic   \n",
       "3736396    Other       NaN                       Multiple/Other, Non-Hispanic   \n",
       "3736397    Other       NaN                       Multiple/Other, Non-Hispanic   \n",
       "3736398  Unknown       NaN  Native Hawaiian/Other Pacific Islander, Non-Hi...   \n",
       "3736399  Unknown       NaN  Native Hawaiian/Other Pacific Islander, Non-Hi...   \n",
       "3736400  Unknown       NaN  Native Hawaiian/Other Pacific Islander, Non-Hi...   \n",
       "3736401      NaN       NaN                                Asian, Non-Hispanic   \n",
       "3736402      NaN       NaN                                Asian, Non-Hispanic   \n",
       "3736403      NaN       NaN                                Asian, Non-Hispanic   \n",
       "3736404      NaN       NaN                                                NaN   \n",
       "3736405    Other       NaN                                    Hispanic/Latino   \n",
       "3736406    Other       NaN                                    Hispanic/Latino   \n",
       "3736407    Other       NaN                                    Hispanic/Latino   \n",
       "3736408    Other       NaN                                    Hispanic/Latino   \n",
       "3736409    Other       NaN                                    Hispanic/Latino   \n",
       "3736410    Other       NaN                                    Hispanic/Latino   \n",
       "3736411      NaN       NaN  Native Hawaiian/Other Pacific Islander, Non-Hi...   \n",
       "3736412      NaN       NaN  Native Hawaiian/Other Pacific Islander, Non-Hi...   \n",
       "3736413      NaN       NaN  Native Hawaiian/Other Pacific Islander, Non-Hi...   \n",
       "3736414      NaN       NaN  Native Hawaiian/Other Pacific Islander, Non-Hi...   \n",
       "3736415    Other       NaN                                            Unknown   \n",
       "3736416    Other       NaN                                            Unknown   \n",
       "3736417    Other       NaN                                            Unknown   \n",
       "3736418    Other       NaN                                            Unknown   \n",
       "\n",
       "         hosp_yn   icu_yn death_yn medcond_yn  month_cdc  week_cdc  \n",
       "3736390       No  Unknown       No    Missing         11        44  \n",
       "3736391       No  Missing       No    Missing          9        39  \n",
       "3736392       No  Missing  Missing    Missing         11        45  \n",
       "3736393       No  Missing       No    Missing          7        27  \n",
       "3736394      Yes       No       No    Missing          8        35  \n",
       "3736395       No  Missing       No    Missing         11        46  \n",
       "3736396       No       No       No        Yes         10        42  \n",
       "3736397       No  Missing       No    Missing         11        47  \n",
       "3736398  Missing  Missing  Missing    Missing          8        34  \n",
       "3736399       No  Unknown  Unknown    Missing          6        26  \n",
       "3736400      Yes  Missing       No    Missing         11        46  \n",
       "3736401  Missing  Missing  Missing    Missing         11        46  \n",
       "3736402  Missing  Missing  Missing    Missing          9        39  \n",
       "3736403       No  Missing       No    Missing         11        45  \n",
       "3736404  Missing  Missing  Missing    Missing          8        33  \n",
       "3736405       No       No       No        Yes         10        42  \n",
       "3736406  Unknown  Unknown       No        Yes          6        24  \n",
       "3736407  Missing  Missing  Missing    Missing          7        28  \n",
       "3736408       No  Unknown       No        Yes          6        24  \n",
       "3736409       No  Missing       No    Missing          7        29  \n",
       "3736410  Missing  Missing  Missing    Missing          6        25  \n",
       "3736411       No  Unknown       No        Yes          6        24  \n",
       "3736412  Missing  Missing  Missing    Missing         11        47  \n",
       "3736413  Missing  Missing  Missing    Missing         10        43  \n",
       "3736414       No       No  Missing    Missing          7        29  \n",
       "3736415  Unknown  Unknown       No    Unknown          6        24  \n",
       "3736416  Missing  Missing  Missing    Missing          6        24  \n",
       "3736417       No  Unknown       No    Unknown          6        24  \n",
       "3736418       No  Unknown       No        Yes          6        24  "
      ]
     },
     "execution_count": 23,
     "metadata": {},
     "output_type": "execute_result"
    }
   ],
   "source": [
    "df[df['age_group'].isna()][:29]"
   ]
  },
  {
   "cell_type": "code",
   "execution_count": 24,
   "id": "hired-psychology",
   "metadata": {
    "execution": {
     "iopub.execute_input": "2022-01-22T17:44:27.166006Z",
     "iopub.status.busy": "2022-01-22T17:44:26.819502Z",
     "iopub.status.idle": "2022-01-22T17:44:35.612637Z",
     "shell.execute_reply": "2022-01-22T17:44:35.612206Z",
     "shell.execute_reply.started": "2022-01-22T16:51:43.667684Z"
    },
    "papermill": {
     "duration": 9.266218,
     "end_time": "2022-01-22T17:44:35.612757",
     "exception": false,
     "start_time": "2022-01-22T17:44:26.346539",
     "status": "completed"
    },
    "tags": []
   },
   "outputs": [],
   "source": [
    "df['sex']=df.groupby(['death_yn','icu_yn','month_cdc']).sex.transform(lambda x: x.fillna(x.mode()[0]))"
   ]
  },
  {
   "cell_type": "code",
   "execution_count": 25,
   "id": "biological-increase",
   "metadata": {
    "execution": {
     "iopub.execute_input": "2022-01-22T17:44:36.279408Z",
     "iopub.status.busy": "2022-01-22T17:44:35.939736Z",
     "iopub.status.idle": "2022-01-22T17:44:36.394562Z",
     "shell.execute_reply": "2022-01-22T17:44:36.394124Z",
     "shell.execute_reply.started": "2022-01-22T16:51:49.521543Z"
    },
    "papermill": {
     "duration": 0.674805,
     "end_time": "2022-01-22T17:44:36.394687",
     "exception": false,
     "start_time": "2022-01-22T17:44:35.719882",
     "status": "completed"
    },
    "tags": []
   },
   "outputs": [
    {
     "data": {
      "text/plain": [
       "array(['Male', 'Unknown', 'Missing', 'Female', 'Other'], dtype=object)"
      ]
     },
     "execution_count": 25,
     "metadata": {},
     "output_type": "execute_result"
    }
   ],
   "source": [
    "df['sex'].unique()"
   ]
  },
  {
   "cell_type": "code",
   "execution_count": 26,
   "id": "arranged-arrangement",
   "metadata": {
    "execution": {
     "iopub.execute_input": "2022-01-22T17:44:37.247942Z",
     "iopub.status.busy": "2022-01-22T17:44:37.246973Z",
     "iopub.status.idle": "2022-01-22T17:44:37.254541Z",
     "shell.execute_reply": "2022-01-22T17:44:37.253844Z",
     "shell.execute_reply.started": "2022-01-22T16:51:49.977782Z"
    },
    "papermill": {
     "duration": 0.752078,
     "end_time": "2022-01-22T17:44:37.254688",
     "exception": false,
     "start_time": "2022-01-22T17:44:36.502610",
     "status": "completed"
    },
    "tags": []
   },
   "outputs": [
    {
     "data": {
      "text/plain": [
       "Female     4340916\n",
       "Male       3970591\n",
       "Unknown      73845\n",
       "Missing      19520\n",
       "Other          207\n",
       "Name: sex, dtype: int64"
      ]
     },
     "execution_count": 26,
     "metadata": {},
     "output_type": "execute_result"
    }
   ],
   "source": [
    "df['sex'].value_counts()"
   ]
  },
  {
   "cell_type": "code",
   "execution_count": 27,
   "id": "indian-winner",
   "metadata": {
    "execution": {
     "iopub.execute_input": "2022-01-22T17:44:37.954012Z",
     "iopub.status.busy": "2022-01-22T17:44:37.952997Z",
     "iopub.status.idle": "2022-01-22T17:44:38.353987Z",
     "shell.execute_reply": "2022-01-22T17:44:38.353304Z",
     "shell.execute_reply.started": "2022-01-22T16:51:50.758455Z"
    },
    "papermill": {
     "duration": 0.935425,
     "end_time": "2022-01-22T17:44:38.354149",
     "exception": false,
     "start_time": "2022-01-22T17:44:37.418724",
     "status": "completed"
    },
    "tags": []
   },
   "outputs": [],
   "source": [
    "df['sex'].replace({'Missing':np.nan,'Unknown':np.nan},inplace=True)"
   ]
  },
  {
   "cell_type": "code",
   "execution_count": 28,
   "id": "burning-company",
   "metadata": {
    "execution": {
     "iopub.execute_input": "2022-01-22T17:44:39.196326Z",
     "iopub.status.busy": "2022-01-22T17:44:38.849011Z",
     "iopub.status.idle": "2022-01-22T17:44:45.168094Z",
     "shell.execute_reply": "2022-01-22T17:44:45.168454Z",
     "shell.execute_reply.started": "2022-01-22T16:51:51.553204Z"
    },
    "papermill": {
     "duration": 6.649025,
     "end_time": "2022-01-22T17:44:45.168594",
     "exception": false,
     "start_time": "2022-01-22T17:44:38.519569",
     "status": "completed"
    },
    "tags": []
   },
   "outputs": [
    {
     "data": {
      "text/plain": [
       "array(['Male', 'Female', 'Other'], dtype=object)"
      ]
     },
     "execution_count": 28,
     "metadata": {},
     "output_type": "execute_result"
    }
   ],
   "source": [
    "df['sex']=df.groupby(['death_yn','icu_yn','month_cdc']).sex.transform(lambda x: x.fillna(x.mode()[0]))\n",
    "\n",
    "df['sex'].unique()"
   ]
  },
  {
   "cell_type": "code",
   "execution_count": 29,
   "id": "ecological-simpson",
   "metadata": {
    "execution": {
     "iopub.execute_input": "2022-01-22T17:44:45.779282Z",
     "iopub.status.busy": "2022-01-22T17:44:45.778619Z",
     "iopub.status.idle": "2022-01-22T17:44:45.781412Z",
     "shell.execute_reply": "2022-01-22T17:44:45.781863Z",
     "shell.execute_reply.started": "2022-01-22T16:51:58.071302Z"
    },
    "papermill": {
     "duration": 0.505933,
     "end_time": "2022-01-22T17:44:45.782010",
     "exception": false,
     "start_time": "2022-01-22T17:44:45.276077",
     "status": "completed"
    },
    "tags": []
   },
   "outputs": [
    {
     "data": {
      "text/plain": [
       "array(['Black, Non-Hispanic', 'White, Non-Hispanic', 'Unknown',\n",
       "       'Asian, Non-Hispanic',\n",
       "       'American Indian/Alaska Native, Non-Hispanic',\n",
       "       'Multiple/Other, Non-Hispanic', 'Missing',\n",
       "       'Native Hawaiian/Other Pacific Islander, Non-Hispanic',\n",
       "       'Hispanic/Latino', nan], dtype=object)"
      ]
     },
     "execution_count": 29,
     "metadata": {},
     "output_type": "execute_result"
    }
   ],
   "source": [
    "#filling missing values in Race and ethnicity\n",
    "df['Race and ethnicity (combined)'].unique()"
   ]
  },
  {
   "cell_type": "markdown",
   "id": "threatened-electric",
   "metadata": {
    "papermill": {
     "duration": 0.10746,
     "end_time": "2022-01-22T17:44:45.998146",
     "exception": false,
     "start_time": "2022-01-22T17:44:45.890686",
     "status": "completed"
    },
    "tags": []
   },
   "source": [
    "# Apart from missing values there were Unkown, missing separately\n",
    "How many missing values are present ..?\n",
    "\n",
    "How many Unkown values are present...?\n"
   ]
  },
  {
   "cell_type": "code",
   "execution_count": 30,
   "id": "varying-holder",
   "metadata": {
    "execution": {
     "iopub.execute_input": "2022-01-22T17:44:46.217011Z",
     "iopub.status.busy": "2022-01-22T17:44:46.216295Z",
     "iopub.status.idle": "2022-01-22T17:44:48.270782Z",
     "shell.execute_reply": "2022-01-22T17:44:48.271270Z",
     "shell.execute_reply.started": "2022-01-22T16:51:58.540430Z"
    },
    "papermill": {
     "duration": 2.165582,
     "end_time": "2022-01-22T17:44:48.271417",
     "exception": false,
     "start_time": "2022-01-22T17:44:46.105835",
     "status": "completed"
    },
    "tags": []
   },
   "outputs": [
    {
     "data": {
      "text/plain": [
       "Unknown                                                 2781176\n",
       "White, Non-Hispanic                                     2599410\n",
       "Hispanic/Latino                                         1195739\n",
       "Black, Non-Hispanic                                      736584\n",
       "Missing                                                  601519\n",
       "Multiple/Other, Non-Hispanic                             270509\n",
       "Asian, Non-Hispanic                                      143080\n",
       "American Indian/Alaska Native, Non-Hispanic               59842\n",
       "Native Hawaiian/Other Pacific Islander, Non-Hispanic      17213\n",
       "Name: Race and ethnicity (combined), dtype: int64"
      ]
     },
     "execution_count": 30,
     "metadata": {},
     "output_type": "execute_result"
    }
   ],
   "source": [
    "df['Race and ethnicity (combined)'].value_counts()"
   ]
  },
  {
   "cell_type": "code",
   "execution_count": 31,
   "id": "infectious-morrison",
   "metadata": {
    "execution": {
     "iopub.execute_input": "2022-01-22T17:44:48.502703Z",
     "iopub.status.busy": "2022-01-22T17:44:48.502055Z",
     "iopub.status.idle": "2022-01-22T17:44:49.220448Z",
     "shell.execute_reply": "2022-01-22T17:44:49.219428Z",
     "shell.execute_reply.started": "2022-01-22T16:51:59.324379Z"
    },
    "papermill": {
     "duration": 0.835337,
     "end_time": "2022-01-22T17:44:49.220597",
     "exception": false,
     "start_time": "2022-01-22T17:44:48.385260",
     "status": "completed"
    },
    "tags": []
   },
   "outputs": [],
   "source": [
    "#Replacing unkowns and missing to nan and then trying to fill the values \n",
    "df[\"Race and ethnicity (combined)\"].replace({\"Missing\": np.nan, \"Unknown\": np.nan}, inplace=True)"
   ]
  },
  {
   "cell_type": "code",
   "execution_count": 32,
   "id": "familiar-engine",
   "metadata": {
    "execution": {
     "iopub.execute_input": "2022-01-22T17:44:49.797537Z",
     "iopub.status.busy": "2022-01-22T17:44:49.796704Z",
     "iopub.status.idle": "2022-01-22T17:44:50.053986Z",
     "shell.execute_reply": "2022-01-22T17:44:50.053386Z",
     "shell.execute_reply.started": "2022-01-22T16:52:00.154422Z"
    },
    "papermill": {
     "duration": 0.660109,
     "end_time": "2022-01-22T17:44:50.054172",
     "exception": false,
     "start_time": "2022-01-22T17:44:49.394063",
     "status": "completed"
    },
    "tags": []
   },
   "outputs": [
    {
     "data": {
      "text/plain": [
       "array(['Black, Non-Hispanic', 'White, Non-Hispanic', nan,\n",
       "       'Asian, Non-Hispanic',\n",
       "       'American Indian/Alaska Native, Non-Hispanic',\n",
       "       'Multiple/Other, Non-Hispanic',\n",
       "       'Native Hawaiian/Other Pacific Islander, Non-Hispanic',\n",
       "       'Hispanic/Latino'], dtype=object)"
      ]
     },
     "execution_count": 32,
     "metadata": {},
     "output_type": "execute_result"
    }
   ],
   "source": [
    "df['Race and ethnicity (combined)'].unique()"
   ]
  },
  {
   "cell_type": "code",
   "execution_count": 33,
   "id": "prostate-consent",
   "metadata": {
    "execution": {
     "iopub.execute_input": "2022-01-22T17:44:50.748067Z",
     "iopub.status.busy": "2022-01-22T17:44:50.501805Z",
     "iopub.status.idle": "2022-01-22T17:44:57.745571Z",
     "shell.execute_reply": "2022-01-22T17:44:57.744997Z",
     "shell.execute_reply.started": "2022-01-22T16:52:00.548006Z"
    },
    "papermill": {
     "duration": 7.518509,
     "end_time": "2022-01-22T17:44:57.745693",
     "exception": false,
     "start_time": "2022-01-22T17:44:50.227184",
     "status": "completed"
    },
    "tags": []
   },
   "outputs": [],
   "source": [
    "df['Race and ethnicity (combined)']=df.groupby(['death_yn','icu_yn','month_cdc'])['Race and ethnicity (combined)'].transform(lambda x: x.fillna(x.mode()[0]))"
   ]
  },
  {
   "cell_type": "code",
   "execution_count": 34,
   "id": "immediate-brave",
   "metadata": {
    "execution": {
     "iopub.execute_input": "2022-01-22T17:44:58.303496Z",
     "iopub.status.busy": "2022-01-22T17:44:58.073904Z",
     "iopub.status.idle": "2022-01-22T17:44:58.537713Z",
     "shell.execute_reply": "2022-01-22T17:44:58.537267Z",
     "shell.execute_reply.started": "2022-01-22T16:52:06.853117Z"
    },
    "papermill": {
     "duration": 0.682914,
     "end_time": "2022-01-22T17:44:58.537837",
     "exception": false,
     "start_time": "2022-01-22T17:44:57.854923",
     "status": "completed"
    },
    "tags": []
   },
   "outputs": [
    {
     "data": {
      "text/plain": [
       "array(['Black, Non-Hispanic', 'White, Non-Hispanic',\n",
       "       'Asian, Non-Hispanic',\n",
       "       'American Indian/Alaska Native, Non-Hispanic',\n",
       "       'Multiple/Other, Non-Hispanic',\n",
       "       'Native Hawaiian/Other Pacific Islander, Non-Hispanic',\n",
       "       'Hispanic/Latino'], dtype=object)"
      ]
     },
     "execution_count": 34,
     "metadata": {},
     "output_type": "execute_result"
    }
   ],
   "source": [
    "\n",
    "df['Race and ethnicity (combined)'].unique()"
   ]
  },
  {
   "cell_type": "code",
   "execution_count": 35,
   "id": "prostate-plymouth",
   "metadata": {
    "execution": {
     "iopub.execute_input": "2022-01-22T17:44:59.147405Z",
     "iopub.status.busy": "2022-01-22T17:44:58.922376Z",
     "iopub.status.idle": "2022-01-22T17:44:59.154561Z",
     "shell.execute_reply": "2022-01-22T17:44:59.154004Z",
     "shell.execute_reply.started": "2022-01-22T16:52:07.497215Z"
    },
    "papermill": {
     "duration": 0.506658,
     "end_time": "2022-01-22T17:44:59.154686",
     "exception": false,
     "start_time": "2022-01-22T17:44:58.648028",
     "status": "completed"
    },
    "tags": []
   },
   "outputs": [
    {
     "data": {
      "text/plain": [
       "array(['10 - 19 Years', '20 - 29 Years', '30 - 39 Years', '40 - 49 Years',\n",
       "       '50 - 59 Years', '0 - 9 Years', '60 - 69 Years', '80+ Years',\n",
       "       '70 - 79 Years', nan, 'Unknown'], dtype=object)"
      ]
     },
     "execution_count": 35,
     "metadata": {},
     "output_type": "execute_result"
    }
   ],
   "source": [
    "#Missing values in age_group column\n",
    "\n",
    "df['age_group'].unique()"
   ]
  },
  {
   "cell_type": "code",
   "execution_count": 36,
   "id": "existing-wallace",
   "metadata": {
    "execution": {
     "iopub.execute_input": "2022-01-22T17:44:59.618260Z",
     "iopub.status.busy": "2022-01-22T17:44:59.617732Z",
     "iopub.status.idle": "2022-01-22T17:44:59.894396Z",
     "shell.execute_reply": "2022-01-22T17:44:59.893908Z",
     "shell.execute_reply.started": "2022-01-22T16:52:07.974773Z"
    },
    "papermill": {
     "duration": 0.629575,
     "end_time": "2022-01-22T17:44:59.894555",
     "exception": false,
     "start_time": "2022-01-22T17:44:59.264980",
     "status": "completed"
    },
    "tags": []
   },
   "outputs": [],
   "source": [
    "df['age_group'].replace({'Unknown':np.nan},inplace=True)"
   ]
  },
  {
   "cell_type": "code",
   "execution_count": 37,
   "id": "elect-dressing",
   "metadata": {
    "execution": {
     "iopub.execute_input": "2022-01-22T17:45:01.370800Z",
     "iopub.status.busy": "2022-01-22T17:45:01.369995Z",
     "iopub.status.idle": "2022-01-22T17:45:01.372918Z",
     "shell.execute_reply": "2022-01-22T17:45:01.373341Z",
     "shell.execute_reply.started": "2022-01-22T16:52:08.543109Z"
    },
    "papermill": {
     "duration": 1.370244,
     "end_time": "2022-01-22T17:45:01.373478",
     "exception": false,
     "start_time": "2022-01-22T17:45:00.003234",
     "status": "completed"
    },
    "tags": []
   },
   "outputs": [
    {
     "data": {
      "text/plain": [
       "array(['10 - 19 Years', '20 - 29 Years', '30 - 39 Years', '40 - 49 Years',\n",
       "       '50 - 59 Years', '0 - 9 Years', '60 - 69 Years', '80+ Years',\n",
       "       '70 - 79 Years', nan], dtype=object)"
      ]
     },
     "execution_count": 37,
     "metadata": {},
     "output_type": "execute_result"
    }
   ],
   "source": [
    "df['age_group'].unique()"
   ]
  },
  {
   "cell_type": "code",
   "execution_count": 38,
   "id": "guided-medicine",
   "metadata": {
    "execution": {
     "iopub.execute_input": "2022-01-22T17:45:01.704751Z",
     "iopub.status.busy": "2022-01-22T17:45:01.704145Z",
     "iopub.status.idle": "2022-01-22T17:45:12.943422Z",
     "shell.execute_reply": "2022-01-22T17:45:12.942784Z",
     "shell.execute_reply.started": "2022-01-22T16:52:09.015792Z"
    },
    "papermill": {
     "duration": 11.460105,
     "end_time": "2022-01-22T17:45:12.943572",
     "exception": false,
     "start_time": "2022-01-22T17:45:01.483467",
     "status": "completed"
    },
    "tags": []
   },
   "outputs": [],
   "source": [
    "df['age_group']=df.groupby(['death_yn','icu_yn','month_cdc','Race and ethnicity (combined)'])['age_group'].transform(lambda x: x.fillna(x.mode()[0]))"
   ]
  },
  {
   "cell_type": "code",
   "execution_count": 39,
   "id": "removable-positive",
   "metadata": {
    "execution": {
     "iopub.execute_input": "2022-01-22T17:45:13.868499Z",
     "iopub.status.busy": "2022-01-22T17:45:13.867865Z",
     "iopub.status.idle": "2022-01-22T17:45:14.161493Z",
     "shell.execute_reply": "2022-01-22T17:45:14.160891Z",
     "shell.execute_reply.started": "2022-01-22T16:52:16.945027Z"
    },
    "papermill": {
     "duration": 1.107882,
     "end_time": "2022-01-22T17:45:14.161613",
     "exception": false,
     "start_time": "2022-01-22T17:45:13.053731",
     "status": "completed"
    },
    "tags": []
   },
   "outputs": [
    {
     "data": {
      "text/plain": [
       "array(['10 - 19 Years', '20 - 29 Years', '30 - 39 Years', '40 - 49 Years',\n",
       "       '50 - 59 Years', '0 - 9 Years', '60 - 69 Years', '80+ Years',\n",
       "       '70 - 79 Years'], dtype=object)"
      ]
     },
     "execution_count": 39,
     "metadata": {},
     "output_type": "execute_result"
    }
   ],
   "source": [
    "df['age_group'].unique()"
   ]
  },
  {
   "cell_type": "code",
   "execution_count": 40,
   "id": "animated-injection",
   "metadata": {
    "execution": {
     "iopub.execute_input": "2022-01-22T17:45:15.079666Z",
     "iopub.status.busy": "2022-01-22T17:45:15.078968Z",
     "iopub.status.idle": "2022-01-22T17:45:15.323090Z",
     "shell.execute_reply": "2022-01-22T17:45:15.323582Z",
     "shell.execute_reply.started": "2022-01-22T16:52:17.471228Z"
    },
    "papermill": {
     "duration": 1.052265,
     "end_time": "2022-01-22T17:45:15.323759",
     "exception": false,
     "start_time": "2022-01-22T17:45:14.271494",
     "status": "completed"
    },
    "tags": []
   },
   "outputs": [
    {
     "data": {
      "text/plain": [
       "array(['No', 'Missing', 'Unknown', 'Yes'], dtype=object)"
      ]
     },
     "execution_count": 40,
     "metadata": {},
     "output_type": "execute_result"
    }
   ],
   "source": [
    "#checking in other columns  for missing and Unkown data\n",
    "\n",
    "df['hosp_yn'].unique()"
   ]
  },
  {
   "cell_type": "code",
   "execution_count": 41,
   "id": "lesbian-harmony",
   "metadata": {
    "execution": {
     "iopub.execute_input": "2022-01-22T17:45:16.451677Z",
     "iopub.status.busy": "2022-01-22T17:45:16.450858Z",
     "iopub.status.idle": "2022-01-22T17:45:18.679253Z",
     "shell.execute_reply": "2022-01-22T17:45:18.678541Z",
     "shell.execute_reply.started": "2022-01-22T16:52:17.990094Z"
    },
    "papermill": {
     "duration": 3.185393,
     "end_time": "2022-01-22T17:45:18.679407",
     "exception": false,
     "start_time": "2022-01-22T17:45:15.494014",
     "status": "completed"
    },
    "tags": []
   },
   "outputs": [
    {
     "data": {
      "text/plain": [
       "array(['No', nan, 'Yes'], dtype=object)"
      ]
     },
     "execution_count": 41,
     "metadata": {},
     "output_type": "execute_result"
    }
   ],
   "source": [
    "df['hosp_yn'].replace({'Missing':np.nan,'Unknown':np.nan},inplace=True)\n",
    "df['hosp_yn'].unique()\n"
   ]
  },
  {
   "cell_type": "code",
   "execution_count": 42,
   "id": "alert-hospital",
   "metadata": {
    "execution": {
     "iopub.execute_input": "2022-01-22T17:45:19.129053Z",
     "iopub.status.busy": "2022-01-22T17:45:19.128220Z",
     "iopub.status.idle": "2022-01-22T17:45:24.097021Z",
     "shell.execute_reply": "2022-01-22T17:45:24.097397Z",
     "shell.execute_reply.started": "2022-01-22T16:52:19.557601Z"
    },
    "papermill": {
     "duration": 5.248882,
     "end_time": "2022-01-22T17:45:24.097563",
     "exception": false,
     "start_time": "2022-01-22T17:45:18.848681",
     "status": "completed"
    },
    "tags": []
   },
   "outputs": [
    {
     "data": {
      "text/plain": [
       "array(['No', 'Yes'], dtype=object)"
      ]
     },
     "execution_count": 42,
     "metadata": {},
     "output_type": "execute_result"
    }
   ],
   "source": [
    "df['hosp_yn']=df.groupby(['death_yn','Race and ethnicity (combined)'])['hosp_yn'].transform(lambda x: x.fillna(x.mode()[0]))\n",
    "df['hosp_yn'].unique()"
   ]
  },
  {
   "cell_type": "code",
   "execution_count": 43,
   "id": "variable-jason",
   "metadata": {
    "execution": {
     "iopub.execute_input": "2022-01-22T17:45:24.324601Z",
     "iopub.status.busy": "2022-01-22T17:45:24.323912Z",
     "iopub.status.idle": "2022-01-22T17:45:25.216480Z",
     "shell.execute_reply": "2022-01-22T17:45:25.216897Z",
     "shell.execute_reply.started": "2022-01-22T16:52:24.733755Z"
    },
    "papermill": {
     "duration": 1.007184,
     "end_time": "2022-01-22T17:45:25.217060",
     "exception": false,
     "start_time": "2022-01-22T17:45:24.209876",
     "status": "completed"
    },
    "tags": []
   },
   "outputs": [
    {
     "data": {
      "text/plain": [
       "array(['No', 'Yes'], dtype=object)"
      ]
     },
     "execution_count": 43,
     "metadata": {},
     "output_type": "execute_result"
    }
   ],
   "source": [
    "df['hosp_yn'].unique()"
   ]
  },
  {
   "cell_type": "code",
   "execution_count": 44,
   "id": "capital-layout",
   "metadata": {
    "execution": {
     "iopub.execute_input": "2022-01-22T17:45:25.442287Z",
     "iopub.status.busy": "2022-01-22T17:45:25.441688Z",
     "iopub.status.idle": "2022-01-22T17:45:25.915453Z",
     "shell.execute_reply": "2022-01-22T17:45:25.915905Z",
     "shell.execute_reply.started": "2022-01-22T16:52:25.181167Z"
    },
    "papermill": {
     "duration": 0.588508,
     "end_time": "2022-01-22T17:45:25.916092",
     "exception": false,
     "start_time": "2022-01-22T17:45:25.327584",
     "status": "completed"
    },
    "tags": []
   },
   "outputs": [
    {
     "data": {
      "text/plain": [
       "array(['Unknown', 'No', 'Missing', 'Yes'], dtype=object)"
      ]
     },
     "execution_count": 44,
     "metadata": {},
     "output_type": "execute_result"
    }
   ],
   "source": [
    "#Checking icu_yn\n",
    "df['icu_yn'].unique()"
   ]
  },
  {
   "cell_type": "code",
   "execution_count": 45,
   "id": "removable-interaction",
   "metadata": {
    "execution": {
     "iopub.execute_input": "2022-01-22T17:45:26.142706Z",
     "iopub.status.busy": "2022-01-22T17:45:26.141817Z",
     "iopub.status.idle": "2022-01-22T17:45:26.976896Z",
     "shell.execute_reply": "2022-01-22T17:45:26.976462Z",
     "shell.execute_reply.started": "2022-01-22T16:52:25.670007Z"
    },
    "papermill": {
     "duration": 0.948761,
     "end_time": "2022-01-22T17:45:26.977025",
     "exception": false,
     "start_time": "2022-01-22T17:45:26.028264",
     "status": "completed"
    },
    "tags": []
   },
   "outputs": [],
   "source": [
    "df['icu_yn'].replace({'Missing':np.nan,'Unknown':np.nan},inplace=True)"
   ]
  },
  {
   "cell_type": "code",
   "execution_count": 46,
   "id": "temporal-coral",
   "metadata": {
    "execution": {
     "iopub.execute_input": "2022-01-22T17:45:27.202757Z",
     "iopub.status.busy": "2022-01-22T17:45:27.202253Z",
     "iopub.status.idle": "2022-01-22T17:45:31.277656Z",
     "shell.execute_reply": "2022-01-22T17:45:31.277195Z",
     "shell.execute_reply.started": "2022-01-22T16:52:26.812884Z"
    },
    "papermill": {
     "duration": 4.18912,
     "end_time": "2022-01-22T17:45:31.277779",
     "exception": false,
     "start_time": "2022-01-22T17:45:27.088659",
     "status": "completed"
    },
    "tags": []
   },
   "outputs": [],
   "source": [
    "df['icu_yn']=df.groupby(['age_group','Race and ethnicity (combined)'])['icu_yn'].transform(lambda x: x.fillna(x.mode()[0]))"
   ]
  },
  {
   "cell_type": "code",
   "execution_count": 47,
   "id": "curious-aircraft",
   "metadata": {
    "execution": {
     "iopub.execute_input": "2022-01-22T17:45:31.503966Z",
     "iopub.status.busy": "2022-01-22T17:45:31.503131Z",
     "iopub.status.idle": "2022-01-22T17:45:31.928282Z",
     "shell.execute_reply": "2022-01-22T17:45:31.928762Z",
     "shell.execute_reply.started": "2022-01-22T16:52:31.250056Z"
    },
    "papermill": {
     "duration": 0.539562,
     "end_time": "2022-01-22T17:45:31.928932",
     "exception": false,
     "start_time": "2022-01-22T17:45:31.389370",
     "status": "completed"
    },
    "tags": []
   },
   "outputs": [
    {
     "data": {
      "text/plain": [
       "array(['No', 'Yes'], dtype=object)"
      ]
     },
     "execution_count": 47,
     "metadata": {},
     "output_type": "execute_result"
    }
   ],
   "source": [
    "df['icu_yn'].unique()"
   ]
  },
  {
   "cell_type": "code",
   "execution_count": 48,
   "id": "killing-cambodia",
   "metadata": {
    "execution": {
     "iopub.execute_input": "2022-01-22T17:45:32.269815Z",
     "iopub.status.busy": "2022-01-22T17:45:32.269298Z",
     "iopub.status.idle": "2022-01-22T17:45:32.762175Z",
     "shell.execute_reply": "2022-01-22T17:45:32.761730Z",
     "shell.execute_reply.started": "2022-01-22T16:52:31.695496Z"
    },
    "papermill": {
     "duration": 0.664381,
     "end_time": "2022-01-22T17:45:32.762294",
     "exception": false,
     "start_time": "2022-01-22T17:45:32.097913",
     "status": "completed"
    },
    "tags": []
   },
   "outputs": [
    {
     "data": {
      "text/plain": [
       "array(['No', 'Missing', 'Unknown', 'Yes'], dtype=object)"
      ]
     },
     "execution_count": 48,
     "metadata": {},
     "output_type": "execute_result"
    }
   ],
   "source": [
    "#death column\n",
    "df['death_yn'].unique()"
   ]
  },
  {
   "cell_type": "code",
   "execution_count": 49,
   "id": "boxed-trunk",
   "metadata": {
    "execution": {
     "iopub.execute_input": "2022-01-22T17:45:32.991191Z",
     "iopub.status.busy": "2022-01-22T17:45:32.990641Z",
     "iopub.status.idle": "2022-01-22T17:45:34.927905Z",
     "shell.execute_reply": "2022-01-22T17:45:34.928419Z",
     "shell.execute_reply.started": "2022-01-22T16:52:32.207421Z"
    },
    "papermill": {
     "duration": 2.053652,
     "end_time": "2022-01-22T17:45:34.928599",
     "exception": false,
     "start_time": "2022-01-22T17:45:32.874947",
     "status": "completed"
    },
    "tags": []
   },
   "outputs": [],
   "source": [
    "df['death_yn'].replace({'Missing':np.nan,'Unknown':np.nan},inplace=True)"
   ]
  },
  {
   "cell_type": "code",
   "execution_count": 50,
   "id": "above-cattle",
   "metadata": {
    "execution": {
     "iopub.execute_input": "2022-01-22T17:45:35.671632Z",
     "iopub.status.busy": "2022-01-22T17:45:35.269752Z",
     "iopub.status.idle": "2022-01-22T17:45:35.678636Z",
     "shell.execute_reply": "2022-01-22T17:45:35.677914Z",
     "shell.execute_reply.started": "2022-01-22T16:52:33.360361Z"
    },
    "papermill": {
     "duration": 0.580958,
     "end_time": "2022-01-22T17:45:35.678778",
     "exception": false,
     "start_time": "2022-01-22T17:45:35.097820",
     "status": "completed"
    },
    "tags": []
   },
   "outputs": [
    {
     "data": {
      "text/plain": [
       "array(['No', nan, 'Yes'], dtype=object)"
      ]
     },
     "execution_count": 50,
     "metadata": {},
     "output_type": "execute_result"
    }
   ],
   "source": [
    "df['death_yn'].unique()"
   ]
  },
  {
   "cell_type": "code",
   "execution_count": 51,
   "id": "perfect-motion",
   "metadata": {
    "execution": {
     "iopub.execute_input": "2022-01-22T17:45:36.380821Z",
     "iopub.status.busy": "2022-01-22T17:45:36.134355Z",
     "iopub.status.idle": "2022-01-22T17:45:40.525775Z",
     "shell.execute_reply": "2022-01-22T17:45:40.525270Z",
     "shell.execute_reply.started": "2022-01-22T16:52:33.802496Z"
    },
    "papermill": {
     "duration": 4.674618,
     "end_time": "2022-01-22T17:45:40.525900",
     "exception": false,
     "start_time": "2022-01-22T17:45:35.851282",
     "status": "completed"
    },
    "tags": []
   },
   "outputs": [],
   "source": [
    "df['death_yn']=df.groupby(['age_group','icu_yn','Race and ethnicity (combined)'])['death_yn'].transform(lambda x: x.fillna(x.mode()[0]))"
   ]
  },
  {
   "cell_type": "code",
   "execution_count": 52,
   "id": "strange-digest",
   "metadata": {
    "execution": {
     "iopub.execute_input": "2022-01-22T17:45:41.444640Z",
     "iopub.status.busy": "2022-01-22T17:45:41.444147Z",
     "iopub.status.idle": "2022-01-22T17:45:41.646477Z",
     "shell.execute_reply": "2022-01-22T17:45:41.645870Z",
     "shell.execute_reply.started": "2022-01-22T16:52:39.358709Z"
    },
    "papermill": {
     "duration": 1.007917,
     "end_time": "2022-01-22T17:45:41.646627",
     "exception": false,
     "start_time": "2022-01-22T17:45:40.638710",
     "status": "completed"
    },
    "tags": []
   },
   "outputs": [
    {
     "data": {
      "text/plain": [
       "array(['No', 'Yes'], dtype=object)"
      ]
     },
     "execution_count": 52,
     "metadata": {},
     "output_type": "execute_result"
    }
   ],
   "source": [
    "df['death_yn'].unique()"
   ]
  },
  {
   "cell_type": "code",
   "execution_count": 53,
   "id": "individual-lemon",
   "metadata": {
    "execution": {
     "iopub.execute_input": "2022-01-22T17:45:41.990143Z",
     "iopub.status.busy": "2022-01-22T17:45:41.989422Z",
     "iopub.status.idle": "2022-01-22T17:45:42.468529Z",
     "shell.execute_reply": "2022-01-22T17:45:42.467848Z",
     "shell.execute_reply.started": "2022-01-22T16:52:39.907076Z"
    },
    "papermill": {
     "duration": 0.652791,
     "end_time": "2022-01-22T17:45:42.468665",
     "exception": false,
     "start_time": "2022-01-22T17:45:41.815874",
     "status": "completed"
    },
    "tags": []
   },
   "outputs": [
    {
     "data": {
      "text/plain": [
       "array(['No', 'Missing', 'Yes', 'Unknown'], dtype=object)"
      ]
     },
     "execution_count": 53,
     "metadata": {},
     "output_type": "execute_result"
    }
   ],
   "source": [
    "#medcond_yn column\n",
    "df['medcond_yn'].unique()"
   ]
  },
  {
   "cell_type": "code",
   "execution_count": 54,
   "id": "incorporated-seattle",
   "metadata": {
    "execution": {
     "iopub.execute_input": "2022-01-22T17:45:43.056685Z",
     "iopub.status.busy": "2022-01-22T17:45:43.055741Z",
     "iopub.status.idle": "2022-01-22T17:45:43.388505Z",
     "shell.execute_reply": "2022-01-22T17:45:43.387904Z",
     "shell.execute_reply.started": "2022-01-22T16:52:40.420882Z"
    },
    "papermill": {
     "duration": 0.747642,
     "end_time": "2022-01-22T17:45:43.388656",
     "exception": false,
     "start_time": "2022-01-22T17:45:42.641014",
     "status": "completed"
    },
    "tags": []
   },
   "outputs": [],
   "source": [
    "df['medcond_yn'].replace({'Missing':np.nan},inplace=True)"
   ]
  },
  {
   "cell_type": "code",
   "execution_count": 55,
   "id": "expanded-avenue",
   "metadata": {
    "execution": {
     "iopub.execute_input": "2022-01-22T17:45:44.268207Z",
     "iopub.status.busy": "2022-01-22T17:45:44.021762Z",
     "iopub.status.idle": "2022-01-22T17:45:50.012929Z",
     "shell.execute_reply": "2022-01-22T17:45:50.012395Z",
     "shell.execute_reply.started": "2022-01-22T16:52:41.191408Z"
    },
    "papermill": {
     "duration": 6.452965,
     "end_time": "2022-01-22T17:45:50.013066",
     "exception": false,
     "start_time": "2022-01-22T17:45:43.560101",
     "status": "completed"
    },
    "tags": []
   },
   "outputs": [],
   "source": [
    "df['medcond_yn']=df.groupby(['icu_yn','Race and ethnicity (combined)'])['medcond_yn'].transform(lambda x: x.fillna(x.mode()[0]))\n"
   ]
  },
  {
   "cell_type": "code",
   "execution_count": 56,
   "id": "excited-dublin",
   "metadata": {
    "execution": {
     "iopub.execute_input": "2022-01-22T17:45:50.657233Z",
     "iopub.status.busy": "2022-01-22T17:45:50.656592Z",
     "iopub.status.idle": "2022-01-22T17:45:50.883155Z",
     "shell.execute_reply": "2022-01-22T17:45:50.882567Z",
     "shell.execute_reply.started": "2022-01-22T16:52:45.696968Z"
    },
    "papermill": {
     "duration": 0.754771,
     "end_time": "2022-01-22T17:45:50.883278",
     "exception": false,
     "start_time": "2022-01-22T17:45:50.128507",
     "status": "completed"
    },
    "tags": []
   },
   "outputs": [
    {
     "data": {
      "text/plain": [
       "array(['No', 'Yes', 'Unknown'], dtype=object)"
      ]
     },
     "execution_count": 56,
     "metadata": {},
     "output_type": "execute_result"
    }
   ],
   "source": [
    "df['medcond_yn'].unique()"
   ]
  },
  {
   "cell_type": "code",
   "execution_count": 57,
   "id": "higher-composition",
   "metadata": {
    "execution": {
     "iopub.execute_input": "2022-01-22T17:45:51.816827Z",
     "iopub.status.busy": "2022-01-22T17:45:51.816222Z",
     "iopub.status.idle": "2022-01-22T17:45:52.218309Z",
     "shell.execute_reply": "2022-01-22T17:45:52.218841Z",
     "shell.execute_reply.started": "2022-01-22T16:52:46.196053Z"
    },
    "papermill": {
     "duration": 1.221002,
     "end_time": "2022-01-22T17:45:52.219025",
     "exception": false,
     "start_time": "2022-01-22T17:45:50.998023",
     "status": "completed"
    },
    "tags": []
   },
   "outputs": [
    {
     "data": {
      "text/plain": [
       "array(['Laboratory-confirmed case', 'Probable Case'], dtype=object)"
      ]
     },
     "execution_count": 57,
     "metadata": {},
     "output_type": "execute_result"
    }
   ],
   "source": [
    "#checking current status column\n",
    "df['current_status'].unique()"
   ]
  },
  {
   "cell_type": "code",
   "execution_count": 58,
   "id": "married-oriental",
   "metadata": {
    "execution": {
     "iopub.execute_input": "2022-01-22T17:45:52.568506Z",
     "iopub.status.busy": "2022-01-22T17:45:52.567795Z",
     "iopub.status.idle": "2022-01-22T17:45:58.941393Z",
     "shell.execute_reply": "2022-01-22T17:45:58.940576Z",
     "shell.execute_reply.started": "2022-01-22T16:52:46.874978Z"
    },
    "papermill": {
     "duration": 6.550732,
     "end_time": "2022-01-22T17:45:58.941555",
     "exception": false,
     "start_time": "2022-01-22T17:45:52.390823",
     "status": "completed"
    },
    "tags": []
   },
   "outputs": [
    {
     "data": {
      "text/plain": [
       "cdc_report_dt                    0\n",
       "pos_spec_dt                      0\n",
       "onset_dt                         0\n",
       "current_status                   0\n",
       "sex                              0\n",
       "age_group                        0\n",
       "Race and ethnicity (combined)    0\n",
       "hosp_yn                          0\n",
       "icu_yn                           0\n",
       "death_yn                         0\n",
       "medcond_yn                       0\n",
       "month_cdc                        0\n",
       "week_cdc                         0\n",
       "dtype: int64"
      ]
     },
     "execution_count": 58,
     "metadata": {},
     "output_type": "execute_result"
    }
   ],
   "source": [
    "df.isnull().sum()"
   ]
  },
  {
   "cell_type": "code",
   "execution_count": 59,
   "id": "mounted-background",
   "metadata": {
    "execution": {
     "iopub.execute_input": "2022-01-22T17:45:59.290442Z",
     "iopub.status.busy": "2022-01-22T17:45:59.289611Z",
     "iopub.status.idle": "2022-01-22T17:45:59.722932Z",
     "shell.execute_reply": "2022-01-22T17:45:59.722463Z",
     "shell.execute_reply.started": "2022-01-22T16:52:49.535980Z"
    },
    "papermill": {
     "duration": 0.607538,
     "end_time": "2022-01-22T17:45:59.723075",
     "exception": false,
     "start_time": "2022-01-22T17:45:59.115537",
     "status": "completed"
    },
    "tags": []
   },
   "outputs": [
    {
     "data": {
      "text/html": [
       "<div>\n",
       "<style scoped>\n",
       "    .dataframe tbody tr th:only-of-type {\n",
       "        vertical-align: middle;\n",
       "    }\n",
       "\n",
       "    .dataframe tbody tr th {\n",
       "        vertical-align: top;\n",
       "    }\n",
       "\n",
       "    .dataframe thead th {\n",
       "        text-align: right;\n",
       "    }\n",
       "</style>\n",
       "<table border=\"1\" class=\"dataframe\">\n",
       "  <thead>\n",
       "    <tr style=\"text-align: right;\">\n",
       "      <th></th>\n",
       "      <th>count</th>\n",
       "      <th>mean</th>\n",
       "      <th>std</th>\n",
       "      <th>min</th>\n",
       "      <th>25%</th>\n",
       "      <th>50%</th>\n",
       "      <th>75%</th>\n",
       "      <th>max</th>\n",
       "    </tr>\n",
       "  </thead>\n",
       "  <tbody>\n",
       "    <tr>\n",
       "      <th>month_cdc</th>\n",
       "      <td>8405079.0</td>\n",
       "      <td>8.180179</td>\n",
       "      <td>2.303354</td>\n",
       "      <td>1.0</td>\n",
       "      <td>6.0</td>\n",
       "      <td>8.0</td>\n",
       "      <td>10.0</td>\n",
       "      <td>11.0</td>\n",
       "    </tr>\n",
       "    <tr>\n",
       "      <th>week_cdc</th>\n",
       "      <td>8405079.0</td>\n",
       "      <td>34.201397</td>\n",
       "      <td>9.923094</td>\n",
       "      <td>1.0</td>\n",
       "      <td>27.0</td>\n",
       "      <td>35.0</td>\n",
       "      <td>43.0</td>\n",
       "      <td>47.0</td>\n",
       "    </tr>\n",
       "  </tbody>\n",
       "</table>\n",
       "</div>"
      ],
      "text/plain": [
       "               count       mean       std  min   25%   50%   75%   max\n",
       "month_cdc  8405079.0   8.180179  2.303354  1.0   6.0   8.0  10.0  11.0\n",
       "week_cdc   8405079.0  34.201397  9.923094  1.0  27.0  35.0  43.0  47.0"
      ]
     },
     "execution_count": 59,
     "metadata": {},
     "output_type": "execute_result"
    }
   ],
   "source": [
    "df.describe().T"
   ]
  },
  {
   "cell_type": "code",
   "execution_count": 60,
   "id": "formed-portfolio",
   "metadata": {
    "execution": {
     "iopub.execute_input": "2022-01-22T17:46:00.648784Z",
     "iopub.status.busy": "2022-01-22T17:46:00.648184Z",
     "iopub.status.idle": "2022-01-22T17:46:00.848185Z",
     "shell.execute_reply": "2022-01-22T17:46:00.847640Z",
     "shell.execute_reply.started": "2022-01-22T16:52:50.192772Z"
    },
    "papermill": {
     "duration": 1.01034,
     "end_time": "2022-01-22T17:46:00.848299",
     "exception": false,
     "start_time": "2022-01-22T17:45:59.837959",
     "status": "completed"
    },
    "tags": []
   },
   "outputs": [
    {
     "data": {
      "text/plain": [
       "array(['No', 'Yes'], dtype=object)"
      ]
     },
     "execution_count": 60,
     "metadata": {},
     "output_type": "execute_result"
    }
   ],
   "source": [
    "df['death_yn'].unique()"
   ]
  },
  {
   "cell_type": "code",
   "execution_count": 61,
   "id": "hundred-pipeline",
   "metadata": {
    "execution": {
     "iopub.execute_input": "2022-01-22T17:46:01.320003Z",
     "iopub.status.busy": "2022-01-22T17:46:01.319480Z",
     "iopub.status.idle": "2022-01-22T17:46:03.685019Z",
     "shell.execute_reply": "2022-01-22T17:46:03.685518Z",
     "shell.execute_reply.started": "2022-01-22T16:52:50.626330Z"
    },
    "papermill": {
     "duration": 2.723646,
     "end_time": "2022-01-22T17:46:03.685671",
     "exception": false,
     "start_time": "2022-01-22T17:46:00.962025",
     "status": "completed"
    },
    "tags": []
   },
   "outputs": [],
   "source": [
    "df['death_yn'].replace({'Yes':1,'No':0},inplace=True)"
   ]
  },
  {
   "cell_type": "markdown",
   "id": "bibliographic-guide",
   "metadata": {
    "papermill": {
     "duration": 0.112703,
     "end_time": "2022-01-22T17:46:03.915978",
     "exception": false,
     "start_time": "2022-01-22T17:46:03.803275",
     "status": "completed"
    },
    "tags": []
   },
   "source": [
    "# DataVisualization "
   ]
  },
  {
   "cell_type": "markdown",
   "id": "happy-geometry",
   "metadata": {
    "papermill": {
     "duration": 0.114032,
     "end_time": "2022-01-22T17:46:04.143225",
     "exception": false,
     "start_time": "2022-01-22T17:46:04.029193",
     "status": "completed"
    },
    "tags": []
   },
   "source": [
    "# How to know the values distribution of age group ?"
   ]
  },
  {
   "cell_type": "code",
   "execution_count": 62,
   "id": "written-handling",
   "metadata": {
    "execution": {
     "iopub.execute_input": "2022-01-22T17:46:04.373917Z",
     "iopub.status.busy": "2022-01-22T17:46:04.373402Z",
     "iopub.status.idle": "2022-01-22T17:46:09.511879Z",
     "shell.execute_reply": "2022-01-22T17:46:09.511218Z",
     "shell.execute_reply.started": "2022-01-22T16:52:53.897903Z"
    },
    "papermill": {
     "duration": 5.254259,
     "end_time": "2022-01-22T17:46:09.512023",
     "exception": false,
     "start_time": "2022-01-22T17:46:04.257764",
     "status": "completed"
    },
    "tags": []
   },
   "outputs": [
    {
     "data": {
      "image/png": "[encoded data removed]",
      "text/plain": [
       "<Figure size 720x432 with 1 Axes>"
      ]
     },
     "metadata": {
      "needs_background": "light"
     },
     "output_type": "display_data"
    }
   ],
   "source": [
    "plt.figure(figsize=(10,6))\n",
    "plt.hist(df['age_group'],log=True)\n",
    "plt.xlabel(\"Age group\")\n",
    "plt.xticks(rotation=45)\n",
    "plt.show()"
   ]
  },
  {
   "cell_type": "markdown",
   "id": "clear-manufacturer",
   "metadata": {
    "papermill": {
     "duration": 0.175865,
     "end_time": "2022-01-22T17:46:09.866532",
     "exception": false,
     "start_time": "2022-01-22T17:46:09.690667",
     "status": "completed"
    },
    "tags": []
   },
   "source": [
    "# How to know the values distribution of Race and ethnicity..?"
   ]
  },
  {
   "cell_type": "code",
   "execution_count": 63,
   "id": "minimal-mozambique",
   "metadata": {
    "execution": {
     "iopub.execute_input": "2022-01-22T17:46:10.161549Z",
     "iopub.status.busy": "2022-01-22T17:46:10.160643Z",
     "iopub.status.idle": "2022-01-22T17:46:12.916473Z",
     "shell.execute_reply": "2022-01-22T17:46:12.915904Z",
     "shell.execute_reply.started": "2022-01-22T16:52:56.474157Z"
    },
    "papermill": {
     "duration": 2.874219,
     "end_time": "2022-01-22T17:46:12.916632",
     "exception": false,
     "start_time": "2022-01-22T17:46:10.042413",
     "status": "completed"
    },
    "tags": []
   },
   "outputs": [
    {
     "data": {
      "image/png": "[encoded data removed]",
      "text/plain": [
       "<Figure size 720x432 with 1 Axes>"
      ]
     },
     "metadata": {
      "needs_background": "light"
     },
     "output_type": "display_data"
    }
   ],
   "source": [
    "plt.figure(figsize=(10,6))\n",
    "plt.hist(df['Race and ethnicity (combined)'],log=True)\n",
    "plt.xlabel(\"Race Ethnicity\")\n",
    "plt.xticks(rotation=45)\n",
    "plt.show()"
   ]
  },
  {
   "cell_type": "markdown",
   "id": "single-involvement",
   "metadata": {
    "papermill": {
     "duration": 0.176779,
     "end_time": "2022-01-22T17:46:13.269919",
     "exception": false,
     "start_time": "2022-01-22T17:46:13.093140",
     "status": "completed"
    },
    "tags": []
   },
   "source": [
    "# How to know the values distribution in Medical condition..?"
   ]
  },
  {
   "cell_type": "code",
   "execution_count": 64,
   "id": "human-position",
   "metadata": {
    "execution": {
     "iopub.execute_input": "2022-01-22T17:46:13.692936Z",
     "iopub.status.busy": "2022-01-22T17:46:13.641018Z",
     "iopub.status.idle": "2022-01-22T17:46:16.002864Z",
     "shell.execute_reply": "2022-01-22T17:46:16.002152Z",
     "shell.execute_reply.started": "2022-01-22T16:52:59.063411Z"
    },
    "papermill": {
     "duration": 2.556685,
     "end_time": "2022-01-22T17:46:16.003018",
     "exception": false,
     "start_time": "2022-01-22T17:46:13.446333",
     "status": "completed"
    },
    "tags": []
   },
   "outputs": [
    {
     "data": {
      "image/png": "[encoded data removed]",
      "text/plain": [
       "<Figure size 720x432 with 1 Axes>"
      ]
     },
     "metadata": {
      "needs_background": "light"
     },
     "output_type": "display_data"
    }
   ],
   "source": [
    "plt.figure(figsize=(10,6))\n",
    "plt.hist(df['medcond_yn'],log=True)\n",
    "plt.xlabel(\"Medical condition\")\n",
    "plt.xticks(rotation=45)\n",
    "plt.show()"
   ]
  },
  {
   "cell_type": "markdown",
   "id": "fatty-anxiety",
   "metadata": {
    "papermill": {
     "duration": 0.175015,
     "end_time": "2022-01-22T17:46:16.354197",
     "exception": false,
     "start_time": "2022-01-22T17:46:16.179182",
     "status": "completed"
    },
    "tags": []
   },
   "source": [
    "# Spread of admission based on gender in ICU..?\n"
   ]
  },
  {
   "cell_type": "code",
   "execution_count": 65,
   "id": "instrumental-steps",
   "metadata": {
    "execution": {
     "iopub.execute_input": "2022-01-22T17:46:16.714411Z",
     "iopub.status.busy": "2022-01-22T17:46:16.713647Z",
     "iopub.status.idle": "2022-01-22T17:46:34.800794Z",
     "shell.execute_reply": "2022-01-22T17:46:34.800277Z",
     "shell.execute_reply.started": "2022-01-22T16:53:01.452365Z"
    },
    "papermill": {
     "duration": 18.270193,
     "end_time": "2022-01-22T17:46:34.800912",
     "exception": false,
     "start_time": "2022-01-22T17:46:16.530719",
     "status": "completed"
    },
    "tags": []
   },
   "outputs": [
    {
     "data": {
      "image/png": "[encoded data removed]",
      "text/plain": [
       "<Figure size 720x504 with 1 Axes>"
      ]
     },
     "metadata": {
      "needs_background": "light"
     },
     "output_type": "display_data"
    }
   ],
   "source": [
    "\n",
    "plt.figure(figsize=(10,7))\n",
    "sns.histplot(data=df, x=\"icu_yn\", hue=\"sex\", multiple=\"stack\")\n",
    "plt.xlabel(\"Admission's in ICU\")\n",
    "plt.show()"
   ]
  },
  {
   "cell_type": "markdown",
   "id": "aggregate-rainbow",
   "metadata": {
    "papermill": {
     "duration": 0.115784,
     "end_time": "2022-01-22T17:46:35.033360",
     "exception": false,
     "start_time": "2022-01-22T17:46:34.917576",
     "status": "completed"
    },
    "tags": []
   },
   "source": [
    "# How to know the current status of people based on age group..?"
   ]
  },
  {
   "cell_type": "code",
   "execution_count": 66,
   "id": "organized-collapse",
   "metadata": {
    "execution": {
     "iopub.execute_input": "2022-01-22T17:46:35.270495Z",
     "iopub.status.busy": "2022-01-22T17:46:35.269919Z",
     "iopub.status.idle": "2022-01-22T17:46:45.860927Z",
     "shell.execute_reply": "2022-01-22T17:46:45.860333Z",
     "shell.execute_reply.started": "2022-01-22T16:53:14.595970Z"
    },
    "papermill": {
     "duration": 10.711688,
     "end_time": "2022-01-22T17:46:45.861095",
     "exception": false,
     "start_time": "2022-01-22T17:46:35.149407",
     "status": "completed"
    },
    "tags": []
   },
   "outputs": [
    {
     "data": {
      "image/png": "[encoded data removed]",
      "text/plain": [
       "<Figure size 576x432 with 1 Axes>"
      ]
     },
     "metadata": {
      "needs_background": "light"
     },
     "output_type": "display_data"
    }
   ],
   "source": [
    "plt.figure(figsize=(8,6))\n",
    "sns.countplot(y=\"current_status\",hue ='age_group',data=df)\n",
    "plt.show()"
   ]
  },
  {
   "cell_type": "markdown",
   "id": "informational-confusion",
   "metadata": {
    "papermill": {
     "duration": 0.178485,
     "end_time": "2022-01-22T17:46:46.220371",
     "exception": false,
     "start_time": "2022-01-22T17:46:46.041886",
     "status": "completed"
    },
    "tags": []
   },
   "source": [
    "# How to know the death of people based on age group..?\n"
   ]
  },
  {
   "cell_type": "code",
   "execution_count": 67,
   "id": "demonstrated-gravity",
   "metadata": {
    "execution": {
     "iopub.execute_input": "2022-01-22T17:46:46.458822Z",
     "iopub.status.busy": "2022-01-22T17:46:46.458315Z",
     "iopub.status.idle": "2022-01-22T17:46:53.724939Z",
     "shell.execute_reply": "2022-01-22T17:46:53.725377Z",
     "shell.execute_reply.started": "2022-01-22T16:53:27.544325Z"
    },
    "papermill": {
     "duration": 7.386959,
     "end_time": "2022-01-22T17:46:53.725527",
     "exception": false,
     "start_time": "2022-01-22T17:46:46.338568",
     "status": "completed"
    },
    "tags": []
   },
   "outputs": [
    {
     "data": {
      "image/png": "[encoded data removed]",
      "text/plain": [
       "<Figure size 576x432 with 1 Axes>"
      ]
     },
     "metadata": {
      "needs_background": "light"
     },
     "output_type": "display_data"
    }
   ],
   "source": [
    "\n",
    "plt.figure(figsize=(8,6))\n",
    "sns.countplot(y='death_yn',hue='age_group',data=df)\n",
    "plt.ylabel('death')\n",
    "plt.show()"
   ]
  },
  {
   "cell_type": "markdown",
   "id": "frozen-staff",
   "metadata": {
    "papermill": {
     "duration": 0.120532,
     "end_time": "2022-01-22T17:46:53.969282",
     "exception": false,
     "start_time": "2022-01-22T17:46:53.848750",
     "status": "completed"
    },
    "tags": []
   },
   "source": [
    "# How to know to count of people joined in icu based on age group..?"
   ]
  },
  {
   "cell_type": "code",
   "execution_count": 68,
   "id": "indonesian-breast",
   "metadata": {
    "execution": {
     "iopub.execute_input": "2022-01-22T17:46:54.208514Z",
     "iopub.status.busy": "2022-01-22T17:46:54.207951Z",
     "iopub.status.idle": "2022-01-22T17:47:04.281247Z",
     "shell.execute_reply": "2022-01-22T17:47:04.281720Z",
     "shell.execute_reply.started": "2022-01-22T16:53:35.216905Z"
    },
    "papermill": {
     "duration": 10.194181,
     "end_time": "2022-01-22T17:47:04.281866",
     "exception": false,
     "start_time": "2022-01-22T17:46:54.087685",
     "status": "completed"
    },
    "tags": []
   },
   "outputs": [
    {
     "data": {
      "image/png": "[encoded data removed]",
      "text/plain": [
       "<Figure size 576x432 with 1 Axes>"
      ]
     },
     "metadata": {
      "needs_background": "light"
     },
     "output_type": "display_data"
    }
   ],
   "source": [
    "\n",
    "plt.figure(figsize=(8,6))\n",
    "sns.countplot(y='icu_yn',hue='age_group',data=df)\n",
    "plt.ylabel('admission in icu')\n",
    "plt.show()"
   ]
  },
  {
   "cell_type": "markdown",
   "id": "solved-passing",
   "metadata": {
    "papermill": {
     "duration": 0.174126,
     "end_time": "2022-01-22T17:47:04.575421",
     "exception": false,
     "start_time": "2022-01-22T17:47:04.401295",
     "status": "completed"
    },
    "tags": []
   },
   "source": [
    "# How to know the death of people based on race and ethnicity..?"
   ]
  },
  {
   "cell_type": "code",
   "execution_count": 69,
   "id": "serious-figure",
   "metadata": {
    "execution": {
     "iopub.execute_input": "2022-01-22T17:47:04.939103Z",
     "iopub.status.busy": "2022-01-22T17:47:04.938452Z",
     "iopub.status.idle": "2022-01-22T17:47:15.662108Z",
     "shell.execute_reply": "2022-01-22T17:47:15.662657Z",
     "shell.execute_reply.started": "2022-01-22T16:53:47.396837Z"
    },
    "papermill": {
     "duration": 10.906553,
     "end_time": "2022-01-22T17:47:15.662838",
     "exception": false,
     "start_time": "2022-01-22T17:47:04.756285",
     "status": "completed"
    },
    "tags": []
   },
   "outputs": [
    {
     "data": {
      "image/png": "[encoded data removed]",
      "text/plain": [
       "<Figure size 576x576 with 1 Axes>"
      ]
     },
     "metadata": {
      "needs_background": "light"
     },
     "output_type": "display_data"
    }
   ],
   "source": [
    "plt.figure(figsize=(8,8))\n",
    "sns.countplot(y='death_yn',hue='Race and ethnicity (combined)',data=df)\n",
    "plt.ylabel('Death')\n",
    "plt.show()"
   ]
  },
  {
   "cell_type": "markdown",
   "id": "specific-edgar",
   "metadata": {
    "papermill": {
     "duration": 0.179624,
     "end_time": "2022-01-22T17:47:16.098371",
     "exception": false,
     "start_time": "2022-01-22T17:47:15.918747",
     "status": "completed"
    },
    "tags": []
   },
   "source": [
    "# How to know the count of people based on age group and gender..?\n"
   ]
  },
  {
   "cell_type": "code",
   "execution_count": 70,
   "id": "widespread-teach",
   "metadata": {
    "execution": {
     "iopub.execute_input": "2022-01-22T17:47:16.343291Z",
     "iopub.status.busy": "2022-01-22T17:47:16.342707Z",
     "iopub.status.idle": "2022-01-22T17:47:28.683267Z",
     "shell.execute_reply": "2022-01-22T17:47:28.682734Z",
     "shell.execute_reply.started": "2022-01-22T16:53:54.011819Z"
    },
    "papermill": {
     "duration": 12.463373,
     "end_time": "2022-01-22T17:47:28.683379",
     "exception": false,
     "start_time": "2022-01-22T17:47:16.220006",
     "status": "completed"
    },
    "tags": []
   },
   "outputs": [
    {
     "data": {
      "image/png": "[encoded data removed]",
      "text/plain": [
       "<Figure size 1080x504 with 1 Axes>"
      ]
     },
     "metadata": {
      "needs_background": "light"
     },
     "output_type": "display_data"
    }
   ],
   "source": [
    "plt.figure(figsize=(15,7))\n",
    "sns.histplot(data=df,x='age_group',bins=30,hue='sex',multiple='stack')\n",
    "plt.xlabel(\"Age group\")\n",
    "plt.title(\" Count of age group's\")\n",
    "plt.show()"
   ]
  },
  {
   "cell_type": "markdown",
   "id": "received-restriction",
   "metadata": {
    "papermill": {
     "duration": 0.119332,
     "end_time": "2022-01-22T17:47:28.924412",
     "exception": false,
     "start_time": "2022-01-22T17:47:28.805080",
     "status": "completed"
    },
    "tags": []
   },
   "source": [
    "# How to figureout the  count of people joined in icu based on age groups..?"
   ]
  },
  {
   "cell_type": "code",
   "execution_count": 71,
   "id": "efficient-protein",
   "metadata": {
    "execution": {
     "iopub.execute_input": "2022-01-22T17:47:29.165768Z",
     "iopub.status.busy": "2022-01-22T17:47:29.165217Z",
     "iopub.status.idle": "2022-01-22T17:47:44.837245Z",
     "shell.execute_reply": "2022-01-22T17:47:44.836780Z",
     "shell.execute_reply.started": "2022-01-22T16:54:07.265321Z"
    },
    "papermill": {
     "duration": 15.795234,
     "end_time": "2022-01-22T17:47:44.837376",
     "exception": false,
     "start_time": "2022-01-22T17:47:29.042142",
     "status": "completed"
    },
    "tags": []
   },
   "outputs": [
    {
     "data": {
      "image/png": "[encoded data removed]",
      "text/plain": [
       "<Figure size 1080x504 with 1 Axes>"
      ]
     },
     "metadata": {
      "needs_background": "light"
     },
     "output_type": "display_data"
    }
   ],
   "source": [
    "plt.figure(figsize=(15,7))\n",
    "sns.histplot(data=df,x='age_group',bins=30,hue='icu_yn',multiple='stack')\n",
    "plt.xlabel(\"Age group\")\n",
    "plt.title(\" Count of age group's\")\n",
    "plt.show()"
   ]
  },
  {
   "cell_type": "code",
   "execution_count": 72,
   "id": "configured-calculation",
   "metadata": {
    "execution": {
     "iopub.execute_input": "2022-01-22T17:47:45.087001Z",
     "iopub.status.busy": "2022-01-22T17:47:45.086334Z",
     "iopub.status.idle": "2022-01-22T17:47:45.130405Z",
     "shell.execute_reply": "2022-01-22T17:47:45.129760Z",
     "shell.execute_reply.started": "2022-01-22T16:54:20.530248Z"
    },
    "papermill": {
     "duration": 0.170369,
     "end_time": "2022-01-22T17:47:45.130564",
     "exception": false,
     "start_time": "2022-01-22T17:47:44.960195",
     "status": "completed"
    },
    "tags": []
   },
   "outputs": [
    {
     "data": {
      "text/plain": [
       "array([0, 1])"
      ]
     },
     "execution_count": 72,
     "metadata": {},
     "output_type": "execute_result"
    }
   ],
   "source": [
    "df['death_yn'].unique()"
   ]
  },
  {
   "cell_type": "code",
   "execution_count": 73,
   "id": "human-eugene",
   "metadata": {
    "execution": {
     "iopub.execute_input": "2022-01-22T17:47:45.504725Z",
     "iopub.status.busy": "2022-01-22T17:47:45.504077Z",
     "iopub.status.idle": "2022-01-22T17:47:46.982940Z",
     "shell.execute_reply": "2022-01-22T17:47:46.982363Z",
     "shell.execute_reply.started": "2022-01-22T16:54:20.591963Z"
    },
    "papermill": {
     "duration": 1.668945,
     "end_time": "2022-01-22T17:47:46.983121",
     "exception": false,
     "start_time": "2022-01-22T17:47:45.314176",
     "status": "completed"
    },
    "tags": []
   },
   "outputs": [
    {
     "data": {
      "text/html": [
       "        <script type=\"text/javascript\">\n",
       "        window.PlotlyConfig = {MathJaxConfig: 'local'};\n",
       "        if (window.MathJax) {MathJax.Hub.Config({SVG: {font: \"STIX-Web\"}});}\n",
       "        if (typeof require !== 'undefined') {\n",
       "        require.undef(\"plotly\");\n",
       "        requirejs.config({\n",
       "            paths: {\n",
       "                'plotly': ['https://cdn.plot.ly/plotly-latest.min']\n",
       "            }\n",
       "        });\n",
       "        require(['plotly'], function(Plotly) {\n",
       "            window._Plotly = Plotly;\n",
       "        });\n",
       "        }\n",
       "        </script>\n",
       "        "
      ]
     },
     "metadata": {},
     "output_type": "display_data"
    },
    {
     "data": {
      "text/html": [
       "<div>                            <div id=\"3de62a53-b91a-4ada-b74f-4d39b148c89d\" class=\"plotly-graph-div\" style=\"height:525px; width:100%;\"></div>            <script type=\"text/javascript\">                require([\"plotly\"], function(Plotly) {                    window.PLOTLYENV=window.PLOTLYENV || {};                                    if (document.getElementById(\"3de62a53-b91a-4ada-b74f-4d39b148c89d\")) {                    Plotly.newPlot(                        \"3de62a53-b91a-4ada-b74f-4d39b148c89d\",                        [{\"domain\": {\"x\": [0.0, 1.0], \"y\": [0.0, 1.0]}, \"hovertemplate\": \"label=%{label}<br>value=%{value}<extra></extra>\", \"labels\": [\"Yes\", \"No\"], \"legendgroup\": \"\", \"name\": \"\", \"showlegend\": true, \"type\": \"pie\", \"values\": [8213853, 191226]}],                        {\"legend\": {\"tracegroupgap\": 0}, \"template\": {\"data\": {\"bar\": [{\"error_x\": {\"color\": \"#2a3f5f\"}, \"error_y\": {\"color\": \"#2a3f5f\"}, \"marker\": {\"line\": {\"color\": \"#E5ECF6\", \"width\": 0.5}}, \"type\": \"bar\"}], \"barpolar\": [{\"marker\": {\"line\": {\"color\": \"#E5ECF6\", \"width\": 0.5}}, \"type\": \"barpolar\"}], \"carpet\": [{\"aaxis\": {\"endlinecolor\": \"#2a3f5f\", \"gridcolor\": \"white\", \"linecolor\": \"white\", \"minorgridcolor\": \"white\", \"startlinecolor\": \"#2a3f5f\"}, \"baxis\": {\"endlinecolor\": \"#2a3f5f\", \"gridcolor\": \"white\", \"linecolor\": \"white\", \"minorgridcolor\": \"white\", \"startlinecolor\": \"#2a3f5f\"}, \"type\": \"carpet\"}], \"choropleth\": [{\"colorbar\": {\"outlinewidth\": 0, \"ticks\": \"\"}, \"type\": \"choropleth\"}], \"contour\": [{\"colorbar\": {\"outlinewidth\": 0, \"ticks\": \"\"}, \"colorscale\": [[0.0, \"#0d0887\"], [0.1111111111111111, \"#46039f\"], [0.2222222222222222, \"#7201a8\"], [0.3333333333333333, \"#9c179e\"], [0.4444444444444444, \"#bd3786\"], [0.5555555555555556, \"#d8576b\"], [0.6666666666666666, \"#ed7953\"], [0.7777777777777778, \"#fb9f3a\"], [0.8888888888888888, \"#fdca26\"], [1.0, \"#f0f921\"]], \"type\": \"contour\"}], \"contourcarpet\": [{\"colorbar\": {\"outlinewidth\": 0, \"ticks\": \"\"}, \"type\": \"contourcarpet\"}], \"heatmap\": [{\"colorbar\": {\"outlinewidth\": 0, \"ticks\": \"\"}, \"colorscale\": [[0.0, \"#0d0887\"], [0.1111111111111111, \"#46039f\"], [0.2222222222222222, \"#7201a8\"], [0.3333333333333333, \"#9c179e\"], [0.4444444444444444, \"#bd3786\"], [0.5555555555555556, \"#d8576b\"], [0.6666666666666666, \"#ed7953\"], [0.7777777777777778, \"#fb9f3a\"], [0.8888888888888888, \"#fdca26\"], [1.0, \"#f0f921\"]], \"type\": \"heatmap\"}], \"heatmapgl\": [{\"colorbar\": {\"outlinewidth\": 0, \"ticks\": \"\"}, \"colorscale\": [[0.0, \"#0d0887\"], [0.1111111111111111, \"#46039f\"], [0.2222222222222222, \"#7201a8\"], [0.3333333333333333, \"#9c179e\"], [0.4444444444444444, \"#bd3786\"], [0.5555555555555556, \"#d8576b\"], [0.6666666666666666, \"#ed7953\"], [0.7777777777777778, \"#fb9f3a\"], [0.8888888888888888, \"#fdca26\"], [1.0, \"#f0f921\"]], \"type\": \"heatmapgl\"}], \"histogram\": [{\"marker\": {\"colorbar\": {\"outlinewidth\": 0, \"ticks\": \"\"}}, \"type\": \"histogram\"}], \"histogram2d\": [{\"colorbar\": {\"outlinewidth\": 0, \"ticks\": \"\"}, \"colorscale\": [[0.0, \"#0d0887\"], [0.1111111111111111, \"#46039f\"], [0.2222222222222222, \"#7201a8\"], [0.3333333333333333, \"#9c179e\"], [0.4444444444444444, \"#bd3786\"], [0.5555555555555556, \"#d8576b\"], [0.6666666666666666, \"#ed7953\"], [0.7777777777777778, \"#fb9f3a\"], [0.8888888888888888, \"#fdca26\"], [1.0, \"#f0f921\"]], \"type\": \"histogram2d\"}], \"histogram2dcontour\": [{\"colorbar\": {\"outlinewidth\": 0, \"ticks\": \"\"}, \"colorscale\": [[0.0, \"#0d0887\"], [0.1111111111111111, \"#46039f\"], [0.2222222222222222, \"#7201a8\"], [0.3333333333333333, \"#9c179e\"], [0.4444444444444444, \"#bd3786\"], [0.5555555555555556, \"#d8576b\"], [0.6666666666666666, \"#ed7953\"], [0.7777777777777778, \"#fb9f3a\"], [0.8888888888888888, \"#fdca26\"], [1.0, \"#f0f921\"]], \"type\": \"histogram2dcontour\"}], \"mesh3d\": [{\"colorbar\": {\"outlinewidth\": 0, \"ticks\": \"\"}, \"type\": \"mesh3d\"}], \"parcoords\": [{\"line\": {\"colorbar\": {\"outlinewidth\": 0, \"ticks\": \"\"}}, \"type\": \"parcoords\"}], \"pie\": [{\"automargin\": true, \"type\": \"pie\"}], \"scatter\": [{\"marker\": {\"colorbar\": {\"outlinewidth\": 0, \"ticks\": \"\"}}, \"type\": \"scatter\"}], \"scatter3d\": [{\"line\": {\"colorbar\": {\"outlinewidth\": 0, \"ticks\": \"\"}}, \"marker\": {\"colorbar\": {\"outlinewidth\": 0, \"ticks\": \"\"}}, \"type\": \"scatter3d\"}], \"scattercarpet\": [{\"marker\": {\"colorbar\": {\"outlinewidth\": 0, \"ticks\": \"\"}}, \"type\": \"scattercarpet\"}], \"scattergeo\": [{\"marker\": {\"colorbar\": {\"outlinewidth\": 0, \"ticks\": \"\"}}, \"type\": \"scattergeo\"}], \"scattergl\": [{\"marker\": {\"colorbar\": {\"outlinewidth\": 0, \"ticks\": \"\"}}, \"type\": \"scattergl\"}], \"scattermapbox\": [{\"marker\": {\"colorbar\": {\"outlinewidth\": 0, \"ticks\": \"\"}}, \"type\": \"scattermapbox\"}], \"scatterpolar\": [{\"marker\": {\"colorbar\": {\"outlinewidth\": 0, \"ticks\": \"\"}}, \"type\": \"scatterpolar\"}], \"scatterpolargl\": [{\"marker\": {\"colorbar\": {\"outlinewidth\": 0, \"ticks\": \"\"}}, \"type\": \"scatterpolargl\"}], \"scatterternary\": [{\"marker\": {\"colorbar\": {\"outlinewidth\": 0, \"ticks\": \"\"}}, \"type\": \"scatterternary\"}], \"surface\": [{\"colorbar\": {\"outlinewidth\": 0, \"ticks\": \"\"}, \"colorscale\": [[0.0, \"#0d0887\"], [0.1111111111111111, \"#46039f\"], [0.2222222222222222, \"#7201a8\"], [0.3333333333333333, \"#9c179e\"], [0.4444444444444444, \"#bd3786\"], [0.5555555555555556, \"#d8576b\"], [0.6666666666666666, \"#ed7953\"], [0.7777777777777778, \"#fb9f3a\"], [0.8888888888888888, \"#fdca26\"], [1.0, \"#f0f921\"]], \"type\": \"surface\"}], \"table\": [{\"cells\": {\"fill\": {\"color\": \"#EBF0F8\"}, \"line\": {\"color\": \"white\"}}, \"header\": {\"fill\": {\"color\": \"#C8D4E3\"}, \"line\": {\"color\": \"white\"}}, \"type\": \"table\"}]}, \"layout\": {\"annotationdefaults\": {\"arrowcolor\": \"#2a3f5f\", \"arrowhead\": 0, \"arrowwidth\": 1}, \"autotypenumbers\": \"strict\", \"coloraxis\": {\"colorbar\": {\"outlinewidth\": 0, \"ticks\": \"\"}}, \"colorscale\": {\"diverging\": [[0, \"#8e0152\"], [0.1, \"#c51b7d\"], [0.2, \"#de77ae\"], [0.3, \"#f1b6da\"], [0.4, \"#fde0ef\"], [0.5, \"#f7f7f7\"], [0.6, \"#e6f5d0\"], [0.7, \"#b8e186\"], [0.8, \"#7fbc41\"], [0.9, \"#4d9221\"], [1, \"#276419\"]], \"sequential\": [[0.0, \"#0d0887\"], [0.1111111111111111, \"#46039f\"], [0.2222222222222222, \"#7201a8\"], [0.3333333333333333, \"#9c179e\"], [0.4444444444444444, \"#bd3786\"], [0.5555555555555556, \"#d8576b\"], [0.6666666666666666, \"#ed7953\"], [0.7777777777777778, \"#fb9f3a\"], [0.8888888888888888, \"#fdca26\"], [1.0, \"#f0f921\"]], \"sequentialminus\": [[0.0, \"#0d0887\"], [0.1111111111111111, \"#46039f\"], [0.2222222222222222, \"#7201a8\"], [0.3333333333333333, \"#9c179e\"], [0.4444444444444444, \"#bd3786\"], [0.5555555555555556, \"#d8576b\"], [0.6666666666666666, \"#ed7953\"], [0.7777777777777778, \"#fb9f3a\"], [0.8888888888888888, \"#fdca26\"], [1.0, \"#f0f921\"]]}, \"colorway\": [\"#636efa\", \"#EF553B\", \"#00cc96\", \"#ab63fa\", \"#FFA15A\", \"#19d3f3\", \"#FF6692\", \"#B6E880\", \"#FF97FF\", \"#FECB52\"], \"font\": {\"color\": \"#2a3f5f\"}, \"geo\": {\"bgcolor\": \"white\", \"lakecolor\": \"white\", \"landcolor\": \"#E5ECF6\", \"showlakes\": true, \"showland\": true, \"subunitcolor\": \"white\"}, \"hoverlabel\": {\"align\": \"left\"}, \"hovermode\": \"closest\", \"mapbox\": {\"style\": \"light\"}, \"paper_bgcolor\": \"white\", \"plot_bgcolor\": \"#E5ECF6\", \"polar\": {\"angularaxis\": {\"gridcolor\": \"white\", \"linecolor\": \"white\", \"ticks\": \"\"}, \"bgcolor\": \"#E5ECF6\", \"radialaxis\": {\"gridcolor\": \"white\", \"linecolor\": \"white\", \"ticks\": \"\"}}, \"scene\": {\"xaxis\": {\"backgroundcolor\": \"#E5ECF6\", \"gridcolor\": \"white\", \"gridwidth\": 2, \"linecolor\": \"white\", \"showbackground\": true, \"ticks\": \"\", \"zerolinecolor\": \"white\"}, \"yaxis\": {\"backgroundcolor\": \"#E5ECF6\", \"gridcolor\": \"white\", \"gridwidth\": 2, \"linecolor\": \"white\", \"showbackground\": true, \"ticks\": \"\", \"zerolinecolor\": \"white\"}, \"zaxis\": {\"backgroundcolor\": \"#E5ECF6\", \"gridcolor\": \"white\", \"gridwidth\": 2, \"linecolor\": \"white\", \"showbackground\": true, \"ticks\": \"\", \"zerolinecolor\": \"white\"}}, \"shapedefaults\": {\"line\": {\"color\": \"#2a3f5f\"}}, \"ternary\": {\"aaxis\": {\"gridcolor\": \"white\", \"linecolor\": \"white\", \"ticks\": \"\"}, \"baxis\": {\"gridcolor\": \"white\", \"linecolor\": \"white\", \"ticks\": \"\"}, \"bgcolor\": \"#E5ECF6\", \"caxis\": {\"gridcolor\": \"white\", \"linecolor\": \"white\", \"ticks\": \"\"}}, \"title\": {\"x\": 0.05}, \"xaxis\": {\"automargin\": true, \"gridcolor\": \"white\", \"linecolor\": \"white\", \"ticks\": \"\", \"title\": {\"standoff\": 15}, \"zerolinecolor\": \"white\", \"zerolinewidth\": 2}, \"yaxis\": {\"automargin\": true, \"gridcolor\": \"white\", \"linecolor\": \"white\", \"ticks\": \"\", \"title\": {\"standoff\": 15}, \"zerolinecolor\": \"white\", \"zerolinewidth\": 2}}}, \"title\": {\"text\": \"Distribution Pre-Existing Medical Conditions\"}},                        {\"responsive\": true}                    ).then(function(){\n",
       "                            \n",
       "var gd = document.getElementById('3de62a53-b91a-4ada-b74f-4d39b148c89d');\n",
       "var x = new MutationObserver(function (mutations, observer) {{\n",
       "        var display = window.getComputedStyle(gd).display;\n",
       "        if (!display || display === 'none') {{\n",
       "            console.log([gd, 'removed!']);\n",
       "            Plotly.purge(gd);\n",
       "            observer.disconnect();\n",
       "        }}\n",
       "}});\n",
       "\n",
       "// Listen for the removal of the full notebook cells\n",
       "var notebookContainer = gd.closest('#notebook-container');\n",
       "if (notebookContainer) {{\n",
       "    x.observe(notebookContainer, {childList: true});\n",
       "}}\n",
       "\n",
       "// Listen for the clearing of the current output cell\n",
       "var outputEl = gd.closest('.output');\n",
       "if (outputEl) {{\n",
       "    x.observe(outputEl, {childList: true});\n",
       "}}\n",
       "\n",
       "                        })                };                });            </script>        </div>"
      ]
     },
     "metadata": {},
     "output_type": "display_data"
    }
   ],
   "source": [
    "values = df['death_yn'].value_counts().tolist()\n",
    "names = [ 'Yes', 'No']\n",
    "fig = px.pie(names=names,values=values, title=\"Distribution Pre-Existing Medical Conditions\",)\n",
    "fig.show()\n"
   ]
  },
  {
   "cell_type": "code",
   "execution_count": 74,
   "id": "contrary-herald",
   "metadata": {
    "execution": {
     "iopub.execute_input": "2022-01-22T17:47:47.357188Z",
     "iopub.status.busy": "2022-01-22T17:47:47.356527Z",
     "iopub.status.idle": "2022-01-22T17:47:47.977056Z",
     "shell.execute_reply": "2022-01-22T17:47:47.976610Z",
     "shell.execute_reply.started": "2022-01-22T16:54:20.722723Z"
    },
    "papermill": {
     "duration": 0.808508,
     "end_time": "2022-01-22T17:47:47.977189",
     "exception": false,
     "start_time": "2022-01-22T17:47:47.168681",
     "status": "completed"
    },
    "tags": []
   },
   "outputs": [
    {
     "data": {
      "text/html": [
       "<div>                            <div id=\"bec3c523-7611-4d82-b564-a5d2f1fa2b56\" class=\"plotly-graph-div\" style=\"height:525px; width:100%;\"></div>            <script type=\"text/javascript\">                require([\"plotly\"], function(Plotly) {                    window.PLOTLYENV=window.PLOTLYENV || {};                                    if (document.getElementById(\"bec3c523-7611-4d82-b564-a5d2f1fa2b56\")) {                    Plotly.newPlot(                        \"bec3c523-7611-4d82-b564-a5d2f1fa2b56\",                        [{\"domain\": {\"x\": [0.0, 1.0], \"y\": [0.0, 1.0]}, \"hovertemplate\": \"label=%{label}<br>value=%{value}<extra></extra>\", \"labels\": [\"Unknown\", \"Yes\", \"No\"], \"legendgroup\": \"\", \"name\": \"\", \"showlegend\": true, \"type\": \"pie\", \"values\": [5004426, 2046858, 1353795]}],                        {\"legend\": {\"tracegroupgap\": 0}, \"template\": {\"data\": {\"bar\": [{\"error_x\": {\"color\": \"#2a3f5f\"}, \"error_y\": {\"color\": \"#2a3f5f\"}, \"marker\": {\"line\": {\"color\": \"#E5ECF6\", \"width\": 0.5}}, \"type\": \"bar\"}], \"barpolar\": [{\"marker\": {\"line\": {\"color\": \"#E5ECF6\", \"width\": 0.5}}, \"type\": \"barpolar\"}], \"carpet\": [{\"aaxis\": {\"endlinecolor\": \"#2a3f5f\", \"gridcolor\": \"white\", \"linecolor\": \"white\", \"minorgridcolor\": \"white\", \"startlinecolor\": \"#2a3f5f\"}, \"baxis\": {\"endlinecolor\": \"#2a3f5f\", \"gridcolor\": \"white\", \"linecolor\": \"white\", \"minorgridcolor\": \"white\", \"startlinecolor\": \"#2a3f5f\"}, \"type\": \"carpet\"}], \"choropleth\": [{\"colorbar\": {\"outlinewidth\": 0, \"ticks\": \"\"}, \"type\": \"choropleth\"}], \"contour\": [{\"colorbar\": {\"outlinewidth\": 0, \"ticks\": \"\"}, \"colorscale\": [[0.0, \"#0d0887\"], [0.1111111111111111, \"#46039f\"], [0.2222222222222222, \"#7201a8\"], [0.3333333333333333, \"#9c179e\"], [0.4444444444444444, \"#bd3786\"], [0.5555555555555556, \"#d8576b\"], [0.6666666666666666, \"#ed7953\"], [0.7777777777777778, \"#fb9f3a\"], [0.8888888888888888, \"#fdca26\"], [1.0, \"#f0f921\"]], \"type\": \"contour\"}], \"contourcarpet\": [{\"colorbar\": {\"outlinewidth\": 0, \"ticks\": \"\"}, \"type\": \"contourcarpet\"}], \"heatmap\": [{\"colorbar\": {\"outlinewidth\": 0, \"ticks\": \"\"}, \"colorscale\": [[0.0, \"#0d0887\"], [0.1111111111111111, \"#46039f\"], [0.2222222222222222, \"#7201a8\"], [0.3333333333333333, \"#9c179e\"], [0.4444444444444444, \"#bd3786\"], [0.5555555555555556, \"#d8576b\"], [0.6666666666666666, \"#ed7953\"], [0.7777777777777778, \"#fb9f3a\"], [0.8888888888888888, \"#fdca26\"], [1.0, \"#f0f921\"]], \"type\": \"heatmap\"}], \"heatmapgl\": [{\"colorbar\": {\"outlinewidth\": 0, \"ticks\": \"\"}, \"colorscale\": [[0.0, \"#0d0887\"], [0.1111111111111111, \"#46039f\"], [0.2222222222222222, \"#7201a8\"], [0.3333333333333333, \"#9c179e\"], [0.4444444444444444, \"#bd3786\"], [0.5555555555555556, \"#d8576b\"], [0.6666666666666666, \"#ed7953\"], [0.7777777777777778, \"#fb9f3a\"], [0.8888888888888888, \"#fdca26\"], [1.0, \"#f0f921\"]], \"type\": \"heatmapgl\"}], \"histogram\": [{\"marker\": {\"colorbar\": {\"outlinewidth\": 0, \"ticks\": \"\"}}, \"type\": \"histogram\"}], \"histogram2d\": [{\"colorbar\": {\"outlinewidth\": 0, \"ticks\": \"\"}, \"colorscale\": [[0.0, \"#0d0887\"], [0.1111111111111111, \"#46039f\"], [0.2222222222222222, \"#7201a8\"], [0.3333333333333333, \"#9c179e\"], [0.4444444444444444, \"#bd3786\"], [0.5555555555555556, \"#d8576b\"], [0.6666666666666666, \"#ed7953\"], [0.7777777777777778, \"#fb9f3a\"], [0.8888888888888888, \"#fdca26\"], [1.0, \"#f0f921\"]], \"type\": \"histogram2d\"}], \"histogram2dcontour\": [{\"colorbar\": {\"outlinewidth\": 0, \"ticks\": \"\"}, \"colorscale\": [[0.0, \"#0d0887\"], [0.1111111111111111, \"#46039f\"], [0.2222222222222222, \"#7201a8\"], [0.3333333333333333, \"#9c179e\"], [0.4444444444444444, \"#bd3786\"], [0.5555555555555556, \"#d8576b\"], [0.6666666666666666, \"#ed7953\"], [0.7777777777777778, \"#fb9f3a\"], [0.8888888888888888, \"#fdca26\"], [1.0, \"#f0f921\"]], \"type\": \"histogram2dcontour\"}], \"mesh3d\": [{\"colorbar\": {\"outlinewidth\": 0, \"ticks\": \"\"}, \"type\": \"mesh3d\"}], \"parcoords\": [{\"line\": {\"colorbar\": {\"outlinewidth\": 0, \"ticks\": \"\"}}, \"type\": \"parcoords\"}], \"pie\": [{\"automargin\": true, \"type\": \"pie\"}], \"scatter\": [{\"marker\": {\"colorbar\": {\"outlinewidth\": 0, \"ticks\": \"\"}}, \"type\": \"scatter\"}], \"scatter3d\": [{\"line\": {\"colorbar\": {\"outlinewidth\": 0, \"ticks\": \"\"}}, \"marker\": {\"colorbar\": {\"outlinewidth\": 0, \"ticks\": \"\"}}, \"type\": \"scatter3d\"}], \"scattercarpet\": [{\"marker\": {\"colorbar\": {\"outlinewidth\": 0, \"ticks\": \"\"}}, \"type\": \"scattercarpet\"}], \"scattergeo\": [{\"marker\": {\"colorbar\": {\"outlinewidth\": 0, \"ticks\": \"\"}}, \"type\": \"scattergeo\"}], \"scattergl\": [{\"marker\": {\"colorbar\": {\"outlinewidth\": 0, \"ticks\": \"\"}}, \"type\": \"scattergl\"}], \"scattermapbox\": [{\"marker\": {\"colorbar\": {\"outlinewidth\": 0, \"ticks\": \"\"}}, \"type\": \"scattermapbox\"}], \"scatterpolar\": [{\"marker\": {\"colorbar\": {\"outlinewidth\": 0, \"ticks\": \"\"}}, \"type\": \"scatterpolar\"}], \"scatterpolargl\": [{\"marker\": {\"colorbar\": {\"outlinewidth\": 0, \"ticks\": \"\"}}, \"type\": \"scatterpolargl\"}], \"scatterternary\": [{\"marker\": {\"colorbar\": {\"outlinewidth\": 0, \"ticks\": \"\"}}, \"type\": \"scatterternary\"}], \"surface\": [{\"colorbar\": {\"outlinewidth\": 0, \"ticks\": \"\"}, \"colorscale\": [[0.0, \"#0d0887\"], [0.1111111111111111, \"#46039f\"], [0.2222222222222222, \"#7201a8\"], [0.3333333333333333, \"#9c179e\"], [0.4444444444444444, \"#bd3786\"], [0.5555555555555556, \"#d8576b\"], [0.6666666666666666, \"#ed7953\"], [0.7777777777777778, \"#fb9f3a\"], [0.8888888888888888, \"#fdca26\"], [1.0, \"#f0f921\"]], \"type\": \"surface\"}], \"table\": [{\"cells\": {\"fill\": {\"color\": \"#EBF0F8\"}, \"line\": {\"color\": \"white\"}}, \"header\": {\"fill\": {\"color\": \"#C8D4E3\"}, \"line\": {\"color\": \"white\"}}, \"type\": \"table\"}]}, \"layout\": {\"annotationdefaults\": {\"arrowcolor\": \"#2a3f5f\", \"arrowhead\": 0, \"arrowwidth\": 1}, \"autotypenumbers\": \"strict\", \"coloraxis\": {\"colorbar\": {\"outlinewidth\": 0, \"ticks\": \"\"}}, \"colorscale\": {\"diverging\": [[0, \"#8e0152\"], [0.1, \"#c51b7d\"], [0.2, \"#de77ae\"], [0.3, \"#f1b6da\"], [0.4, \"#fde0ef\"], [0.5, \"#f7f7f7\"], [0.6, \"#e6f5d0\"], [0.7, \"#b8e186\"], [0.8, \"#7fbc41\"], [0.9, \"#4d9221\"], [1, \"#276419\"]], \"sequential\": [[0.0, \"#0d0887\"], [0.1111111111111111, \"#46039f\"], [0.2222222222222222, \"#7201a8\"], [0.3333333333333333, \"#9c179e\"], [0.4444444444444444, \"#bd3786\"], [0.5555555555555556, \"#d8576b\"], [0.6666666666666666, \"#ed7953\"], [0.7777777777777778, \"#fb9f3a\"], [0.8888888888888888, \"#fdca26\"], [1.0, \"#f0f921\"]], \"sequentialminus\": [[0.0, \"#0d0887\"], [0.1111111111111111, \"#46039f\"], [0.2222222222222222, \"#7201a8\"], [0.3333333333333333, \"#9c179e\"], [0.4444444444444444, \"#bd3786\"], [0.5555555555555556, \"#d8576b\"], [0.6666666666666666, \"#ed7953\"], [0.7777777777777778, \"#fb9f3a\"], [0.8888888888888888, \"#fdca26\"], [1.0, \"#f0f921\"]]}, \"colorway\": [\"#636efa\", \"#EF553B\", \"#00cc96\", \"#ab63fa\", \"#FFA15A\", \"#19d3f3\", \"#FF6692\", \"#B6E880\", \"#FF97FF\", \"#FECB52\"], \"font\": {\"color\": \"#2a3f5f\"}, \"geo\": {\"bgcolor\": \"white\", \"lakecolor\": \"white\", \"landcolor\": \"#E5ECF6\", \"showlakes\": true, \"showland\": true, \"subunitcolor\": \"white\"}, \"hoverlabel\": {\"align\": \"left\"}, \"hovermode\": \"closest\", \"mapbox\": {\"style\": \"light\"}, \"paper_bgcolor\": \"white\", \"plot_bgcolor\": \"#E5ECF6\", \"polar\": {\"angularaxis\": {\"gridcolor\": \"white\", \"linecolor\": \"white\", \"ticks\": \"\"}, \"bgcolor\": \"#E5ECF6\", \"radialaxis\": {\"gridcolor\": \"white\", \"linecolor\": \"white\", \"ticks\": \"\"}}, \"scene\": {\"xaxis\": {\"backgroundcolor\": \"#E5ECF6\", \"gridcolor\": \"white\", \"gridwidth\": 2, \"linecolor\": \"white\", \"showbackground\": true, \"ticks\": \"\", \"zerolinecolor\": \"white\"}, \"yaxis\": {\"backgroundcolor\": \"#E5ECF6\", \"gridcolor\": \"white\", \"gridwidth\": 2, \"linecolor\": \"white\", \"showbackground\": true, \"ticks\": \"\", \"zerolinecolor\": \"white\"}, \"zaxis\": {\"backgroundcolor\": \"#E5ECF6\", \"gridcolor\": \"white\", \"gridwidth\": 2, \"linecolor\": \"white\", \"showbackground\": true, \"ticks\": \"\", \"zerolinecolor\": \"white\"}}, \"shapedefaults\": {\"line\": {\"color\": \"#2a3f5f\"}}, \"ternary\": {\"aaxis\": {\"gridcolor\": \"white\", \"linecolor\": \"white\", \"ticks\": \"\"}, \"baxis\": {\"gridcolor\": \"white\", \"linecolor\": \"white\", \"ticks\": \"\"}, \"bgcolor\": \"#E5ECF6\", \"caxis\": {\"gridcolor\": \"white\", \"linecolor\": \"white\", \"ticks\": \"\"}}, \"title\": {\"x\": 0.05}, \"xaxis\": {\"automargin\": true, \"gridcolor\": \"white\", \"linecolor\": \"white\", \"ticks\": \"\", \"title\": {\"standoff\": 15}, \"zerolinecolor\": \"white\", \"zerolinewidth\": 2}, \"yaxis\": {\"automargin\": true, \"gridcolor\": \"white\", \"linecolor\": \"white\", \"ticks\": \"\", \"title\": {\"standoff\": 15}, \"zerolinecolor\": \"white\", \"zerolinewidth\": 2}}}, \"title\": {\"text\": \"Distribution Pre-Existing Medical Conditions\"}},                        {\"responsive\": true}                    ).then(function(){\n",
       "                            \n",
       "var gd = document.getElementById('bec3c523-7611-4d82-b564-a5d2f1fa2b56');\n",
       "var x = new MutationObserver(function (mutations, observer) {{\n",
       "        var display = window.getComputedStyle(gd).display;\n",
       "        if (!display || display === 'none') {{\n",
       "            console.log([gd, 'removed!']);\n",
       "            Plotly.purge(gd);\n",
       "            observer.disconnect();\n",
       "        }}\n",
       "}});\n",
       "\n",
       "// Listen for the removal of the full notebook cells\n",
       "var notebookContainer = gd.closest('#notebook-container');\n",
       "if (notebookContainer) {{\n",
       "    x.observe(notebookContainer, {childList: true});\n",
       "}}\n",
       "\n",
       "// Listen for the clearing of the current output cell\n",
       "var outputEl = gd.closest('.output');\n",
       "if (outputEl) {{\n",
       "    x.observe(outputEl, {childList: true});\n",
       "}}\n",
       "\n",
       "                        })                };                });            </script>        </div>"
      ]
     },
     "metadata": {},
     "output_type": "display_data"
    }
   ],
   "source": [
    "values = df['medcond_yn'].value_counts().tolist()\n",
    "names = [ 'Unknown', 'Yes', 'No']\n",
    "fig = px.pie(names=names,values=values, title=\"Distribution Pre-Existing Medical Conditions\",)\n",
    "fig.show()\n"
   ]
  },
  {
   "cell_type": "code",
   "execution_count": 75,
   "id": "distinguished-marble",
   "metadata": {
    "execution": {
     "iopub.execute_input": "2022-01-22T17:47:48.226199Z",
     "iopub.status.busy": "2022-01-22T17:47:48.225552Z",
     "iopub.status.idle": "2022-01-22T17:47:49.051112Z",
     "shell.execute_reply": "2022-01-22T17:47:49.051585Z",
     "shell.execute_reply.started": "2022-01-22T16:54:21.477216Z"
    },
    "papermill": {
     "duration": 0.951374,
     "end_time": "2022-01-22T17:47:49.051726",
     "exception": false,
     "start_time": "2022-01-22T17:47:48.100352",
     "status": "completed"
    },
    "tags": []
   },
   "outputs": [
    {
     "data": {
      "text/html": [
       "<div>                            <div id=\"ca2e9d31-afe0-495c-9f7a-5cdff9d5e5af\" class=\"plotly-graph-div\" style=\"height:525px; width:100%;\"></div>            <script type=\"text/javascript\">                require([\"plotly\"], function(Plotly) {                    window.PLOTLYENV=window.PLOTLYENV || {};                                    if (document.getElementById(\"ca2e9d31-afe0-495c-9f7a-5cdff9d5e5af\")) {                    Plotly.newPlot(                        \"ca2e9d31-afe0-495c-9f7a-5cdff9d5e5af\",                        [{\"domain\": {\"x\": [0.0, 1.0], \"y\": [0.0, 1.0]}, \"hovertemplate\": \"label=%{label}<br>value=%{value}<extra></extra>\", \"labels\": [\"Confirmed\", \"Probable\"], \"legendgroup\": \"\", \"name\": \"\", \"showlegend\": true, \"type\": \"pie\", \"values\": [7910118, 494961]}],                        {\"legend\": {\"tracegroupgap\": 0}, \"template\": {\"data\": {\"bar\": [{\"error_x\": {\"color\": \"#2a3f5f\"}, \"error_y\": {\"color\": \"#2a3f5f\"}, \"marker\": {\"line\": {\"color\": \"#E5ECF6\", \"width\": 0.5}}, \"type\": \"bar\"}], \"barpolar\": [{\"marker\": {\"line\": {\"color\": \"#E5ECF6\", \"width\": 0.5}}, \"type\": \"barpolar\"}], \"carpet\": [{\"aaxis\": {\"endlinecolor\": \"#2a3f5f\", \"gridcolor\": \"white\", \"linecolor\": \"white\", \"minorgridcolor\": \"white\", \"startlinecolor\": \"#2a3f5f\"}, \"baxis\": {\"endlinecolor\": \"#2a3f5f\", \"gridcolor\": \"white\", \"linecolor\": \"white\", \"minorgridcolor\": \"white\", \"startlinecolor\": \"#2a3f5f\"}, \"type\": \"carpet\"}], \"choropleth\": [{\"colorbar\": {\"outlinewidth\": 0, \"ticks\": \"\"}, \"type\": \"choropleth\"}], \"contour\": [{\"colorbar\": {\"outlinewidth\": 0, \"ticks\": \"\"}, \"colorscale\": [[0.0, \"#0d0887\"], [0.1111111111111111, \"#46039f\"], [0.2222222222222222, \"#7201a8\"], [0.3333333333333333, \"#9c179e\"], [0.4444444444444444, \"#bd3786\"], [0.5555555555555556, \"#d8576b\"], [0.6666666666666666, \"#ed7953\"], [0.7777777777777778, \"#fb9f3a\"], [0.8888888888888888, \"#fdca26\"], [1.0, \"#f0f921\"]], \"type\": \"contour\"}], \"contourcarpet\": [{\"colorbar\": {\"outlinewidth\": 0, \"ticks\": \"\"}, \"type\": \"contourcarpet\"}], \"heatmap\": [{\"colorbar\": {\"outlinewidth\": 0, \"ticks\": \"\"}, \"colorscale\": [[0.0, \"#0d0887\"], [0.1111111111111111, \"#46039f\"], [0.2222222222222222, \"#7201a8\"], [0.3333333333333333, \"#9c179e\"], [0.4444444444444444, \"#bd3786\"], [0.5555555555555556, \"#d8576b\"], [0.6666666666666666, \"#ed7953\"], [0.7777777777777778, \"#fb9f3a\"], [0.8888888888888888, \"#fdca26\"], [1.0, \"#f0f921\"]], \"type\": \"heatmap\"}], \"heatmapgl\": [{\"colorbar\": {\"outlinewidth\": 0, \"ticks\": \"\"}, \"colorscale\": [[0.0, \"#0d0887\"], [0.1111111111111111, \"#46039f\"], [0.2222222222222222, \"#7201a8\"], [0.3333333333333333, \"#9c179e\"], [0.4444444444444444, \"#bd3786\"], [0.5555555555555556, \"#d8576b\"], [0.6666666666666666, \"#ed7953\"], [0.7777777777777778, \"#fb9f3a\"], [0.8888888888888888, \"#fdca26\"], [1.0, \"#f0f921\"]], \"type\": \"heatmapgl\"}], \"histogram\": [{\"marker\": {\"colorbar\": {\"outlinewidth\": 0, \"ticks\": \"\"}}, \"type\": \"histogram\"}], \"histogram2d\": [{\"colorbar\": {\"outlinewidth\": 0, \"ticks\": \"\"}, \"colorscale\": [[0.0, \"#0d0887\"], [0.1111111111111111, \"#46039f\"], [0.2222222222222222, \"#7201a8\"], [0.3333333333333333, \"#9c179e\"], [0.4444444444444444, \"#bd3786\"], [0.5555555555555556, \"#d8576b\"], [0.6666666666666666, \"#ed7953\"], [0.7777777777777778, \"#fb9f3a\"], [0.8888888888888888, \"#fdca26\"], [1.0, \"#f0f921\"]], \"type\": \"histogram2d\"}], \"histogram2dcontour\": [{\"colorbar\": {\"outlinewidth\": 0, \"ticks\": \"\"}, \"colorscale\": [[0.0, \"#0d0887\"], [0.1111111111111111, \"#46039f\"], [0.2222222222222222, \"#7201a8\"], [0.3333333333333333, \"#9c179e\"], [0.4444444444444444, \"#bd3786\"], [0.5555555555555556, \"#d8576b\"], [0.6666666666666666, \"#ed7953\"], [0.7777777777777778, \"#fb9f3a\"], [0.8888888888888888, \"#fdca26\"], [1.0, \"#f0f921\"]], \"type\": \"histogram2dcontour\"}], \"mesh3d\": [{\"colorbar\": {\"outlinewidth\": 0, \"ticks\": \"\"}, \"type\": \"mesh3d\"}], \"parcoords\": [{\"line\": {\"colorbar\": {\"outlinewidth\": 0, \"ticks\": \"\"}}, \"type\": \"parcoords\"}], \"pie\": [{\"automargin\": true, \"type\": \"pie\"}], \"scatter\": [{\"marker\": {\"colorbar\": {\"outlinewidth\": 0, \"ticks\": \"\"}}, \"type\": \"scatter\"}], \"scatter3d\": [{\"line\": {\"colorbar\": {\"outlinewidth\": 0, \"ticks\": \"\"}}, \"marker\": {\"colorbar\": {\"outlinewidth\": 0, \"ticks\": \"\"}}, \"type\": \"scatter3d\"}], \"scattercarpet\": [{\"marker\": {\"colorbar\": {\"outlinewidth\": 0, \"ticks\": \"\"}}, \"type\": \"scattercarpet\"}], \"scattergeo\": [{\"marker\": {\"colorbar\": {\"outlinewidth\": 0, \"ticks\": \"\"}}, \"type\": \"scattergeo\"}], \"scattergl\": [{\"marker\": {\"colorbar\": {\"outlinewidth\": 0, \"ticks\": \"\"}}, \"type\": \"scattergl\"}], \"scattermapbox\": [{\"marker\": {\"colorbar\": {\"outlinewidth\": 0, \"ticks\": \"\"}}, \"type\": \"scattermapbox\"}], \"scatterpolar\": [{\"marker\": {\"colorbar\": {\"outlinewidth\": 0, \"ticks\": \"\"}}, \"type\": \"scatterpolar\"}], \"scatterpolargl\": [{\"marker\": {\"colorbar\": {\"outlinewidth\": 0, \"ticks\": \"\"}}, \"type\": \"scatterpolargl\"}], \"scatterternary\": [{\"marker\": {\"colorbar\": {\"outlinewidth\": 0, \"ticks\": \"\"}}, \"type\": \"scatterternary\"}], \"surface\": [{\"colorbar\": {\"outlinewidth\": 0, \"ticks\": \"\"}, \"colorscale\": [[0.0, \"#0d0887\"], [0.1111111111111111, \"#46039f\"], [0.2222222222222222, \"#7201a8\"], [0.3333333333333333, \"#9c179e\"], [0.4444444444444444, \"#bd3786\"], [0.5555555555555556, \"#d8576b\"], [0.6666666666666666, \"#ed7953\"], [0.7777777777777778, \"#fb9f3a\"], [0.8888888888888888, \"#fdca26\"], [1.0, \"#f0f921\"]], \"type\": \"surface\"}], \"table\": [{\"cells\": {\"fill\": {\"color\": \"#EBF0F8\"}, \"line\": {\"color\": \"white\"}}, \"header\": {\"fill\": {\"color\": \"#C8D4E3\"}, \"line\": {\"color\": \"white\"}}, \"type\": \"table\"}]}, \"layout\": {\"annotationdefaults\": {\"arrowcolor\": \"#2a3f5f\", \"arrowhead\": 0, \"arrowwidth\": 1}, \"autotypenumbers\": \"strict\", \"coloraxis\": {\"colorbar\": {\"outlinewidth\": 0, \"ticks\": \"\"}}, \"colorscale\": {\"diverging\": [[0, \"#8e0152\"], [0.1, \"#c51b7d\"], [0.2, \"#de77ae\"], [0.3, \"#f1b6da\"], [0.4, \"#fde0ef\"], [0.5, \"#f7f7f7\"], [0.6, \"#e6f5d0\"], [0.7, \"#b8e186\"], [0.8, \"#7fbc41\"], [0.9, \"#4d9221\"], [1, \"#276419\"]], \"sequential\": [[0.0, \"#0d0887\"], [0.1111111111111111, \"#46039f\"], [0.2222222222222222, \"#7201a8\"], [0.3333333333333333, \"#9c179e\"], [0.4444444444444444, \"#bd3786\"], [0.5555555555555556, \"#d8576b\"], [0.6666666666666666, \"#ed7953\"], [0.7777777777777778, \"#fb9f3a\"], [0.8888888888888888, \"#fdca26\"], [1.0, \"#f0f921\"]], \"sequentialminus\": [[0.0, \"#0d0887\"], [0.1111111111111111, \"#46039f\"], [0.2222222222222222, \"#7201a8\"], [0.3333333333333333, \"#9c179e\"], [0.4444444444444444, \"#bd3786\"], [0.5555555555555556, \"#d8576b\"], [0.6666666666666666, \"#ed7953\"], [0.7777777777777778, \"#fb9f3a\"], [0.8888888888888888, \"#fdca26\"], [1.0, \"#f0f921\"]]}, \"colorway\": [\"#636efa\", \"#EF553B\", \"#00cc96\", \"#ab63fa\", \"#FFA15A\", \"#19d3f3\", \"#FF6692\", \"#B6E880\", \"#FF97FF\", \"#FECB52\"], \"font\": {\"color\": \"#2a3f5f\"}, \"geo\": {\"bgcolor\": \"white\", \"lakecolor\": \"white\", \"landcolor\": \"#E5ECF6\", \"showlakes\": true, \"showland\": true, \"subunitcolor\": \"white\"}, \"hoverlabel\": {\"align\": \"left\"}, \"hovermode\": \"closest\", \"mapbox\": {\"style\": \"light\"}, \"paper_bgcolor\": \"white\", \"plot_bgcolor\": \"#E5ECF6\", \"polar\": {\"angularaxis\": {\"gridcolor\": \"white\", \"linecolor\": \"white\", \"ticks\": \"\"}, \"bgcolor\": \"#E5ECF6\", \"radialaxis\": {\"gridcolor\": \"white\", \"linecolor\": \"white\", \"ticks\": \"\"}}, \"scene\": {\"xaxis\": {\"backgroundcolor\": \"#E5ECF6\", \"gridcolor\": \"white\", \"gridwidth\": 2, \"linecolor\": \"white\", \"showbackground\": true, \"ticks\": \"\", \"zerolinecolor\": \"white\"}, \"yaxis\": {\"backgroundcolor\": \"#E5ECF6\", \"gridcolor\": \"white\", \"gridwidth\": 2, \"linecolor\": \"white\", \"showbackground\": true, \"ticks\": \"\", \"zerolinecolor\": \"white\"}, \"zaxis\": {\"backgroundcolor\": \"#E5ECF6\", \"gridcolor\": \"white\", \"gridwidth\": 2, \"linecolor\": \"white\", \"showbackground\": true, \"ticks\": \"\", \"zerolinecolor\": \"white\"}}, \"shapedefaults\": {\"line\": {\"color\": \"#2a3f5f\"}}, \"ternary\": {\"aaxis\": {\"gridcolor\": \"white\", \"linecolor\": \"white\", \"ticks\": \"\"}, \"baxis\": {\"gridcolor\": \"white\", \"linecolor\": \"white\", \"ticks\": \"\"}, \"bgcolor\": \"#E5ECF6\", \"caxis\": {\"gridcolor\": \"white\", \"linecolor\": \"white\", \"ticks\": \"\"}}, \"title\": {\"x\": 0.05}, \"xaxis\": {\"automargin\": true, \"gridcolor\": \"white\", \"linecolor\": \"white\", \"ticks\": \"\", \"title\": {\"standoff\": 15}, \"zerolinecolor\": \"white\", \"zerolinewidth\": 2}, \"yaxis\": {\"automargin\": true, \"gridcolor\": \"white\", \"linecolor\": \"white\", \"ticks\": \"\", \"title\": {\"standoff\": 15}, \"zerolinecolor\": \"white\", \"zerolinewidth\": 2}}}, \"title\": {\"text\": \"Case Status Distribution\"}},                        {\"responsive\": true}                    ).then(function(){\n",
       "                            \n",
       "var gd = document.getElementById('ca2e9d31-afe0-495c-9f7a-5cdff9d5e5af');\n",
       "var x = new MutationObserver(function (mutations, observer) {{\n",
       "        var display = window.getComputedStyle(gd).display;\n",
       "        if (!display || display === 'none') {{\n",
       "            console.log([gd, 'removed!']);\n",
       "            Plotly.purge(gd);\n",
       "            observer.disconnect();\n",
       "        }}\n",
       "}});\n",
       "\n",
       "// Listen for the removal of the full notebook cells\n",
       "var notebookContainer = gd.closest('#notebook-container');\n",
       "if (notebookContainer) {{\n",
       "    x.observe(notebookContainer, {childList: true});\n",
       "}}\n",
       "\n",
       "// Listen for the clearing of the current output cell\n",
       "var outputEl = gd.closest('.output');\n",
       "if (outputEl) {{\n",
       "    x.observe(outputEl, {childList: true});\n",
       "}}\n",
       "\n",
       "                        })                };                });            </script>        </div>"
      ]
     },
     "metadata": {},
     "output_type": "display_data"
    }
   ],
   "source": [
    "values = df['current_status'].value_counts().tolist()\n",
    "names = ['Confirmed', 'Probable']\n",
    "px.pie( names=names,    values=values,title=\"Case Status Distribution\")\n",
    "\n"
   ]
  },
  {
   "cell_type": "code",
   "execution_count": 76,
   "id": "following-hybrid",
   "metadata": {
    "execution": {
     "iopub.execute_input": "2022-01-22T17:47:49.305767Z",
     "iopub.status.busy": "2022-01-22T17:47:49.304768Z",
     "iopub.status.idle": "2022-01-22T17:47:49.679551Z",
     "shell.execute_reply": "2022-01-22T17:47:49.680114Z",
     "shell.execute_reply.started": "2022-01-22T16:54:22.302505Z"
    },
    "papermill": {
     "duration": 0.504411,
     "end_time": "2022-01-22T17:47:49.680287",
     "exception": false,
     "start_time": "2022-01-22T17:47:49.175876",
     "status": "completed"
    },
    "tags": []
   },
   "outputs": [
    {
     "data": {
      "text/html": [
       "<div>\n",
       "<style scoped>\n",
       "    .dataframe tbody tr th:only-of-type {\n",
       "        vertical-align: middle;\n",
       "    }\n",
       "\n",
       "    .dataframe tbody tr th {\n",
       "        vertical-align: top;\n",
       "    }\n",
       "\n",
       "    .dataframe thead th {\n",
       "        text-align: right;\n",
       "    }\n",
       "</style>\n",
       "<table border=\"1\" class=\"dataframe\">\n",
       "  <thead>\n",
       "    <tr style=\"text-align: right;\">\n",
       "      <th></th>\n",
       "      <th>death_yn</th>\n",
       "      <th>month_cdc</th>\n",
       "      <th>week_cdc</th>\n",
       "    </tr>\n",
       "  </thead>\n",
       "  <tbody>\n",
       "    <tr>\n",
       "      <th>death_yn</th>\n",
       "      <td>1.000000</td>\n",
       "      <td>-0.115225</td>\n",
       "      <td>-0.115871</td>\n",
       "    </tr>\n",
       "    <tr>\n",
       "      <th>month_cdc</th>\n",
       "      <td>-0.115225</td>\n",
       "      <td>1.000000</td>\n",
       "      <td>0.992436</td>\n",
       "    </tr>\n",
       "    <tr>\n",
       "      <th>week_cdc</th>\n",
       "      <td>-0.115871</td>\n",
       "      <td>0.992436</td>\n",
       "      <td>1.000000</td>\n",
       "    </tr>\n",
       "  </tbody>\n",
       "</table>\n",
       "</div>"
      ],
      "text/plain": [
       "           death_yn  month_cdc  week_cdc\n",
       "death_yn   1.000000  -0.115225 -0.115871\n",
       "month_cdc -0.115225   1.000000  0.992436\n",
       "week_cdc  -0.115871   0.992436  1.000000"
      ]
     },
     "execution_count": 76,
     "metadata": {},
     "output_type": "execute_result"
    }
   ],
   "source": [
    "df.corr()"
   ]
  },
  {
   "cell_type": "code",
   "execution_count": 77,
   "id": "criminal-meditation",
   "metadata": {
    "execution": {
     "iopub.execute_input": "2022-01-22T17:47:50.064184Z",
     "iopub.status.busy": "2022-01-22T17:47:50.063088Z",
     "iopub.status.idle": "2022-01-22T17:49:50.956788Z",
     "shell.execute_reply": "2022-01-22T17:49:50.957375Z",
     "shell.execute_reply.started": "2022-01-22T16:54:23.107467Z"
    },
    "papermill": {
     "duration": 121.08848,
     "end_time": "2022-01-22T17:49:50.957555",
     "exception": false,
     "start_time": "2022-01-22T17:47:49.869075",
     "status": "completed"
    },
    "tags": []
   },
   "outputs": [
    {
     "data": {
      "text/plain": [
       "<Figure size 720x720 with 0 Axes>"
      ]
     },
     "metadata": {},
     "output_type": "display_data"
    },
    {
     "data": {
      "image/png": "[encoded data removed]",
      "text/plain": [
       "<Figure size 540x540 with 12 Axes>"
      ]
     },
     "metadata": {
      "needs_background": "light"
     },
     "output_type": "display_data"
    }
   ],
   "source": [
    "plt.figure(figsize=(10,10))\n",
    "sns.pairplot(df)\n",
    "plt.show()"
   ]
  },
  {
   "cell_type": "code",
   "execution_count": 78,
   "id": "checked-ballot",
   "metadata": {
    "execution": {
     "iopub.execute_input": "2022-01-22T17:49:51.343111Z",
     "iopub.status.busy": "2022-01-22T17:49:51.342514Z",
     "iopub.status.idle": "2022-01-22T17:49:53.218194Z",
     "shell.execute_reply": "2022-01-22T17:49:53.217602Z",
     "shell.execute_reply.started": "2022-01-22T16:56:06.169605Z"
    },
    "papermill": {
     "duration": 2.069748,
     "end_time": "2022-01-22T17:49:53.218364",
     "exception": false,
     "start_time": "2022-01-22T17:49:51.148616",
     "status": "completed"
    },
    "tags": []
   },
   "outputs": [
    {
     "data": {
      "text/plain": [
       "(2020, 2020)"
      ]
     },
     "execution_count": 78,
     "metadata": {},
     "output_type": "execute_result"
    }
   ],
   "source": [
    "#df['year']\n",
    "df['cdc_report_dt'].dt.year.max(),df['cdc_report_dt'].dt.year.min()#as the year is same so not considering year column"
   ]
  },
  {
   "cell_type": "code",
   "execution_count": 79,
   "id": "iraqi-carter",
   "metadata": {
    "execution": {
     "iopub.execute_input": "2022-01-22T17:49:53.600905Z",
     "iopub.status.busy": "2022-01-22T17:49:53.600019Z",
     "iopub.status.idle": "2022-01-22T17:49:56.596454Z",
     "shell.execute_reply": "2022-01-22T17:49:56.595852Z",
     "shell.execute_reply.started": "2022-01-22T16:56:07.873247Z"
    },
    "papermill": {
     "duration": 3.188015,
     "end_time": "2022-01-22T17:49:56.596618",
     "exception": false,
     "start_time": "2022-01-22T17:49:53.408603",
     "status": "completed"
    },
    "tags": []
   },
   "outputs": [],
   "source": [
    "data=df.groupby([\"week_cdc\",'death_yn']).count()\n",
    "data.reset_index(inplace=True)"
   ]
  },
  {
   "cell_type": "markdown",
   "id": "increasing-fifteen",
   "metadata": {
    "papermill": {
     "duration": 0.18728,
     "end_time": "2022-01-22T17:49:56.973266",
     "exception": false,
     "start_time": "2022-01-22T17:49:56.785986",
     "status": "completed"
    },
    "tags": []
   },
   "source": [
    "# How to know the trend of deaths based on weeks of a year..?"
   ]
  },
  {
   "cell_type": "code",
   "execution_count": 80,
   "id": "clean-dressing",
   "metadata": {
    "execution": {
     "iopub.execute_input": "2022-01-22T17:49:57.318501Z",
     "iopub.status.busy": "2022-01-22T17:49:57.311912Z",
     "iopub.status.idle": "2022-01-22T17:49:58.422952Z",
     "shell.execute_reply": "2022-01-22T17:49:58.422504Z",
     "shell.execute_reply.started": "2022-01-22T16:56:11.665908Z"
    },
    "papermill": {
     "duration": 1.260702,
     "end_time": "2022-01-22T17:49:58.423093",
     "exception": false,
     "start_time": "2022-01-22T17:49:57.162391",
     "status": "completed"
    },
    "tags": []
   },
   "outputs": [
    {
     "data": {
      "image/png": "[encoded data removed]",
      "text/plain": [
       "<Figure size 720x504 with 1 Axes>"
      ]
     },
     "metadata": {
      "needs_background": "light"
     },
     "output_type": "display_data"
    }
   ],
   "source": [
    "plt.figure(figsize=(10,7))\n",
    "sns.lineplot(data=data,x='week_cdc',y='cdc_report_dt')\n",
    "plt.show()"
   ]
  },
  {
   "cell_type": "markdown",
   "id": "heavy-access",
   "metadata": {
    "papermill": {
     "duration": 0.127503,
     "end_time": "2022-01-22T17:49:58.679065",
     "exception": false,
     "start_time": "2022-01-22T17:49:58.551562",
     "status": "completed"
    },
    "tags": []
   },
   "source": [
    "#  How to know the trend of deaths based on weeks of a year , age group , admissions in icu and death of a person..?"
   ]
  },
  {
   "cell_type": "code",
   "execution_count": 81,
   "id": "demographic-hollow",
   "metadata": {
    "execution": {
     "iopub.execute_input": "2022-01-22T17:49:58.934389Z",
     "iopub.status.busy": "2022-01-22T17:49:58.933897Z",
     "iopub.status.idle": "2022-01-22T17:50:04.556783Z",
     "shell.execute_reply": "2022-01-22T17:50:04.557275Z",
     "shell.execute_reply.started": "2022-01-22T16:56:12.755635Z"
    },
    "papermill": {
     "duration": 5.751761,
     "end_time": "2022-01-22T17:50:04.557424",
     "exception": false,
     "start_time": "2022-01-22T17:49:58.805663",
     "status": "completed"
    },
    "tags": []
   },
   "outputs": [],
   "source": [
    "data=df.groupby([\"week_cdc\",'age_group','icu_yn','death_yn']).count()\n",
    "data.reset_index(inplace=True)"
   ]
  },
  {
   "cell_type": "code",
   "execution_count": 82,
   "id": "bored-picture",
   "metadata": {
    "execution": {
     "iopub.execute_input": "2022-01-22T17:50:04.813810Z",
     "iopub.status.busy": "2022-01-22T17:50:04.813321Z",
     "iopub.status.idle": "2022-01-22T17:50:05.838940Z",
     "shell.execute_reply": "2022-01-22T17:50:05.839384Z",
     "shell.execute_reply.started": "2022-01-22T16:56:16.944391Z"
    },
    "papermill": {
     "duration": 1.156222,
     "end_time": "2022-01-22T17:50:05.839535",
     "exception": false,
     "start_time": "2022-01-22T17:50:04.683313",
     "status": "completed"
    },
    "tags": []
   },
   "outputs": [
    {
     "data": {
      "image/png": "[encoded data removed]",
      "text/plain": [
       "<Figure size 720x504 with 1 Axes>"
      ]
     },
     "metadata": {
      "needs_background": "light"
     },
     "output_type": "display_data"
    }
   ],
   "source": [
    "plt.figure(figsize=(10,7))\n",
    "sns.lineplot(data=data,x='week_cdc',y='cdc_report_dt')\n",
    "plt.show()"
   ]
  },
  {
   "cell_type": "code",
   "execution_count": 83,
   "id": "ignored-reservoir",
   "metadata": {
    "execution": {
     "iopub.execute_input": "2022-01-22T17:50:06.097210Z",
     "iopub.status.busy": "2022-01-22T17:50:06.096693Z",
     "iopub.status.idle": "2022-01-22T17:50:06.112557Z",
     "shell.execute_reply": "2022-01-22T17:50:06.112116Z",
     "shell.execute_reply.started": "2022-01-22T16:56:18.133930Z"
    },
    "papermill": {
     "duration": 0.145549,
     "end_time": "2022-01-22T17:50:06.112681",
     "exception": false,
     "start_time": "2022-01-22T17:50:05.967132",
     "status": "completed"
    },
    "tags": []
   },
   "outputs": [
    {
     "data": {
      "text/html": [
       "<div>\n",
       "<style scoped>\n",
       "    .dataframe tbody tr th:only-of-type {\n",
       "        vertical-align: middle;\n",
       "    }\n",
       "\n",
       "    .dataframe tbody tr th {\n",
       "        vertical-align: top;\n",
       "    }\n",
       "\n",
       "    .dataframe thead th {\n",
       "        text-align: right;\n",
       "    }\n",
       "</style>\n",
       "<table border=\"1\" class=\"dataframe\">\n",
       "  <thead>\n",
       "    <tr style=\"text-align: right;\">\n",
       "      <th></th>\n",
       "      <th>cdc_report_dt</th>\n",
       "      <th>pos_spec_dt</th>\n",
       "      <th>onset_dt</th>\n",
       "      <th>current_status</th>\n",
       "      <th>sex</th>\n",
       "      <th>age_group</th>\n",
       "      <th>Race and ethnicity (combined)</th>\n",
       "      <th>hosp_yn</th>\n",
       "      <th>icu_yn</th>\n",
       "      <th>death_yn</th>\n",
       "      <th>medcond_yn</th>\n",
       "      <th>month_cdc</th>\n",
       "      <th>week_cdc</th>\n",
       "    </tr>\n",
       "  </thead>\n",
       "  <tbody>\n",
       "    <tr>\n",
       "      <th>0</th>\n",
       "      <td>2020-11-10</td>\n",
       "      <td>2020-11-10</td>\n",
       "      <td>2020-11-12</td>\n",
       "      <td>Laboratory-confirmed case</td>\n",
       "      <td>Male</td>\n",
       "      <td>10 - 19 Years</td>\n",
       "      <td>Black, Non-Hispanic</td>\n",
       "      <td>No</td>\n",
       "      <td>No</td>\n",
       "      <td>0</td>\n",
       "      <td>No</td>\n",
       "      <td>11</td>\n",
       "      <td>46</td>\n",
       "    </tr>\n",
       "    <tr>\n",
       "      <th>1</th>\n",
       "      <td>2020-11-14</td>\n",
       "      <td>2020-11-10</td>\n",
       "      <td>2020-11-10</td>\n",
       "      <td>Laboratory-confirmed case</td>\n",
       "      <td>Male</td>\n",
       "      <td>10 - 19 Years</td>\n",
       "      <td>Black, Non-Hispanic</td>\n",
       "      <td>No</td>\n",
       "      <td>No</td>\n",
       "      <td>0</td>\n",
       "      <td>No</td>\n",
       "      <td>11</td>\n",
       "      <td>46</td>\n",
       "    </tr>\n",
       "    <tr>\n",
       "      <th>2</th>\n",
       "      <td>2020-11-19</td>\n",
       "      <td>2020-11-10</td>\n",
       "      <td>2020-11-09</td>\n",
       "      <td>Laboratory-confirmed case</td>\n",
       "      <td>Male</td>\n",
       "      <td>10 - 19 Years</td>\n",
       "      <td>Black, Non-Hispanic</td>\n",
       "      <td>No</td>\n",
       "      <td>No</td>\n",
       "      <td>0</td>\n",
       "      <td>No</td>\n",
       "      <td>11</td>\n",
       "      <td>47</td>\n",
       "    </tr>\n",
       "    <tr>\n",
       "      <th>3</th>\n",
       "      <td>2020-11-14</td>\n",
       "      <td>2020-11-10</td>\n",
       "      <td>2020-11-16</td>\n",
       "      <td>Laboratory-confirmed case</td>\n",
       "      <td>Male</td>\n",
       "      <td>10 - 19 Years</td>\n",
       "      <td>Black, Non-Hispanic</td>\n",
       "      <td>No</td>\n",
       "      <td>No</td>\n",
       "      <td>0</td>\n",
       "      <td>Yes</td>\n",
       "      <td>11</td>\n",
       "      <td>46</td>\n",
       "    </tr>\n",
       "    <tr>\n",
       "      <th>4</th>\n",
       "      <td>2020-11-13</td>\n",
       "      <td>2020-11-10</td>\n",
       "      <td>2020-11-10</td>\n",
       "      <td>Laboratory-confirmed case</td>\n",
       "      <td>Male</td>\n",
       "      <td>10 - 19 Years</td>\n",
       "      <td>Black, Non-Hispanic</td>\n",
       "      <td>No</td>\n",
       "      <td>No</td>\n",
       "      <td>0</td>\n",
       "      <td>Yes</td>\n",
       "      <td>11</td>\n",
       "      <td>46</td>\n",
       "    </tr>\n",
       "  </tbody>\n",
       "</table>\n",
       "</div>"
      ],
      "text/plain": [
       "  cdc_report_dt pos_spec_dt   onset_dt             current_status   sex  \\\n",
       "0    2020-11-10  2020-11-10 2020-11-12  Laboratory-confirmed case  Male   \n",
       "1    2020-11-14  2020-11-10 2020-11-10  Laboratory-confirmed case  Male   \n",
       "2    2020-11-19  2020-11-10 2020-11-09  Laboratory-confirmed case  Male   \n",
       "3    2020-11-14  2020-11-10 2020-11-16  Laboratory-confirmed case  Male   \n",
       "4    2020-11-13  2020-11-10 2020-11-10  Laboratory-confirmed case  Male   \n",
       "\n",
       "       age_group Race and ethnicity (combined) hosp_yn icu_yn  death_yn  \\\n",
       "0  10 - 19 Years           Black, Non-Hispanic      No     No         0   \n",
       "1  10 - 19 Years           Black, Non-Hispanic      No     No         0   \n",
       "2  10 - 19 Years           Black, Non-Hispanic      No     No         0   \n",
       "3  10 - 19 Years           Black, Non-Hispanic      No     No         0   \n",
       "4  10 - 19 Years           Black, Non-Hispanic      No     No         0   \n",
       "\n",
       "  medcond_yn  month_cdc  week_cdc  \n",
       "0         No         11        46  \n",
       "1         No         11        46  \n",
       "2         No         11        47  \n",
       "3        Yes         11        46  \n",
       "4        Yes         11        46  "
      ]
     },
     "execution_count": 83,
     "metadata": {},
     "output_type": "execute_result"
    }
   ],
   "source": [
    "df.head()"
   ]
  },
  {
   "cell_type": "code",
   "execution_count": 84,
   "id": "stretch-weight",
   "metadata": {
    "execution": {
     "iopub.execute_input": "2022-01-22T17:50:06.368839Z",
     "iopub.status.busy": "2022-01-22T17:50:06.368361Z",
     "iopub.status.idle": "2022-01-22T17:50:06.379876Z",
     "shell.execute_reply": "2022-01-22T17:50:06.379332Z",
     "shell.execute_reply.started": "2022-01-22T16:56:18.152724Z"
    },
    "papermill": {
     "duration": 0.141434,
     "end_time": "2022-01-22T17:50:06.380026",
     "exception": false,
     "start_time": "2022-01-22T17:50:06.238592",
     "status": "completed"
    },
    "tags": []
   },
   "outputs": [
    {
     "name": "stdout",
     "output_type": "stream",
     "text": [
      "<class 'pandas.core.frame.DataFrame'>\n",
      "RangeIndex: 8405079 entries, 0 to 8405078\n",
      "Data columns (total 13 columns):\n",
      " #   Column                         Dtype         \n",
      "---  ------                         -----         \n",
      " 0   cdc_report_dt                  datetime64[ns]\n",
      " 1   pos_spec_dt                    datetime64[ns]\n",
      " 2   onset_dt                       datetime64[ns]\n",
      " 3   current_status                 object        \n",
      " 4   sex                            object        \n",
      " 5   age_group                      object        \n",
      " 6   Race and ethnicity (combined)  object        \n",
      " 7   hosp_yn                        object        \n",
      " 8   icu_yn                         object        \n",
      " 9   death_yn                       int64         \n",
      " 10  medcond_yn                     object        \n",
      " 11  month_cdc                      int64         \n",
      " 12  week_cdc                       int64         \n",
      "dtypes: datetime64[ns](3), int64(3), object(7)\n",
      "memory usage: 833.6+ MB\n"
     ]
    }
   ],
   "source": [
    "df.info()"
   ]
  },
  {
   "cell_type": "code",
   "execution_count": 85,
   "id": "manual-interface",
   "metadata": {
    "execution": {
     "iopub.execute_input": "2022-01-22T17:50:07.102999Z",
     "iopub.status.busy": "2022-01-22T17:50:07.102338Z",
     "iopub.status.idle": "2022-01-22T17:50:07.401842Z",
     "shell.execute_reply": "2022-01-22T17:50:07.401006Z",
     "shell.execute_reply.started": "2022-01-22T16:56:18.173184Z"
    },
    "papermill": {
     "duration": 0.82993,
     "end_time": "2022-01-22T17:50:07.402014",
     "exception": false,
     "start_time": "2022-01-22T17:50:06.572084",
     "status": "completed"
    },
    "tags": []
   },
   "outputs": [
    {
     "data": {
      "text/plain": [
       "array(['Laboratory-confirmed case', 'Probable Case'], dtype=object)"
      ]
     },
     "execution_count": 85,
     "metadata": {},
     "output_type": "execute_result"
    }
   ],
   "source": [
    "df.current_status.unique()"
   ]
  },
  {
   "cell_type": "code",
   "execution_count": 86,
   "id": "humanitarian-handle",
   "metadata": {
    "execution": {
     "iopub.execute_input": "2022-01-22T17:50:07.792937Z",
     "iopub.status.busy": "2022-01-22T17:50:07.792374Z",
     "iopub.status.idle": "2022-01-22T17:50:08.364103Z",
     "shell.execute_reply": "2022-01-22T17:50:08.363444Z",
     "shell.execute_reply.started": "2022-01-22T16:56:18.856111Z"
    },
    "papermill": {
     "duration": 0.768164,
     "end_time": "2022-01-22T17:50:08.364254",
     "exception": false,
     "start_time": "2022-01-22T17:50:07.596090",
     "status": "completed"
    },
    "tags": []
   },
   "outputs": [
    {
     "data": {
      "text/plain": [
       "array(['Male', 'Female', 'Other'], dtype=object)"
      ]
     },
     "execution_count": 86,
     "metadata": {},
     "output_type": "execute_result"
    }
   ],
   "source": [
    "df.sex.unique()"
   ]
  },
  {
   "cell_type": "code",
   "execution_count": 87,
   "id": "seven-arcade",
   "metadata": {
    "execution": {
     "iopub.execute_input": "2022-01-22T17:50:09.459249Z",
     "iopub.status.busy": "2022-01-22T17:50:09.458576Z",
     "iopub.status.idle": "2022-01-22T17:50:09.752669Z",
     "shell.execute_reply": "2022-01-22T17:50:09.752019Z",
     "shell.execute_reply.started": "2022-01-22T16:56:19.299106Z"
    },
    "papermill": {
     "duration": 1.193984,
     "end_time": "2022-01-22T17:50:09.752822",
     "exception": false,
     "start_time": "2022-01-22T17:50:08.558838",
     "status": "completed"
    },
    "tags": []
   },
   "outputs": [
    {
     "data": {
      "text/plain": [
       "array(['10 - 19 Years', '20 - 29 Years', '30 - 39 Years', '40 - 49 Years',\n",
       "       '50 - 59 Years', '0 - 9 Years', '60 - 69 Years', '80+ Years',\n",
       "       '70 - 79 Years'], dtype=object)"
      ]
     },
     "execution_count": 87,
     "metadata": {},
     "output_type": "execute_result"
    }
   ],
   "source": [
    "df.age_group.unique()"
   ]
  },
  {
   "cell_type": "code",
   "execution_count": 88,
   "id": "stunning-employment",
   "metadata": {
    "execution": {
     "iopub.execute_input": "2022-01-22T17:50:10.882708Z",
     "iopub.status.busy": "2022-01-22T17:50:10.881494Z",
     "iopub.status.idle": "2022-01-22T17:50:11.242522Z",
     "shell.execute_reply": "2022-01-22T17:50:11.241953Z",
     "shell.execute_reply.started": "2022-01-22T16:56:19.829140Z"
    },
    "papermill": {
     "duration": 1.293298,
     "end_time": "2022-01-22T17:50:11.242647",
     "exception": false,
     "start_time": "2022-01-22T17:50:09.949349",
     "status": "completed"
    },
    "tags": []
   },
   "outputs": [
    {
     "data": {
      "text/plain": [
       "array(['Black, Non-Hispanic', 'White, Non-Hispanic',\n",
       "       'Asian, Non-Hispanic',\n",
       "       'American Indian/Alaska Native, Non-Hispanic',\n",
       "       'Multiple/Other, Non-Hispanic',\n",
       "       'Native Hawaiian/Other Pacific Islander, Non-Hispanic',\n",
       "       'Hispanic/Latino'], dtype=object)"
      ]
     },
     "execution_count": 88,
     "metadata": {},
     "output_type": "execute_result"
    }
   ],
   "source": [
    "df['Race and ethnicity (combined)'].unique()"
   ]
  },
  {
   "cell_type": "code",
   "execution_count": 89,
   "id": "sapphire-fortune",
   "metadata": {
    "execution": {
     "iopub.execute_input": "2022-01-22T17:50:12.220236Z",
     "iopub.status.busy": "2022-01-22T17:50:11.883861Z",
     "iopub.status.idle": "2022-01-22T17:50:12.426978Z",
     "shell.execute_reply": "2022-01-22T17:50:12.426422Z",
     "shell.execute_reply.started": "2022-01-22T16:56:20.426985Z"
    },
    "papermill": {
     "duration": 1.049348,
     "end_time": "2022-01-22T17:50:12.427249",
     "exception": false,
     "start_time": "2022-01-22T17:50:11.377901",
     "status": "completed"
    },
    "tags": []
   },
   "outputs": [
    {
     "data": {
      "text/plain": [
       "array(['No', 'Yes'], dtype=object)"
      ]
     },
     "execution_count": 89,
     "metadata": {},
     "output_type": "execute_result"
    }
   ],
   "source": [
    "df.hosp_yn.unique()"
   ]
  },
  {
   "cell_type": "code",
   "execution_count": 90,
   "id": "inside-limitation",
   "metadata": {
    "execution": {
     "iopub.execute_input": "2022-01-22T17:50:13.036478Z",
     "iopub.status.busy": "2022-01-22T17:50:13.035902Z",
     "iopub.status.idle": "2022-01-22T17:50:13.132275Z",
     "shell.execute_reply": "2022-01-22T17:50:13.132807Z",
     "shell.execute_reply.started": "2022-01-22T16:56:20.864638Z"
    },
    "papermill": {
     "duration": 0.571798,
     "end_time": "2022-01-22T17:50:13.132984",
     "exception": false,
     "start_time": "2022-01-22T17:50:12.561186",
     "status": "completed"
    },
    "tags": []
   },
   "outputs": [
    {
     "data": {
      "text/plain": [
       "array(['No', 'Yes'], dtype=object)"
      ]
     },
     "execution_count": 90,
     "metadata": {},
     "output_type": "execute_result"
    }
   ],
   "source": [
    "df.icu_yn.unique()"
   ]
  },
  {
   "cell_type": "code",
   "execution_count": 91,
   "id": "reverse-panama",
   "metadata": {
    "execution": {
     "iopub.execute_input": "2022-01-22T17:50:13.655576Z",
     "iopub.status.busy": "2022-01-22T17:50:13.543107Z",
     "iopub.status.idle": "2022-01-22T17:50:14.020283Z",
     "shell.execute_reply": "2022-01-22T17:50:14.019598Z",
     "shell.execute_reply.started": "2022-01-22T16:56:21.296303Z"
    },
    "papermill": {
     "duration": 0.684944,
     "end_time": "2022-01-22T17:50:14.020440",
     "exception": false,
     "start_time": "2022-01-22T17:50:13.335496",
     "status": "completed"
    },
    "tags": []
   },
   "outputs": [
    {
     "data": {
      "text/plain": [
       "array(['No', 'Yes', 'Unknown'], dtype=object)"
      ]
     },
     "execution_count": 91,
     "metadata": {},
     "output_type": "execute_result"
    }
   ],
   "source": [
    "df.medcond_yn.unique()"
   ]
  },
  {
   "cell_type": "code",
   "execution_count": 92,
   "id": "public-transfer",
   "metadata": {
    "execution": {
     "iopub.execute_input": "2022-01-22T17:50:14.421198Z",
     "iopub.status.busy": "2022-01-22T17:50:14.420335Z",
     "iopub.status.idle": "2022-01-22T17:50:14.466994Z",
     "shell.execute_reply": "2022-01-22T17:50:14.466302Z",
     "shell.execute_reply.started": "2022-01-22T16:56:21.761118Z"
    },
    "papermill": {
     "duration": 0.247311,
     "end_time": "2022-01-22T17:50:14.467158",
     "exception": false,
     "start_time": "2022-01-22T17:50:14.219847",
     "status": "completed"
    },
    "tags": []
   },
   "outputs": [
    {
     "data": {
      "text/plain": [
       "array([11, 10,  8,  9,  5,  7,  4,  3,  6,  1,  2])"
      ]
     },
     "execution_count": 92,
     "metadata": {},
     "output_type": "execute_result"
    }
   ],
   "source": [
    "df['month_cdc'].unique()"
   ]
  },
  {
   "cell_type": "code",
   "execution_count": 93,
   "id": "moral-allocation",
   "metadata": {
    "execution": {
     "iopub.execute_input": "2022-01-22T17:50:15.666699Z",
     "iopub.status.busy": "2022-01-22T17:50:15.665881Z",
     "iopub.status.idle": "2022-01-22T17:50:20.434340Z",
     "shell.execute_reply": "2022-01-22T17:50:20.433790Z",
     "shell.execute_reply.started": "2022-01-22T16:56:21.822645Z"
    },
    "papermill": {
     "duration": 5.770917,
     "end_time": "2022-01-22T17:50:20.434459",
     "exception": false,
     "start_time": "2022-01-22T17:50:14.663542",
     "status": "completed"
    },
    "tags": []
   },
   "outputs": [],
   "source": [
    "df.current_status.replace({'Laboratory-confirmed case':1,'Probable Case':2},inplace=True)"
   ]
  },
  {
   "cell_type": "code",
   "execution_count": 94,
   "id": "nuclear-commerce",
   "metadata": {
    "execution": {
     "iopub.execute_input": "2022-01-22T17:50:21.476634Z",
     "iopub.status.busy": "2022-01-22T17:50:21.475891Z",
     "iopub.status.idle": "2022-01-22T17:50:26.700776Z",
     "shell.execute_reply": "2022-01-22T17:50:26.700259Z",
     "shell.execute_reply.started": "2022-01-22T16:56:25.026451Z"
    },
    "papermill": {
     "duration": 6.136319,
     "end_time": "2022-01-22T17:50:26.700903",
     "exception": false,
     "start_time": "2022-01-22T17:50:20.564584",
     "status": "completed"
    },
    "tags": []
   },
   "outputs": [],
   "source": [
    "df.sex.replace({'Male':1,'Female':2,'Other':3},inplace=True)\n"
   ]
  },
  {
   "cell_type": "code",
   "execution_count": 95,
   "id": "small-preservation",
   "metadata": {
    "execution": {
     "iopub.execute_input": "2022-01-22T17:50:26.966755Z",
     "iopub.status.busy": "2022-01-22T17:50:26.966233Z",
     "iopub.status.idle": "2022-01-22T17:50:37.145404Z",
     "shell.execute_reply": "2022-01-22T17:50:37.145795Z",
     "shell.execute_reply.started": "2022-01-22T16:56:28.500756Z"
    },
    "papermill": {
     "duration": 10.312122,
     "end_time": "2022-01-22T17:50:37.146025",
     "exception": false,
     "start_time": "2022-01-22T17:50:26.833903",
     "status": "completed"
    },
    "tags": []
   },
   "outputs": [],
   "source": [
    "df.age_group.replace({'10 - 19 Years':1, '20 - 29 Years':2, '30 - 39 Years':2, '40 - 49 Years':3,'50 - 59 Years':3, '0 - 9 Years':1, '60 - 69 Years':4, '80+ Years':4,'70 - 79 Years':4},inplace=True)"
   ]
  },
  {
   "cell_type": "code",
   "execution_count": 96,
   "id": "bizarre-strengthening",
   "metadata": {
    "execution": {
     "iopub.execute_input": "2022-01-22T17:50:38.195569Z",
     "iopub.status.busy": "2022-01-22T17:50:37.409660Z",
     "iopub.status.idle": "2022-01-22T17:50:45.081346Z",
     "shell.execute_reply": "2022-01-22T17:50:45.080619Z",
     "shell.execute_reply.started": "2022-01-22T16:56:34.327922Z"
    },
    "papermill": {
     "duration": 7.804392,
     "end_time": "2022-01-22T17:50:45.081499",
     "exception": false,
     "start_time": "2022-01-22T17:50:37.277107",
     "status": "completed"
    },
    "tags": []
   },
   "outputs": [],
   "source": [
    "df['Race and ethnicity (combined)'].replace({'Black, Non-Hispanic':1, 'White, Non-Hispanic':2,\n",
    "       'Asian, Non-Hispanic':3,\n",
    "       'American Indian/Alaska Native, Non-Hispanic':4,\n",
    "       'Multiple/Other, Non-Hispanic':5,\n",
    "       'Native Hawaiian/Other Pacific Islander, Non-Hispanic':6,\n",
    "       'Hispanic/Latino':7},inplace=True)"
   ]
  },
  {
   "cell_type": "code",
   "execution_count": 97,
   "id": "productive-cooling",
   "metadata": {
    "execution": {
     "iopub.execute_input": "2022-01-22T17:50:46.174474Z",
     "iopub.status.busy": "2022-01-22T17:50:46.173888Z",
     "iopub.status.idle": "2022-01-22T17:50:50.874215Z",
     "shell.execute_reply": "2022-01-22T17:50:50.873508Z",
     "shell.execute_reply.started": "2022-01-22T16:56:38.761065Z"
    },
    "papermill": {
     "duration": 5.613354,
     "end_time": "2022-01-22T17:50:50.874348",
     "exception": false,
     "start_time": "2022-01-22T17:50:45.260994",
     "status": "completed"
    },
    "tags": []
   },
   "outputs": [],
   "source": [
    "df['hosp_yn'].replace({'No':0,'Yes':1},inplace=True)"
   ]
  },
  {
   "cell_type": "code",
   "execution_count": 98,
   "id": "subject-dialogue",
   "metadata": {
    "execution": {
     "iopub.execute_input": "2022-01-22T17:50:51.378681Z",
     "iopub.status.busy": "2022-01-22T17:50:51.378090Z",
     "iopub.status.idle": "2022-01-22T17:50:53.473873Z",
     "shell.execute_reply": "2022-01-22T17:50:53.473401Z",
     "shell.execute_reply.started": "2022-01-22T16:56:41.608616Z"
    },
    "papermill": {
     "duration": 2.469637,
     "end_time": "2022-01-22T17:50:53.474002",
     "exception": false,
     "start_time": "2022-01-22T17:50:51.004365",
     "status": "completed"
    },
    "tags": []
   },
   "outputs": [],
   "source": [
    "df['icu_yn'].replace({'No':0,'Yes':1},inplace=True)"
   ]
  },
  {
   "cell_type": "code",
   "execution_count": 99,
   "id": "modular-ending",
   "metadata": {
    "execution": {
     "iopub.execute_input": "2022-01-22T17:50:53.980739Z",
     "iopub.status.busy": "2022-01-22T17:50:53.980176Z",
     "iopub.status.idle": "2022-01-22T17:50:57.093558Z",
     "shell.execute_reply": "2022-01-22T17:50:57.092994Z",
     "shell.execute_reply.started": "2022-01-22T16:56:44.323637Z"
    },
    "papermill": {
     "duration": 3.489585,
     "end_time": "2022-01-22T17:50:57.093672",
     "exception": false,
     "start_time": "2022-01-22T17:50:53.604087",
     "status": "completed"
    },
    "tags": []
   },
   "outputs": [],
   "source": [
    "df['medcond_yn'].replace({'No':0, 'Yes':1, 'Unknown':2},inplace=True)"
   ]
  },
  {
   "cell_type": "code",
   "execution_count": 100,
   "id": "portuguese-spank",
   "metadata": {
    "execution": {
     "iopub.execute_input": "2022-01-22T17:50:57.366684Z",
     "iopub.status.busy": "2022-01-22T17:50:57.362289Z",
     "iopub.status.idle": "2022-01-22T17:51:00.363106Z",
     "shell.execute_reply": "2022-01-22T17:51:00.363545Z",
     "shell.execute_reply.started": "2022-01-22T16:56:47.277880Z"
    },
    "papermill": {
     "duration": 3.138925,
     "end_time": "2022-01-22T17:51:00.363698",
     "exception": false,
     "start_time": "2022-01-22T17:50:57.224773",
     "status": "completed"
    },
    "tags": []
   },
   "outputs": [
    {
     "data": {
      "text/plain": [
       "<AxesSubplot:>"
      ]
     },
     "execution_count": 100,
     "metadata": {},
     "output_type": "execute_result"
    },
    {
     "data": {
      "image/png": "[encoded data removed]",
      "text/plain": [
       "<Figure size 720x720 with 2 Axes>"
      ]
     },
     "metadata": {
      "needs_background": "light"
     },
     "output_type": "display_data"
    }
   ],
   "source": [
    "plt.subplots(figsize=(10,10))\n",
    "sns.heatmap(df.corr(),annot=True,annot_kws={'size':9})"
   ]
  },
  {
   "cell_type": "markdown",
   "id": "gorgeous-bachelor",
   "metadata": {
    "papermill": {
     "duration": 0.130949,
     "end_time": "2022-01-22T17:51:00.628623",
     "exception": false,
     "start_time": "2022-01-22T17:51:00.497674",
     "status": "completed"
    },
    "tags": []
   },
   "source": [
    "# Implementing machine learning algorthm"
   ]
  },
  {
   "cell_type": "markdown",
   "id": "capital-potato",
   "metadata": {
    "papermill": {
     "duration": 0.175569,
     "end_time": "2022-01-22T17:51:00.935429",
     "exception": false,
     "start_time": "2022-01-22T17:51:00.759860",
     "status": "completed"
    },
    "tags": []
   },
   "source": [
    "# Performing classification problem based on Death condition\n"
   ]
  },
  {
   "cell_type": "code",
   "execution_count": 101,
   "id": "toxic-burst",
   "metadata": {
    "execution": {
     "iopub.execute_input": "2022-01-22T17:51:01.207754Z",
     "iopub.status.busy": "2022-01-22T17:51:01.207243Z",
     "iopub.status.idle": "2022-01-22T17:51:01.513659Z",
     "shell.execute_reply": "2022-01-22T17:51:01.514085Z",
     "shell.execute_reply.started": "2022-01-22T16:56:52.609804Z"
    },
    "papermill": {
     "duration": 0.443232,
     "end_time": "2022-01-22T17:51:01.514240",
     "exception": false,
     "start_time": "2022-01-22T17:51:01.071008",
     "status": "completed"
    },
    "tags": []
   },
   "outputs": [],
   "source": [
    "X=df.drop(columns=['death_yn','month_cdc','week_cdc','Race and ethnicity (combined)','age_group','pos_spec_dt','onset_dt','cdc_report_dt'])"
   ]
  },
  {
   "cell_type": "code",
   "execution_count": 102,
   "id": "ideal-harris",
   "metadata": {
    "execution": {
     "iopub.execute_input": "2022-01-22T17:51:01.779743Z",
     "iopub.status.busy": "2022-01-22T17:51:01.779259Z",
     "iopub.status.idle": "2022-01-22T17:51:01.782777Z",
     "shell.execute_reply": "2022-01-22T17:51:01.782272Z",
     "shell.execute_reply.started": "2022-01-22T16:56:53.552427Z"
    },
    "papermill": {
     "duration": 0.137659,
     "end_time": "2022-01-22T17:51:01.782893",
     "exception": false,
     "start_time": "2022-01-22T17:51:01.645234",
     "status": "completed"
    },
    "tags": []
   },
   "outputs": [],
   "source": [
    "y=df['death_yn']\n"
   ]
  },
  {
   "cell_type": "code",
   "execution_count": 103,
   "id": "derived-trinidad",
   "metadata": {
    "execution": {
     "iopub.execute_input": "2022-01-22T17:51:02.049153Z",
     "iopub.status.busy": "2022-01-22T17:51:02.048643Z",
     "iopub.status.idle": "2022-01-22T17:51:02.864910Z",
     "shell.execute_reply": "2022-01-22T17:51:02.864245Z",
     "shell.execute_reply.started": "2022-01-22T16:56:53.586056Z"
    },
    "papermill": {
     "duration": 0.949796,
     "end_time": "2022-01-22T17:51:02.865091",
     "exception": false,
     "start_time": "2022-01-22T17:51:01.915295",
     "status": "completed"
    },
    "tags": []
   },
   "outputs": [],
   "source": [
    "from sklearn.linear_model import LogisticRegression\n",
    "from sklearn.ensemble import RandomForestClassifier\n",
    "from sklearn.naive_bayes import GaussianNB\n",
    "from sklearn.tree import DecisionTreeClassifier  \n"
   ]
  },
  {
   "cell_type": "code",
   "execution_count": 104,
   "id": "sitting-rental",
   "metadata": {
    "execution": {
     "iopub.execute_input": "2022-01-22T17:51:03.268644Z",
     "iopub.status.busy": "2022-01-22T17:51:03.267809Z",
     "iopub.status.idle": "2022-01-22T17:51:03.269401Z",
     "shell.execute_reply": "2022-01-22T17:51:03.269936Z",
     "shell.execute_reply.started": "2022-01-22T16:56:53.597218Z"
    },
    "papermill": {
     "duration": 0.206204,
     "end_time": "2022-01-22T17:51:03.270125",
     "exception": false,
     "start_time": "2022-01-22T17:51:03.063921",
     "status": "completed"
    },
    "tags": []
   },
   "outputs": [],
   "source": [
    "from sklearn.model_selection import train_test_split"
   ]
  },
  {
   "cell_type": "code",
   "execution_count": 105,
   "id": "sustained-donor",
   "metadata": {
    "execution": {
     "iopub.execute_input": "2022-01-22T17:51:03.604289Z",
     "iopub.status.busy": "2022-01-22T17:51:03.603741Z",
     "iopub.status.idle": "2022-01-22T17:51:03.607731Z",
     "shell.execute_reply": "2022-01-22T17:51:03.607218Z",
     "shell.execute_reply.started": "2022-01-22T16:56:53.609097Z"
    },
    "papermill": {
     "duration": 0.139499,
     "end_time": "2022-01-22T17:51:03.607850",
     "exception": false,
     "start_time": "2022-01-22T17:51:03.468351",
     "status": "completed"
    },
    "tags": []
   },
   "outputs": [],
   "source": [
    "from sklearn.metrics import classification_report\n",
    "from sklearn.metrics import confusion_matrix\n",
    "from sklearn.metrics import plot_confusion_matrix\n"
   ]
  },
  {
   "cell_type": "code",
   "execution_count": 106,
   "id": "guided-phase",
   "metadata": {
    "execution": {
     "iopub.execute_input": "2022-01-22T17:51:03.898142Z",
     "iopub.status.busy": "2022-01-22T17:51:03.897601Z",
     "iopub.status.idle": "2022-01-22T17:51:06.005835Z",
     "shell.execute_reply": "2022-01-22T17:51:06.006235Z",
     "shell.execute_reply.started": "2022-01-22T16:56:53.621026Z"
    },
    "papermill": {
     "duration": 2.265384,
     "end_time": "2022-01-22T17:51:06.006391",
     "exception": false,
     "start_time": "2022-01-22T17:51:03.741007",
     "status": "completed"
    },
    "tags": []
   },
   "outputs": [],
   "source": [
    "\n",
    "X_train, X_test, y_train, y_test = train_test_split(X, y, test_size=0.33, random_state=42)"
   ]
  },
  {
   "cell_type": "code",
   "execution_count": 107,
   "id": "domestic-yahoo",
   "metadata": {
    "execution": {
     "iopub.execute_input": "2022-01-22T17:51:06.282594Z",
     "iopub.status.busy": "2022-01-22T17:51:06.282079Z",
     "iopub.status.idle": "2022-01-22T17:51:32.644487Z",
     "shell.execute_reply": "2022-01-22T17:51:32.644028Z",
     "shell.execute_reply.started": "2022-01-22T16:56:56.204322Z"
    },
    "papermill": {
     "duration": 26.504127,
     "end_time": "2022-01-22T17:51:32.644620",
     "exception": false,
     "start_time": "2022-01-22T17:51:06.140493",
     "status": "completed"
    },
    "tags": []
   },
   "outputs": [],
   "source": [
    "#Logistic Regression\n",
    "logistic_reg = LogisticRegression()\n",
    "pred=logistic_reg.fit(X_train, y_train)\n",
    "#Predicting values\n",
    "Y_pred = logistic_reg.predict(X_test)"
   ]
  },
  {
   "cell_type": "code",
   "execution_count": 108,
   "id": "divided-acquisition",
   "metadata": {
    "execution": {
     "iopub.execute_input": "2022-01-22T17:51:32.939225Z",
     "iopub.status.busy": "2022-01-22T17:51:32.938697Z",
     "iopub.status.idle": "2022-01-22T17:51:36.722844Z",
     "shell.execute_reply": "2022-01-22T17:51:36.723509Z",
     "shell.execute_reply.started": "2022-01-22T16:57:16.023933Z"
    },
    "papermill": {
     "duration": 3.922198,
     "end_time": "2022-01-22T17:51:36.723714",
     "exception": false,
     "start_time": "2022-01-22T17:51:32.801516",
     "status": "completed"
    },
    "tags": []
   },
   "outputs": [
    {
     "name": "stdout",
     "output_type": "stream",
     "text": [
      "              precision    recall  f1-score   support\n",
      "\n",
      "           0       0.98      1.00      0.99   2710716\n",
      "           1       0.51      0.16      0.24     62961\n",
      "\n",
      "    accuracy                           0.98   2773677\n",
      "   macro avg       0.75      0.58      0.61   2773677\n",
      "weighted avg       0.97      0.98      0.97   2773677\n",
      "\n"
     ]
    }
   ],
   "source": [
    "print(classification_report(y_test, Y_pred))"
   ]
  },
  {
   "cell_type": "code",
   "execution_count": 109,
   "id": "dependent-measure",
   "metadata": {
    "execution": {
     "iopub.execute_input": "2022-01-22T17:51:37.217968Z",
     "iopub.status.busy": "2022-01-22T17:51:37.217299Z",
     "iopub.status.idle": "2022-01-22T17:51:39.208865Z",
     "shell.execute_reply": "2022-01-22T17:51:39.208346Z",
     "shell.execute_reply.started": "2022-01-22T16:57:22.100539Z"
    },
    "papermill": {
     "duration": 2.267933,
     "end_time": "2022-01-22T17:51:39.209008",
     "exception": false,
     "start_time": "2022-01-22T17:51:36.941075",
     "status": "completed"
    },
    "tags": []
   },
   "outputs": [
    {
     "data": {
      "text/plain": [
       "array([[2701376,    9340],\n",
       "       [  53051,    9910]])"
      ]
     },
     "execution_count": 109,
     "metadata": {},
     "output_type": "execute_result"
    }
   ],
   "source": [
    "confusion_matrix(y_test,Y_pred)"
   ]
  },
  {
   "cell_type": "code",
   "execution_count": 110,
   "id": "sealed-champion",
   "metadata": {
    "execution": {
     "iopub.execute_input": "2022-01-22T17:51:39.608520Z",
     "iopub.status.busy": "2022-01-22T17:51:39.607838Z",
     "iopub.status.idle": "2022-01-22T17:51:41.987007Z",
     "shell.execute_reply": "2022-01-22T17:51:41.986448Z",
     "shell.execute_reply.started": "2022-01-22T16:57:24.589111Z"
    },
    "papermill": {
     "duration": 2.580417,
     "end_time": "2022-01-22T17:51:41.987160",
     "exception": false,
     "start_time": "2022-01-22T17:51:39.406743",
     "status": "completed"
    },
    "tags": []
   },
   "outputs": [
    {
     "data": {
      "text/plain": [
       "<sklearn.metrics._plot.confusion_matrix.ConfusionMatrixDisplay at 0x7f792fa9aa90>"
      ]
     },
     "execution_count": 110,
     "metadata": {},
     "output_type": "execute_result"
    },
    {
     "data": {
      "image/png": "[encoded data removed]",
      "text/plain": [
       "<Figure size 432x288 with 2 Axes>"
      ]
     },
     "metadata": {
      "needs_background": "light"
     },
     "output_type": "display_data"
    }
   ],
   "source": [
    "plot_confusion_matrix(logistic_reg, X_test, y_test)  "
   ]
  },
  {
   "cell_type": "code",
   "execution_count": 111,
   "id": "lovely-portable",
   "metadata": {
    "execution": {
     "iopub.execute_input": "2022-01-22T17:51:42.389623Z",
     "iopub.status.busy": "2022-01-22T17:51:42.388952Z",
     "iopub.status.idle": "2022-01-22T17:56:41.857025Z",
     "shell.execute_reply": "2022-01-22T17:56:41.857617Z",
     "shell.execute_reply.started": "2022-01-22T17:00:29.512803Z"
    },
    "papermill": {
     "duration": 299.669381,
     "end_time": "2022-01-22T17:56:41.857805",
     "exception": false,
     "start_time": "2022-01-22T17:51:42.188424",
     "status": "completed"
    },
    "tags": []
   },
   "outputs": [],
   "source": [
    "#RandomForest\n",
    "\n",
    "rf_c=RandomForestClassifier()\n",
    "pred_rf=rf_c.fit(X_train, y_train)\n",
    "#Predicting values\n",
    "Y_pred_rf = pred_rf.predict(X_test)"
   ]
  },
  {
   "cell_type": "code",
   "execution_count": 112,
   "id": "mechanical-moscow",
   "metadata": {
    "execution": {
     "iopub.execute_input": "2022-01-22T17:56:42.268741Z",
     "iopub.status.busy": "2022-01-22T17:56:42.268071Z",
     "iopub.status.idle": "2022-01-22T17:56:46.179939Z",
     "shell.execute_reply": "2022-01-22T17:56:46.179497Z",
     "shell.execute_reply.started": "2022-01-22T17:04:57.353040Z"
    },
    "papermill": {
     "duration": 4.116169,
     "end_time": "2022-01-22T17:56:46.180077",
     "exception": false,
     "start_time": "2022-01-22T17:56:42.063908",
     "status": "completed"
    },
    "tags": []
   },
   "outputs": [
    {
     "name": "stdout",
     "output_type": "stream",
     "text": [
      "              precision    recall  f1-score   support\n",
      "\n",
      "           0       0.98      1.00      0.99   2710716\n",
      "           1       0.56      0.19      0.28     62961\n",
      "\n",
      "    accuracy                           0.98   2773677\n",
      "   macro avg       0.77      0.59      0.64   2773677\n",
      "weighted avg       0.97      0.98      0.97   2773677\n",
      "\n"
     ]
    }
   ],
   "source": [
    "print(classification_report(y_test, Y_pred_rf))"
   ]
  },
  {
   "cell_type": "code",
   "execution_count": 113,
   "id": "artistic-translation",
   "metadata": {
    "execution": {
     "iopub.execute_input": "2022-01-22T17:56:46.525319Z",
     "iopub.status.busy": "2022-01-22T17:56:46.524595Z",
     "iopub.status.idle": "2022-01-22T17:56:49.217707Z",
     "shell.execute_reply": "2022-01-22T17:56:49.217120Z",
     "shell.execute_reply.started": "2022-01-22T17:05:22.601515Z"
    },
    "papermill": {
     "duration": 2.900379,
     "end_time": "2022-01-22T17:56:49.217830",
     "exception": false,
     "start_time": "2022-01-22T17:56:46.317451",
     "status": "completed"
    },
    "tags": []
   },
   "outputs": [
    {
     "data": {
      "text/plain": [
       "array([[2701243,    9473],\n",
       "       [  50924,   12037]])"
      ]
     },
     "execution_count": 113,
     "metadata": {},
     "output_type": "execute_result"
    }
   ],
   "source": [
    "confusion_matrix(y_test,Y_pred_rf)"
   ]
  },
  {
   "cell_type": "code",
   "execution_count": 114,
   "id": "automotive-inspector",
   "metadata": {
    "execution": {
     "iopub.execute_input": "2022-01-22T17:56:49.490020Z",
     "iopub.status.busy": "2022-01-22T17:56:49.489244Z",
     "iopub.status.idle": "2022-01-22T17:57:11.255114Z",
     "shell.execute_reply": "2022-01-22T17:57:11.254437Z",
     "shell.execute_reply.started": "2022-01-22T17:05:29.342943Z"
    },
    "papermill": {
     "duration": 21.904014,
     "end_time": "2022-01-22T17:57:11.255269",
     "exception": false,
     "start_time": "2022-01-22T17:56:49.351255",
     "status": "completed"
    },
    "tags": []
   },
   "outputs": [
    {
     "data": {
      "text/plain": [
       "<sklearn.metrics._plot.confusion_matrix.ConfusionMatrixDisplay at 0x7f792c170150>"
      ]
     },
     "execution_count": 114,
     "metadata": {},
     "output_type": "execute_result"
    },
    {
     "data": {
      "image/png": "[encoded data removed]",
      "text/plain": [
       "<Figure size 432x288 with 2 Axes>"
      ]
     },
     "metadata": {
      "needs_background": "light"
     },
     "output_type": "display_data"
    }
   ],
   "source": [
    "plot_confusion_matrix(rf_c, X_test, y_test)  "
   ]
  },
  {
   "cell_type": "code",
   "execution_count": 115,
   "id": "overall-destination",
   "metadata": {
    "execution": {
     "iopub.execute_input": "2022-01-22T17:57:11.668802Z",
     "iopub.status.busy": "2022-01-22T17:57:11.667995Z",
     "iopub.status.idle": "2022-01-22T17:57:12.829384Z",
     "shell.execute_reply": "2022-01-22T17:57:12.828707Z",
     "shell.execute_reply.started": "2022-01-22T17:06:26.183612Z"
    },
    "papermill": {
     "duration": 1.368845,
     "end_time": "2022-01-22T17:57:12.829536",
     "exception": false,
     "start_time": "2022-01-22T17:57:11.460691",
     "status": "completed"
    },
    "tags": []
   },
   "outputs": [],
   "source": [
    "#Naive Bayes\n",
    "Nb=GaussianNB()\n",
    "pred_nb=Nb.fit(X_train, y_train)\n",
    "#Predicting values\n",
    "Y_pred_nb = pred_nb.predict(X_test)"
   ]
  },
  {
   "cell_type": "code",
   "execution_count": 116,
   "id": "aerial-cuisine",
   "metadata": {
    "execution": {
     "iopub.execute_input": "2022-01-22T17:57:13.240267Z",
     "iopub.status.busy": "2022-01-22T17:57:13.239703Z",
     "iopub.status.idle": "2022-01-22T17:57:17.326385Z",
     "shell.execute_reply": "2022-01-22T17:57:17.327080Z",
     "shell.execute_reply.started": "2022-01-22T17:06:34.280116Z"
    },
    "papermill": {
     "duration": 4.295989,
     "end_time": "2022-01-22T17:57:17.327295",
     "exception": false,
     "start_time": "2022-01-22T17:57:13.031306",
     "status": "completed"
    },
    "tags": []
   },
   "outputs": [
    {
     "name": "stdout",
     "output_type": "stream",
     "text": [
      "              precision    recall  f1-score   support\n",
      "\n",
      "           0       1.00      0.95      0.97   2710716\n",
      "           1       0.28      0.85      0.42     62961\n",
      "\n",
      "    accuracy                           0.95   2773677\n",
      "   macro avg       0.64      0.90      0.70   2773677\n",
      "weighted avg       0.98      0.95      0.96   2773677\n",
      "\n"
     ]
    }
   ],
   "source": [
    "print(classification_report(y_test, Y_pred_nb))"
   ]
  },
  {
   "cell_type": "code",
   "execution_count": 117,
   "id": "binary-mills",
   "metadata": {
    "execution": {
     "iopub.execute_input": "2022-01-22T17:57:17.618566Z",
     "iopub.status.busy": "2022-01-22T17:57:17.616024Z",
     "iopub.status.idle": "2022-01-22T17:57:21.657067Z",
     "shell.execute_reply": "2022-01-22T17:57:21.657559Z",
     "shell.execute_reply.started": "2022-01-22T17:06:44.831348Z"
    },
    "papermill": {
     "duration": 4.181747,
     "end_time": "2022-01-22T17:57:21.657732",
     "exception": false,
     "start_time": "2022-01-22T17:57:17.475985",
     "status": "completed"
    },
    "tags": []
   },
   "outputs": [
    {
     "data": {
      "text/plain": [
       "array([[2572621,  138095],\n",
       "       [   9179,   53782]])"
      ]
     },
     "execution_count": 117,
     "metadata": {},
     "output_type": "execute_result"
    }
   ],
   "source": [
    "confusion_matrix(y_test,Y_pred_nb)"
   ]
  },
  {
   "cell_type": "code",
   "execution_count": 118,
   "id": "green-migration",
   "metadata": {
    "execution": {
     "iopub.execute_input": "2022-01-22T17:57:22.071280Z",
     "iopub.status.busy": "2022-01-22T17:57:22.070581Z",
     "iopub.status.idle": "2022-01-22T17:57:24.620878Z",
     "shell.execute_reply": "2022-01-22T17:57:24.620320Z",
     "shell.execute_reply.started": "2022-01-22T17:08:35.435917Z"
    },
    "papermill": {
     "duration": 2.758699,
     "end_time": "2022-01-22T17:57:24.621047",
     "exception": false,
     "start_time": "2022-01-22T17:57:21.862348",
     "status": "completed"
    },
    "tags": []
   },
   "outputs": [
    {
     "data": {
      "text/plain": [
       "<sklearn.metrics._plot.confusion_matrix.ConfusionMatrixDisplay at 0x7f792fb83310>"
      ]
     },
     "execution_count": 118,
     "metadata": {},
     "output_type": "execute_result"
    },
    {
     "data": {
      "image/png": "[encoded data removed]",
      "text/plain": [
       "<Figure size 432x288 with 2 Axes>"
      ]
     },
     "metadata": {
      "needs_background": "light"
     },
     "output_type": "display_data"
    }
   ],
   "source": [
    "plot_confusion_matrix(Nb, X_test, y_test)"
   ]
  },
  {
   "cell_type": "code",
   "execution_count": 119,
   "id": "increased-annual",
   "metadata": {
    "execution": {
     "iopub.execute_input": "2022-01-22T17:57:25.028577Z",
     "iopub.status.busy": "2022-01-22T17:57:25.027934Z",
     "iopub.status.idle": "2022-01-22T17:57:29.105012Z",
     "shell.execute_reply": "2022-01-22T17:57:29.104376Z",
     "shell.execute_reply.started": "2022-01-22T17:08:50.152046Z"
    },
    "papermill": {
     "duration": 4.282185,
     "end_time": "2022-01-22T17:57:29.105184",
     "exception": false,
     "start_time": "2022-01-22T17:57:24.822999",
     "status": "completed"
    },
    "tags": []
   },
   "outputs": [],
   "source": [
    "#Decision tree classifier\n",
    "DC= DecisionTreeClassifier()  \n",
    "pred_dc=DC.fit(X_train, y_train)"
   ]
  },
  {
   "cell_type": "code",
   "execution_count": 120,
   "id": "ranking-resolution",
   "metadata": {
    "execution": {
     "iopub.execute_input": "2022-01-22T17:57:29.517742Z",
     "iopub.status.busy": "2022-01-22T17:57:29.517080Z",
     "iopub.status.idle": "2022-01-22T17:57:29.769490Z",
     "shell.execute_reply": "2022-01-22T17:57:29.770067Z",
     "shell.execute_reply.started": "2022-01-22T17:08:57.886197Z"
    },
    "papermill": {
     "duration": 0.460103,
     "end_time": "2022-01-22T17:57:29.770260",
     "exception": false,
     "start_time": "2022-01-22T17:57:29.310157",
     "status": "completed"
    },
    "tags": []
   },
   "outputs": [],
   "source": [
    "Y_pred_dc= pred_dc.predict(X_test)"
   ]
  },
  {
   "cell_type": "code",
   "execution_count": 121,
   "id": "executed-engine",
   "metadata": {
    "execution": {
     "iopub.execute_input": "2022-01-22T17:57:30.183275Z",
     "iopub.status.busy": "2022-01-22T17:57:30.182616Z",
     "iopub.status.idle": "2022-01-22T17:57:34.117049Z",
     "shell.execute_reply": "2022-01-22T17:57:34.116560Z",
     "shell.execute_reply.started": "2022-01-22T17:09:03.303477Z"
    },
    "papermill": {
     "duration": 4.143294,
     "end_time": "2022-01-22T17:57:34.117175",
     "exception": false,
     "start_time": "2022-01-22T17:57:29.973881",
     "status": "completed"
    },
    "tags": []
   },
   "outputs": [
    {
     "name": "stdout",
     "output_type": "stream",
     "text": [
      "              precision    recall  f1-score   support\n",
      "\n",
      "           0       0.98      1.00      0.99   2710716\n",
      "           1       0.56      0.19      0.28     62961\n",
      "\n",
      "    accuracy                           0.98   2773677\n",
      "   macro avg       0.77      0.59      0.64   2773677\n",
      "weighted avg       0.97      0.98      0.97   2773677\n",
      "\n"
     ]
    }
   ],
   "source": [
    "print(classification_report(y_test, Y_pred_dc))"
   ]
  },
  {
   "cell_type": "code",
   "execution_count": 122,
   "id": "civilian-liverpool",
   "metadata": {
    "execution": {
     "iopub.execute_input": "2022-01-22T17:57:34.394821Z",
     "iopub.status.busy": "2022-01-22T17:57:34.394312Z",
     "iopub.status.idle": "2022-01-22T17:57:36.367743Z",
     "shell.execute_reply": "2022-01-22T17:57:36.367302Z",
     "shell.execute_reply.started": "2022-01-22T17:09:17.475379Z"
    },
    "papermill": {
     "duration": 2.113348,
     "end_time": "2022-01-22T17:57:36.367857",
     "exception": false,
     "start_time": "2022-01-22T17:57:34.254509",
     "status": "completed"
    },
    "tags": []
   },
   "outputs": [
    {
     "data": {
      "text/plain": [
       "array([[2701243,    9473],\n",
       "       [  50924,   12037]])"
      ]
     },
     "execution_count": 122,
     "metadata": {},
     "output_type": "execute_result"
    }
   ],
   "source": [
    "confusion_matrix(y_test,Y_pred_dc)"
   ]
  },
  {
   "cell_type": "code",
   "execution_count": 123,
   "id": "judicial-madison",
   "metadata": {
    "execution": {
     "iopub.execute_input": "2022-01-22T17:57:36.648325Z",
     "iopub.status.busy": "2022-01-22T17:57:36.647775Z",
     "iopub.status.idle": "2022-01-22T17:57:39.102096Z",
     "shell.execute_reply": "2022-01-22T17:57:39.102485Z",
     "shell.execute_reply.started": "2022-01-22T17:09:26.365921Z"
    },
    "papermill": {
     "duration": 2.596151,
     "end_time": "2022-01-22T17:57:39.102638",
     "exception": false,
     "start_time": "2022-01-22T17:57:36.506487",
     "status": "completed"
    },
    "tags": []
   },
   "outputs": [
    {
     "data": {
      "text/plain": [
       "<sklearn.metrics._plot.confusion_matrix.ConfusionMatrixDisplay at 0x7f792f92fa90>"
      ]
     },
     "execution_count": 123,
     "metadata": {},
     "output_type": "execute_result"
    },
    {
     "data": {
      "image/png": "[encoded data removed]",
      "text/plain": [
       "<Figure size 432x288 with 2 Axes>"
      ]
     },
     "metadata": {
      "needs_background": "light"
     },
     "output_type": "display_data"
    }
   ],
   "source": [
    "plot_confusion_matrix(DC, X_test, y_test)"
   ]
  },
  {
   "cell_type": "markdown",
   "id": "infinite-copyright",
   "metadata": {
    "papermill": {
     "duration": 0.137224,
     "end_time": "2022-01-22T17:57:39.377402",
     "exception": false,
     "start_time": "2022-01-22T17:57:39.240178",
     "status": "completed"
    },
    "tags": []
   },
   "source": [
    "# Performing classification problem based on joined in icu "
   ]
  },
  {
   "cell_type": "code",
   "execution_count": 124,
   "id": "compatible-quebec",
   "metadata": {
    "execution": {
     "iopub.execute_input": "2022-01-22T17:57:39.807201Z",
     "iopub.status.busy": "2022-01-22T17:57:39.806375Z",
     "iopub.status.idle": "2022-01-22T17:57:39.809629Z",
     "shell.execute_reply": "2022-01-22T17:57:39.808925Z",
     "shell.execute_reply.started": "2022-01-22T17:09:37.651003Z"
    },
    "papermill": {
     "duration": 0.265941,
     "end_time": "2022-01-22T17:57:39.809768",
     "exception": false,
     "start_time": "2022-01-22T17:57:39.543827",
     "status": "completed"
    },
    "tags": []
   },
   "outputs": [],
   "source": [
    "X=df.drop(columns=['death_yn','month_cdc','week_cdc','Race and ethnicity (combined)','age_group','pos_spec_dt','onset_dt','cdc_report_dt','current_status','icu_yn'])"
   ]
  },
  {
   "cell_type": "code",
   "execution_count": 125,
   "id": "contained-breed",
   "metadata": {
    "execution": {
     "iopub.execute_input": "2022-01-22T17:57:40.151281Z",
     "iopub.status.busy": "2022-01-22T17:57:40.150470Z",
     "iopub.status.idle": "2022-01-22T17:57:40.156304Z",
     "shell.execute_reply": "2022-01-22T17:57:40.156864Z",
     "shell.execute_reply.started": "2022-01-22T17:09:45.542661Z"
    },
    "papermill": {
     "duration": 0.180368,
     "end_time": "2022-01-22T17:57:40.157072",
     "exception": false,
     "start_time": "2022-01-22T17:57:39.976704",
     "status": "completed"
    },
    "tags": []
   },
   "outputs": [],
   "source": [
    "y=df['icu_yn']"
   ]
  },
  {
   "cell_type": "markdown",
   "id": "compliant-playlist",
   "metadata": {
    "papermill": {
     "duration": 0.150673,
     "end_time": "2022-01-22T17:57:40.470698",
     "exception": false,
     "start_time": "2022-01-22T17:57:40.320025",
     "status": "completed"
    },
    "tags": []
   },
   "source": []
  },
  {
   "cell_type": "code",
   "execution_count": 126,
   "id": "identical-chosen",
   "metadata": {
    "execution": {
     "iopub.execute_input": "2022-01-22T17:57:40.891133Z",
     "iopub.status.busy": "2022-01-22T17:57:40.890432Z",
     "iopub.status.idle": "2022-01-22T17:57:43.736880Z",
     "shell.execute_reply": "2022-01-22T17:57:43.736291Z",
     "shell.execute_reply.started": "2022-01-22T17:10:02.550950Z"
    },
    "papermill": {
     "duration": 3.061366,
     "end_time": "2022-01-22T17:57:43.737022",
     "exception": false,
     "start_time": "2022-01-22T17:57:40.675656",
     "status": "completed"
    },
    "tags": []
   },
   "outputs": [],
   "source": [
    "\n",
    "X_train, X_test, y_train, y_test = train_test_split(X, y, test_size=0.33, random_state=42)"
   ]
  },
  {
   "cell_type": "code",
   "execution_count": 127,
   "id": "aging-nebraska",
   "metadata": {
    "execution": {
     "iopub.execute_input": "2022-01-22T17:57:44.032620Z",
     "iopub.status.busy": "2022-01-22T17:57:44.031959Z",
     "iopub.status.idle": "2022-01-22T17:57:54.755589Z",
     "shell.execute_reply": "2022-01-22T17:57:54.756284Z",
     "shell.execute_reply.started": "2022-01-22T17:11:10.886751Z"
    },
    "papermill": {
     "duration": 10.865299,
     "end_time": "2022-01-22T17:57:54.756502",
     "exception": false,
     "start_time": "2022-01-22T17:57:43.891203",
     "status": "completed"
    },
    "tags": []
   },
   "outputs": [],
   "source": [
    "#Logistic Regression\n",
    "logistic_reg = LogisticRegression()\n",
    "pred=logistic_reg.fit(X_train, y_train)\n",
    "#Predicting values\n",
    "Y_pred = logistic_reg.predict(X_test)"
   ]
  },
  {
   "cell_type": "code",
   "execution_count": 128,
   "id": "median-economics",
   "metadata": {
    "execution": {
     "iopub.execute_input": "2022-01-22T17:57:55.198702Z",
     "iopub.status.busy": "2022-01-22T17:57:55.197937Z",
     "iopub.status.idle": "2022-01-22T17:57:58.871300Z",
     "shell.execute_reply": "2022-01-22T17:57:58.871723Z",
     "shell.execute_reply.started": "2022-01-22T17:11:32.278226Z"
    },
    "papermill": {
     "duration": 3.88897,
     "end_time": "2022-01-22T17:57:58.871870",
     "exception": false,
     "start_time": "2022-01-22T17:57:54.982900",
     "status": "completed"
    },
    "tags": []
   },
   "outputs": [
    {
     "name": "stdout",
     "output_type": "stream",
     "text": [
      "              precision    recall  f1-score   support\n",
      "\n",
      "           0       0.99      1.00      1.00   2753605\n",
      "           1       0.00      0.00      0.00     20072\n",
      "\n",
      "    accuracy                           0.99   2773677\n",
      "   macro avg       0.50      0.50      0.50   2773677\n",
      "weighted avg       0.99      0.99      0.99   2773677\n",
      "\n"
     ]
    }
   ],
   "source": [
    "print(classification_report(y_test, Y_pred))"
   ]
  },
  {
   "cell_type": "code",
   "execution_count": 129,
   "id": "intimate-checkout",
   "metadata": {
    "execution": {
     "iopub.execute_input": "2022-01-22T17:57:59.151970Z",
     "iopub.status.busy": "2022-01-22T17:57:59.151510Z",
     "iopub.status.idle": "2022-01-22T17:58:01.158186Z",
     "shell.execute_reply": "2022-01-22T17:58:01.157754Z",
     "shell.execute_reply.started": "2022-01-22T17:11:46.767272Z"
    },
    "papermill": {
     "duration": 2.147742,
     "end_time": "2022-01-22T17:58:01.158308",
     "exception": false,
     "start_time": "2022-01-22T17:57:59.010566",
     "status": "completed"
    },
    "tags": []
   },
   "outputs": [
    {
     "data": {
      "text/plain": [
       "array([[2753605,       0],\n",
       "       [  20072,       0]])"
      ]
     },
     "execution_count": 129,
     "metadata": {},
     "output_type": "execute_result"
    }
   ],
   "source": [
    "confusion_matrix(y_test,Y_pred)"
   ]
  },
  {
   "cell_type": "code",
   "execution_count": 130,
   "id": "executed-party",
   "metadata": {
    "execution": {
     "iopub.execute_input": "2022-01-22T17:58:01.498303Z",
     "iopub.status.busy": "2022-01-22T17:58:01.497224Z",
     "iopub.status.idle": "2022-01-22T17:58:05.852162Z",
     "shell.execute_reply": "2022-01-22T17:58:05.851695Z",
     "shell.execute_reply.started": "2022-01-22T17:11:52.886217Z"
    },
    "papermill": {
     "duration": 4.554586,
     "end_time": "2022-01-22T17:58:05.852283",
     "exception": false,
     "start_time": "2022-01-22T17:58:01.297697",
     "status": "completed"
    },
    "tags": []
   },
   "outputs": [
    {
     "data": {
      "text/plain": [
       "<sklearn.metrics._plot.confusion_matrix.ConfusionMatrixDisplay at 0x7f792d30de10>"
      ]
     },
     "execution_count": 130,
     "metadata": {},
     "output_type": "execute_result"
    },
    {
     "data": {
      "image/png": "[encoded data removed]",
      "text/plain": [
       "<Figure size 432x288 with 2 Axes>"
      ]
     },
     "metadata": {
      "needs_background": "light"
     },
     "output_type": "display_data"
    }
   ],
   "source": [
    "plot_confusion_matrix(logistic_reg, X_test, y_test)"
   ]
  },
  {
   "cell_type": "code",
   "execution_count": 131,
   "id": "durable-current",
   "metadata": {
    "execution": {
     "iopub.execute_input": "2022-01-22T17:58:06.136362Z",
     "iopub.status.busy": "2022-01-22T17:58:06.135809Z",
     "iopub.status.idle": "2022-01-22T18:01:20.814184Z",
     "shell.execute_reply": "2022-01-22T18:01:20.813532Z",
     "shell.execute_reply.started": "2022-01-22T17:12:03.207143Z"
    },
    "papermill": {
     "duration": 194.823426,
     "end_time": "2022-01-22T18:01:20.814334",
     "exception": false,
     "start_time": "2022-01-22T17:58:05.990908",
     "status": "completed"
    },
    "tags": []
   },
   "outputs": [],
   "source": [
    "#RandomForest\n",
    "\n",
    "rf_c=RandomForestClassifier()\n",
    "pred_rf=rf_c.fit(X_train, y_train)\n",
    "#Predicting values\n",
    "Y_pred_rf = pred_rf.predict(X_test)"
   ]
  },
  {
   "cell_type": "code",
   "execution_count": 132,
   "id": "difficult-profession",
   "metadata": {
    "execution": {
     "iopub.execute_input": "2022-01-22T18:01:21.240249Z",
     "iopub.status.busy": "2022-01-22T18:01:21.238961Z",
     "iopub.status.idle": "2022-01-22T18:01:24.878859Z",
     "shell.execute_reply": "2022-01-22T18:01:24.877843Z",
     "shell.execute_reply.started": "2022-01-22T17:15:31.450331Z"
    },
    "papermill": {
     "duration": 3.855169,
     "end_time": "2022-01-22T18:01:24.879069",
     "exception": false,
     "start_time": "2022-01-22T18:01:21.023900",
     "status": "completed"
    },
    "tags": []
   },
   "outputs": [
    {
     "name": "stdout",
     "output_type": "stream",
     "text": [
      "              precision    recall  f1-score   support\n",
      "\n",
      "           0       0.99      1.00      1.00   2753605\n",
      "           1       0.00      0.00      0.00     20072\n",
      "\n",
      "    accuracy                           0.99   2773677\n",
      "   macro avg       0.50      0.50      0.50   2773677\n",
      "weighted avg       0.99      0.99      0.99   2773677\n",
      "\n"
     ]
    }
   ],
   "source": [
    "print(classification_report(y_test, Y_pred_rf))"
   ]
  },
  {
   "cell_type": "code",
   "execution_count": 133,
   "id": "noticed-cholesterol",
   "metadata": {
    "execution": {
     "iopub.execute_input": "2022-01-22T18:01:25.331541Z",
     "iopub.status.busy": "2022-01-22T18:01:25.330853Z",
     "iopub.status.idle": "2022-01-22T18:01:27.260954Z",
     "shell.execute_reply": "2022-01-22T18:01:27.261470Z",
     "shell.execute_reply.started": "2022-01-22T17:15:37.144228Z"
    },
    "papermill": {
     "duration": 2.155845,
     "end_time": "2022-01-22T18:01:27.261651",
     "exception": false,
     "start_time": "2022-01-22T18:01:25.105806",
     "status": "completed"
    },
    "tags": []
   },
   "outputs": [
    {
     "data": {
      "text/plain": [
       "array([[2753605,       0],\n",
       "       [  20072,       0]])"
      ]
     },
     "execution_count": 133,
     "metadata": {},
     "output_type": "execute_result"
    }
   ],
   "source": [
    "confusion_matrix(y_test,Y_pred_rf)"
   ]
  },
  {
   "cell_type": "code",
   "execution_count": 134,
   "id": "freelance-blackberry",
   "metadata": {
    "execution": {
     "iopub.execute_input": "2022-01-22T18:01:27.683452Z",
     "iopub.status.busy": "2022-01-22T18:01:27.682733Z",
     "iopub.status.idle": "2022-01-22T18:01:45.260228Z",
     "shell.execute_reply": "2022-01-22T18:01:45.260744Z",
     "shell.execute_reply.started": "2022-01-22T17:15:51.125582Z"
    },
    "papermill": {
     "duration": 17.78956,
     "end_time": "2022-01-22T18:01:45.260944",
     "exception": false,
     "start_time": "2022-01-22T18:01:27.471384",
     "status": "completed"
    },
    "tags": []
   },
   "outputs": [
    {
     "data": {
      "text/plain": [
       "<sklearn.metrics._plot.confusion_matrix.ConfusionMatrixDisplay at 0x7f77949a20d0>"
      ]
     },
     "execution_count": 134,
     "metadata": {},
     "output_type": "execute_result"
    },
    {
     "data": {
      "image/png": "[encoded data removed]",
      "text/plain": [
       "<Figure size 432x288 with 2 Axes>"
      ]
     },
     "metadata": {
      "needs_background": "light"
     },
     "output_type": "display_data"
    }
   ],
   "source": [
    "plot_confusion_matrix(rf_c, X_test, y_test)  "
   ]
  },
  {
   "cell_type": "code",
   "execution_count": 135,
   "id": "raising-group",
   "metadata": {
    "execution": {
     "iopub.execute_input": "2022-01-22T18:01:45.688628Z",
     "iopub.status.busy": "2022-01-22T18:01:45.687984Z",
     "iopub.status.idle": "2022-01-22T18:01:46.625832Z",
     "shell.execute_reply": "2022-01-22T18:01:46.625248Z",
     "shell.execute_reply.started": "2022-01-22T17:16:11.860682Z"
    },
    "papermill": {
     "duration": 1.151134,
     "end_time": "2022-01-22T18:01:46.625975",
     "exception": false,
     "start_time": "2022-01-22T18:01:45.474841",
     "status": "completed"
    },
    "tags": []
   },
   "outputs": [],
   "source": [
    "#Naive Bayes\n",
    "Nb=GaussianNB()\n",
    "pred_nb=Nb.fit(X_train, y_train)\n",
    "#Predicting values\n",
    "Y_pred_nb = pred_nb.predict(X_test)"
   ]
  },
  {
   "cell_type": "code",
   "execution_count": 136,
   "id": "purple-concrete",
   "metadata": {
    "execution": {
     "iopub.execute_input": "2022-01-22T18:01:47.048872Z",
     "iopub.status.busy": "2022-01-22T18:01:47.048167Z",
     "iopub.status.idle": "2022-01-22T18:01:50.914801Z",
     "shell.execute_reply": "2022-01-22T18:01:50.914387Z",
     "shell.execute_reply.started": "2022-01-22T17:16:13.230521Z"
    },
    "papermill": {
     "duration": 4.079057,
     "end_time": "2022-01-22T18:01:50.914936",
     "exception": false,
     "start_time": "2022-01-22T18:01:46.835879",
     "status": "completed"
    },
    "tags": []
   },
   "outputs": [
    {
     "name": "stdout",
     "output_type": "stream",
     "text": [
      "              precision    recall  f1-score   support\n",
      "\n",
      "           0       1.00      0.94      0.97   2753605\n",
      "           1       0.10      0.99      0.19     20072\n",
      "\n",
      "    accuracy                           0.94   2773677\n",
      "   macro avg       0.55      0.96      0.58   2773677\n",
      "weighted avg       0.99      0.94      0.96   2773677\n",
      "\n"
     ]
    }
   ],
   "source": [
    "print(classification_report(y_test, Y_pred_nb))"
   ]
  },
  {
   "cell_type": "code",
   "execution_count": 137,
   "id": "medieval-paste",
   "metadata": {
    "execution": {
     "iopub.execute_input": "2022-01-22T18:01:51.204228Z",
     "iopub.status.busy": "2022-01-22T18:01:51.203418Z",
     "iopub.status.idle": "2022-01-22T18:01:53.226415Z",
     "shell.execute_reply": "2022-01-22T18:01:53.225764Z",
     "shell.execute_reply.started": "2022-01-22T17:16:47.197897Z"
    },
    "papermill": {
     "duration": 2.170902,
     "end_time": "2022-01-22T18:01:53.226563",
     "exception": false,
     "start_time": "2022-01-22T18:01:51.055661",
     "status": "completed"
    },
    "tags": []
   },
   "outputs": [
    {
     "data": {
      "text/plain": [
       "array([[2581800,  171805],\n",
       "       [    268,   19804]])"
      ]
     },
     "execution_count": 137,
     "metadata": {},
     "output_type": "execute_result"
    }
   ],
   "source": [
    "confusion_matrix(y_test,Y_pred_nb)"
   ]
  },
  {
   "cell_type": "code",
   "execution_count": 138,
   "id": "emerging-lying",
   "metadata": {
    "execution": {
     "iopub.execute_input": "2022-01-22T18:01:53.658941Z",
     "iopub.status.busy": "2022-01-22T18:01:53.658209Z",
     "iopub.status.idle": "2022-01-22T18:01:56.079426Z",
     "shell.execute_reply": "2022-01-22T18:01:56.079797Z",
     "shell.execute_reply.started": "2022-01-22T17:16:49.758468Z"
    },
    "papermill": {
     "duration": 2.640875,
     "end_time": "2022-01-22T18:01:56.079948",
     "exception": false,
     "start_time": "2022-01-22T18:01:53.439073",
     "status": "completed"
    },
    "tags": []
   },
   "outputs": [
    {
     "data": {
      "text/plain": [
       "<sklearn.metrics._plot.confusion_matrix.ConfusionMatrixDisplay at 0x7f792c50cf10>"
      ]
     },
     "execution_count": 138,
     "metadata": {},
     "output_type": "execute_result"
    },
    {
     "data": {
      "image/png": "[encoded data removed]",
      "text/plain": [
       "<Figure size 432x288 with 2 Axes>"
      ]
     },
     "metadata": {
      "needs_background": "light"
     },
     "output_type": "display_data"
    }
   ],
   "source": [
    "plot_confusion_matrix(Nb, X_test, y_test)"
   ]
  },
  {
   "cell_type": "code",
   "execution_count": 139,
   "id": "wicked-fishing",
   "metadata": {
    "execution": {
     "iopub.execute_input": "2022-01-22T18:01:56.374332Z",
     "iopub.status.busy": "2022-01-22T18:01:56.373784Z",
     "iopub.status.idle": "2022-01-22T18:01:58.715938Z",
     "shell.execute_reply": "2022-01-22T18:01:58.715246Z",
     "shell.execute_reply.started": "2022-01-22T17:16:58.222897Z"
    },
    "papermill": {
     "duration": 2.490122,
     "end_time": "2022-01-22T18:01:58.716100",
     "exception": false,
     "start_time": "2022-01-22T18:01:56.225978",
     "status": "completed"
    },
    "tags": []
   },
   "outputs": [],
   "source": [
    "#Decision tree classifier\n",
    "DC= DecisionTreeClassifier()  \n",
    "pred_dc=DC.fit(X_train, y_train)"
   ]
  },
  {
   "cell_type": "code",
   "execution_count": 140,
   "id": "lesbian-level",
   "metadata": {
    "execution": {
     "iopub.execute_input": "2022-01-22T18:01:59.149684Z",
     "iopub.status.busy": "2022-01-22T18:01:59.148995Z",
     "iopub.status.idle": "2022-01-22T18:01:59.363417Z",
     "shell.execute_reply": "2022-01-22T18:01:59.362715Z",
     "shell.execute_reply.started": "2022-01-22T17:17:00.806505Z"
    },
    "papermill": {
     "duration": 0.433625,
     "end_time": "2022-01-22T18:01:59.363562",
     "exception": false,
     "start_time": "2022-01-22T18:01:58.929937",
     "status": "completed"
    },
    "tags": []
   },
   "outputs": [],
   "source": [
    "Y_pred_dc= pred_dc.predict(X_test)"
   ]
  },
  {
   "cell_type": "code",
   "execution_count": 141,
   "id": "adjustable-stick",
   "metadata": {
    "execution": {
     "iopub.execute_input": "2022-01-22T18:01:59.796861Z",
     "iopub.status.busy": "2022-01-22T18:01:59.796138Z",
     "iopub.status.idle": "2022-01-22T18:02:03.447518Z",
     "shell.execute_reply": "2022-01-22T18:02:03.447073Z",
     "shell.execute_reply.started": "2022-01-22T17:17:06.926314Z"
    },
    "papermill": {
     "duration": 3.868469,
     "end_time": "2022-01-22T18:02:03.447641",
     "exception": false,
     "start_time": "2022-01-22T18:01:59.579172",
     "status": "completed"
    },
    "tags": []
   },
   "outputs": [
    {
     "name": "stdout",
     "output_type": "stream",
     "text": [
      "              precision    recall  f1-score   support\n",
      "\n",
      "           0       0.99      1.00      1.00   2753605\n",
      "           1       0.00      0.00      0.00     20072\n",
      "\n",
      "    accuracy                           0.99   2773677\n",
      "   macro avg       0.50      0.50      0.50   2773677\n",
      "weighted avg       0.99      0.99      0.99   2773677\n",
      "\n"
     ]
    }
   ],
   "source": [
    "print(classification_report(y_test, Y_pred_dc))"
   ]
  },
  {
   "cell_type": "code",
   "execution_count": 142,
   "id": "comprehensive-seeking",
   "metadata": {
    "execution": {
     "iopub.execute_input": "2022-01-22T18:02:03.738159Z",
     "iopub.status.busy": "2022-01-22T18:02:03.737614Z",
     "iopub.status.idle": "2022-01-22T18:02:07.040914Z",
     "shell.execute_reply": "2022-01-22T18:02:07.041419Z",
     "shell.execute_reply.started": "2022-01-22T17:17:12.844044Z"
    },
    "papermill": {
     "duration": 3.450812,
     "end_time": "2022-01-22T18:02:07.041607",
     "exception": false,
     "start_time": "2022-01-22T18:02:03.590795",
     "status": "completed"
    },
    "tags": []
   },
   "outputs": [
    {
     "data": {
      "text/plain": [
       "array([[2753605,       0],\n",
       "       [  20072,       0]])"
      ]
     },
     "execution_count": 142,
     "metadata": {},
     "output_type": "execute_result"
    }
   ],
   "source": [
    "confusion_matrix(y_test,Y_pred_dc)"
   ]
  },
  {
   "cell_type": "code",
   "execution_count": 143,
   "id": "absolute-spider",
   "metadata": {
    "execution": {
     "iopub.execute_input": "2022-01-22T18:02:07.476387Z",
     "iopub.status.busy": "2022-01-22T18:02:07.475690Z",
     "iopub.status.idle": "2022-01-22T18:02:09.821348Z",
     "shell.execute_reply": "2022-01-22T18:02:09.821853Z",
     "shell.execute_reply.started": "2022-01-22T17:17:22.950115Z"
    },
    "papermill": {
     "duration": 2.565499,
     "end_time": "2022-01-22T18:02:09.822060",
     "exception": false,
     "start_time": "2022-01-22T18:02:07.256561",
     "status": "completed"
    },
    "tags": []
   },
   "outputs": [
    {
     "data": {
      "text/plain": [
       "<sklearn.metrics._plot.confusion_matrix.ConfusionMatrixDisplay at 0x7f792d3f59d0>"
      ]
     },
     "execution_count": 143,
     "metadata": {},
     "output_type": "execute_result"
    },
    {
     "data": {
      "image/png": "[encoded data removed]",
      "text/plain": [
       "<Figure size 432x288 with 2 Axes>"
      ]
     },
     "metadata": {
      "needs_background": "light"
     },
     "output_type": "display_data"
    }
   ],
   "source": [
    "plot_confusion_matrix(DC, X_test, y_test)"
   ]
  }
 ],
 "metadata": {
  "kernelspec": {
   "display_name": "Python 3",
   "language": "python",
   "name": "python3"
  },
  "language_info": {
   "codemirror_mode": {
    "name": "ipython",
    "version": 3
   },
   "file_extension": ".py",
   "mimetype": "text/x-python",
   "name": "python",
   "nbconvert_exporter": "python",
   "pygments_lexer": "ipython3",
   "version": "3.7.10"
  },
  "papermill": {
   "default_parameters": {},
   "duration": 1205.036274,
   "end_time": "2022-01-22T18:02:12.227439",
   "environment_variables": {},
   "exception": null,
   "input_path": "__notebook__.ipynb",
   "output_path": "__notebook__.ipynb",
   "parameters": {},
   "start_time": "2022-01-22T17:42:07.191165",
   "version": "2.3.3"
  }
 },
 "nbformat": 4,
 "nbformat_minor": 5
}
